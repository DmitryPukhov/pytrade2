{
 "cells": [
  {
   "cell_type": "markdown",
   "metadata": {},
   "source": [
    "# Long candle strategy  EDA\n",
    "\n",
    "Long candle strategy is classification model.\n",
    "Features: prices\n",
    "Targets: -1,0,1 signal"
   ]
  },
  {
   "cell_type": "markdown",
   "metadata": {},
   "source": [
    "To install conda and binance packages to this notebook uncomment the code below"
   ]
  },
  {
   "cell_type": "code",
   "execution_count": 10,
   "metadata": {},
   "outputs": [],
   "source": [
    "%%capture\n",
    "#%conda install -c plotly plotly=5.9.0\n",
    "#%conda install pip\n",
    "#%conda install twisted\n",
    "%pip install plotly==5.9.0\n",
    "%pip install twisted\n",
    "%pip install pandas\n",
    "#%pip install huobi-sdk==2.3.3\n",
    "\n",
    "import pandas as pd\n",
    "pd.set_option('display.max_columns', None)\n",
    "pd.set_option('display.expand_frame_repr', False)\n",
    "pd.set_option('max_colwidth', None)"
   ]
  },
  {
   "cell_type": "code",
   "execution_count": 6,
   "metadata": {},
   "outputs": [],
   "source": [
    "#mode=\"dev\" # dev - work with local dev data\n",
    "mode=\"yc\" # yc - work with data from yandex cloud bots\n",
    "\n",
    "symbol=\"BTC-USDT\"\n",
    "strategy=\"LongCandleDenseStrategy\""
   ]
  },
  {
   "cell_type": "code",
   "execution_count": 9,
   "metadata": {},
   "outputs": [
    {
     "name": "stderr",
     "output_type": "stream",
     "text": [
      "deploy_lib.sh: line 6: yc: command not found\n",
      "INFO: Retrieving list of remote files for s3://pytrade2/data/ ...\n"
     ]
    },
    {
     "name": "stdout",
     "output_type": "stream",
     "text": [
      "Sync pytrade2 data from s3://pytrade2/data to /home/dima/projects/pytrade2/deploy/yandex_cloud/../../data/yandex-cloud\n",
      "LongCandleDenseStrategy last opened: , closed: \n",
      "LSTMStrategy last opened: 2023-08-01 15:34:15.711000, closed: 2023-08-01 15:43:49.187000\n",
      "LSTMStrategy2 last opened: , closed: \n",
      "SimpleKerasStrategy last opened: , closed: \n",
      "Current time Сб 25 ноя 2023 22:43:18 UTC\n",
      "Download completed. Local data dir: ../data/yandex-cloud\n"
     ]
    },
    {
     "name": "stderr",
     "output_type": "stream",
     "text": [
      "\n",
      "!!!!!!!!!!!!!!!!!!!!!!!!!!!!!!!!!!!!!!!!!\n",
      "    An unexpected error has occurred.\n",
      "  Please try reproducing the error using\n",
      "  the latest s3cmd code from the git master\n",
      "  branch found at:\n",
      "    https://github.com/s3tools/s3cmd\n",
      "  and have a look at the known issues list:\n",
      "    https://github.com/s3tools/s3cmd/wiki/Common-known-issues-and-their-solutions-(FAQ)\n",
      "  If the error persists, please report the\n",
      "  following lines (removing any private\n",
      "  info as necessary) to:\n",
      "   s3tools-bugs@lists.sourceforge.net\n",
      "\n",
      "\n",
      "!!!!!!!!!!!!!!!!!!!!!!!!!!!!!!!!!!!!!!!!!\n",
      "\n",
      "Invoked as: /home/dima/.local/bin/s3cmd sync -v s3://pytrade2/data/ /home/dima/projects/pytrade2/deploy/yandex_cloud/../../data/yandex-cloud/\n",
      "Problem: <class 'TypeError: sequence item 1: expected str instance, bytes found\n",
      "S3cmd:   2.3.0\n",
      "python:   3.12.0 (main, Oct 21 2023, 17:44:38) [GCC 9.4.0]\n",
      "environment LANG=en_US.UTF-8\n",
      "\n",
      "Traceback (most recent call last):\n",
      "  File \"/home/dima/.local/bin/s3cmd\", line 3286, in <module>\n",
      "    rc = main()\n",
      "         ^^^^^^\n",
      "  File \"/home/dima/.local/bin/s3cmd\", line 3183, in main\n",
      "    rc = cmd_func(args)\n",
      "         ^^^^^^^^^^^^^^\n",
      "  File \"/home/dima/.local/bin/s3cmd\", line 2001, in cmd_sync\n",
      "    return cmd_sync_remote2local(args)\n",
      "           ^^^^^^^^^^^^^^^^^^^^^^^^^^^\n",
      "  File \"/home/dima/.local/bin/s3cmd\", line 1281, in cmd_sync_remote2local\n",
      "    remote_list, src_exclude_list, remote_total_size = fetch_remote_list(fetch_source_args, recursive = True, require_attribs = True)\n",
      "                                                       ^^^^^^^^^^^^^^^^^^^^^^^^^^^^^^^^^^^^^^^^^^^^^^^^^^^^^^^^^^^^^^^^^^^^^^^^^^^^^^\n",
      "  File \"/home/dima/.local/lib/python3.12/site-packages/S3/FileLists.py\", line 475, in fetch_remote_list\n",
      "    objectlist, tmp_total_size = _get_filelist_remote(uri, recursive = True)\n",
      "                                 ^^^^^^^^^^^^^^^^^^^^^^^^^^^^^^^^^^^^^^^^^^^\n",
      "  File \"/home/dima/.local/lib/python3.12/site-packages/S3/FileLists.py\", line 411, in _get_filelist_remote\n",
      "    response = s3.bucket_list(remote_uri.bucket(), prefix = remote_uri.object(),\n",
      "               ^^^^^^^^^^^^^^^^^^^^^^^^^^^^^^^^^^^^^^^^^^^^^^^^^^^^^^^^^^^^^^^^^\n",
      "  File \"/home/dima/.local/lib/python3.12/site-packages/S3/S3.py\", line 333, in bucket_list\n",
      "    for truncated, dirs, objects in self.bucket_list_streaming(bucket, prefix, recursive, uri_params, limit):\n",
      "  File \"/home/dima/.local/lib/python3.12/site-packages/S3/S3.py\", line 369, in bucket_list_streaming\n",
      "    current_list = _get_contents(response[\"data\"])\n",
      "                   ^^^^^^^^^^^^^^^^^^^^^^^^^^^^^^^\n",
      "  File \"/home/dima/.local/lib/python3.12/site-packages/S3/S3.py\", line 351, in _get_contents\n",
      "    return getListFromXml(data, \"Contents\")\n",
      "           ^^^^^^^^^^^^^^^^^^^^^^^^^^^^^^^^\n",
      "  File \"/home/dima/.local/lib/python3.12/site-packages/S3/BaseUtils.py\", line 277, in getListFromXml\n",
      "    tree = getTreeFromXml(xml)\n",
      "           ^^^^^^^^^^^^^^^^^^^\n",
      "  File \"/home/dima/.local/lib/python3.12/site-packages/S3/BaseUtils.py\", line 263, in getTreeFromXml\n",
      "    xml, xmlns = stripNameSpace(encode_to_s3(xml))\n",
      "                 ^^^^^^^^^^^^^^^^^^^^^^^^^^^^^^^^^\n",
      "  File \"/home/dima/.local/lib/python3.12/site-packages/S3/BaseUtils.py\", line 255, in stripNameSpace\n",
      "    xml = RE_XML_NAMESPACE.sub(\"\\\\1\\\\2\", xml, 1)\n",
      "          ^^^^^^^^^^^^^^^^^^^^^^^^^^^^^^^^^^^^^^\n",
      "TypeError: sequence item 1: expected str instance, bytes found\n",
      "\n",
      "!!!!!!!!!!!!!!!!!!!!!!!!!!!!!!!!!!!!!!!!!\n",
      "    An unexpected error has occurred.\n",
      "  Please try reproducing the error using\n",
      "  the latest s3cmd code from the git master\n",
      "  branch found at:\n",
      "    https://github.com/s3tools/s3cmd\n",
      "  and have a look at the known issues list:\n",
      "    https://github.com/s3tools/s3cmd/wiki/Common-known-issues-and-their-solutions-(FAQ)\n",
      "  If the error persists, please report the\n",
      "  above lines (removing any private\n",
      "  info as necessary) to:\n",
      "   s3tools-bugs@lists.sourceforge.net\n",
      "!!!!!!!!!!!!!!!!!!!!!!!!!!!!!!!!!!!!!!!!!\n",
      "\n"
     ]
    }
   ],
   "source": [
    "\n",
    "import os\n",
    "\n",
    "# Downloading latest pytrade2 data\n",
    "if mode == \"yc\":\n",
    "    os.system(\"cd ./../deploy/yandex_cloud; ./download_data.sh\")\n",
    "    data_dir=f\"../data/yandex-cloud\"\n",
    "else:\n",
    "    data_dir=f\"../data/dev\"\n",
    "    \n",
    "print(f\"Download completed. Local data dir: {data_dir}\")\n",
    "\n",
    "    "
   ]
  },
  {
   "cell_type": "markdown",
   "metadata": {},
   "source": [
    "## Account"
   ]
  },
  {
   "cell_type": "code",
   "execution_count": 4,
   "metadata": {},
   "outputs": [
    {
     "ename": "ModuleNotFoundError",
     "evalue": "No module named 'seaborn'",
     "output_type": "error",
     "traceback": [
      "\u001b[0;31m---------------------------------------------------------------------------\u001b[0m",
      "\u001b[0;31mModuleNotFoundError\u001b[0m                       Traceback (most recent call last)",
      "Cell \u001b[0;32mIn[4], line 2\u001b[0m\n\u001b[1;32m      1\u001b[0m \u001b[38;5;28;01mimport\u001b[39;00m \u001b[38;5;21;01mplotly\u001b[39;00m\u001b[38;5;21;01m.\u001b[39;00m\u001b[38;5;21;01mexpress\u001b[39;00m \u001b[38;5;28;01mas\u001b[39;00m \u001b[38;5;21;01mpx\u001b[39;00m\n\u001b[0;32m----> 2\u001b[0m \u001b[38;5;28;01mimport\u001b[39;00m \u001b[38;5;21;01mseaborn\u001b[39;00m \u001b[38;5;28;01mas\u001b[39;00m \u001b[38;5;21;01msns\u001b[39;00m\n\u001b[1;32m      3\u001b[0m \u001b[38;5;28;01mfrom\u001b[39;00m \u001b[38;5;21;01mmatplotlib\u001b[39;00m \u001b[38;5;28;01mimport\u001b[39;00m pyplot \u001b[38;5;28;01mas\u001b[39;00m plt\n\u001b[1;32m      4\u001b[0m \u001b[38;5;28;01mimport\u001b[39;00m \u001b[38;5;21;01mseaborn\u001b[39;00m \u001b[38;5;28;01mas\u001b[39;00m \u001b[38;5;21;01msns\u001b[39;00m\n",
      "\u001b[0;31mModuleNotFoundError\u001b[0m: No module named 'seaborn'"
     ]
    }
   ],
   "source": [
    "import plotly.express as px\n",
    "import seaborn as sns\n",
    "from matplotlib import pyplot as plt\n",
    "import seaborn as sns\n",
    "\n",
    "plot_figsize=(10,5)\n",
    "sns.set_style(\"darkgrid\")\n",
    "\n",
    "\n",
    "\n",
    "def get_balance(strategy: str):\n",
    "    \"\"\" Read balance history from data\"\"\"\n",
    "    \n",
    "    data_dir=f\"../data\"\n",
    "    env_dir=\"yandex-cloud\"\n",
    "    account_dir=f\"{data_dir}/{env_dir}/{strategy}/account\"\n",
    "    print(f\"Reading balance files from {account_dir}\")\n",
    "    #file_path = sorted([f for f in os.listdir(account_dir) if f.endswith(f\"{symbol}_{name}.csv\")])[-1]\n",
    "    files = sorted([f for f in os.listdir(account_dir) if f.endswith(f\".csv\")])\n",
    "    df = pd.concat([pd.read_csv(f\"{account_dir}/{f}\", parse_dates=True, index_col=\"time\") for f in files]).sort_index()\n",
    "    df[\"datetime\"] = df.index\n",
    "    return df\n",
    "\n",
    "balance = get_balance(strategy)\n",
    "balance[\"balance\"].plot()\n",
    "plt.show()\n",
    "px.line(balance, \"datetime\", \"balance\", title=f\"{strategy} balance USDT\").update_traces(mode='lines+markers').show()\n"
   ]
  },
  {
   "cell_type": "markdown",
   "metadata": {},
   "source": [
    "## Predicted and actual low/high"
   ]
  },
  {
   "cell_type": "code",
   "execution_count": null,
   "metadata": {},
   "outputs": [],
   "source": []
  },
  {
   "cell_type": "code",
   "execution_count": null,
   "metadata": {},
   "outputs": [],
   "source": [
    "import os\n",
    "import glob\n",
    "import pandas as pd\n",
    "from datetime import timedelta,date\n",
    "import matplotlib.pyplot as plt\n",
    "import plotly.express as px\n",
    "\n",
    "def read_last(symbol: str, name: str, n=1000):\n",
    "    xy_dir=f\"{data_dir}/{strategy}/Xy\"\n",
    "\n",
    "    file_path = sorted([f for f in os.listdir(xy_dir) if f.endswith(f\"{symbol}_{name}.csv\")])[-1]\n",
    "    file_path = f\"{xy_dir}/{file_path}\"\n",
    "    print(f\"Read from {file_path}\")\n",
    "    return pd.read_csv(file_path, parse_dates=True).tail(n)\n",
    "\n",
    "\n",
    "def read_last_xy(data_dir):\n",
    "    \"\"\" Read days from start to end from local predictions history\"\"\"\n",
    "    \n",
    "    #data=read_last(symbol, \"data\", n)\n",
    "    X=read_last(symbol, \"x\")\n",
    "    y=read_last(symbol, \"y\").set_index('close_time')\n",
    "    data=pd.merge(X,y, left_index=True, right_index=True) \n",
    "    #y=pd.concat([data,y])\n",
    "    return data,X,y\n",
    "\n",
    "\n",
    "# Read candles for last 3 days\n",
    "print(symbol)\n",
    "data,x,y = read_last_xy(data_dir)\n",
    "y.tail()\n"
   ]
  },
  {
   "cell_type": "code",
   "execution_count": null,
   "metadata": {},
   "outputs": [],
   "source": [
    "\n",
    "#actual_signal_counts = y['signal_actual'].diff().to_numpy().nonzero().value_counts()\n",
    "actual_signal_counts = y['signal_actual'].diff().value_counts()\n",
    "\n",
    "\n",
    "#actual_signal_counts = actual_signal_counts[actual_signal_counts['signal_actual']!=0]\n",
    "pred_signal_counts = y['signal_pred'].diff().value_counts()\n",
    "print(actual_signal_counts)\n"
   ]
  },
  {
   "cell_type": "code",
   "execution_count": null,
   "metadata": {},
   "outputs": [],
   "source": [
    "fig, (ax1, ax2) = plt.subplots(1, 2)\n",
    "\n",
    "def plot_value_counts(ax, df, col):\n",
    "    vc = df[col].value_counts()\n",
    "    label_map={0:'oom', 1:'buy', -1: 'sell'}\n",
    "    labels = [ label_map[signal] for signal in vc.index.tolist()]\n",
    "    ax.pie(y['signal_pred'].value_counts(), labels = labels)\n",
    "    ax.set_title(col)\n",
    "\n",
    "plot_value_counts(ax1, y, 'signal_pred')\n",
    "plot_value_counts(ax2, y, 'signal_actual')\n",
    "\n",
    "plt.show()\n",
    "\n",
    "#y['signal_pred'].value_counts().plot(kind='pie', title='predicted', labels=['a','b','c'], axis=ax1)\n",
    "#y['signal_pred'].value_counts().plot(kind='pie', title='predicted', labels=['a','b','c'])"
   ]
  },
  {
   "cell_type": "code",
   "execution_count": null,
   "metadata": {},
   "outputs": [],
   "source": [
    "import seaborn as sns\n",
    "\n",
    "sns.heatmap(y.corr(), annot=True)\n",
    "plt.title('Predicted and actual signal')\n",
    "plt.show()"
   ]
  },
  {
   "cell_type": "code",
   "execution_count": null,
   "metadata": {},
   "outputs": [],
   "source": [
    "from sklearn.metrics import classification_report\n",
    "\n",
    "clf_report = classification_report(y['signal_actual'],\n",
    "                                   y['signal_pred'],\n",
    "                                   #labels=['sell', 'flat', 'buy'],\n",
    "                                   target_names=['sell', 'flat', 'buy'],\n",
    "                                   output_dict=True)\n",
    "#print(clf_report)\n",
    "#sns.heatmap(pd.DataFrame(clf_report).iloc[:-1, :].T, annot=True)\n",
    "#sns.heatmap(pd.DataFrame(clf_report).iloc[:-1, :-3].T[::-1], annot=True)\n",
    "sns.heatmap(pd.DataFrame(clf_report).iloc[:-1, :].T, annot=True)"
   ]
  },
  {
   "cell_type": "code",
   "execution_count": null,
   "metadata": {},
   "outputs": [],
   "source": []
  },
  {
   "cell_type": "code",
   "execution_count": null,
   "metadata": {},
   "outputs": [],
   "source": [
    "from sklearn import metrics\n",
    "confusion_matrix = metrics.confusion_matrix(y['signal_actual'], y['signal_pred'])\n",
    "\n",
    "metrics.ConfusionMatrixDisplay(confusion_matrix = confusion_matrix, display_labels = ['Sell', 'Flat', 'Buy']).plot()\n",
    "plt.title('Confusion matrix')\n",
    "plt.show()\n",
    "print(confusion_matrix)"
   ]
  },
  {
   "cell_type": "code",
   "execution_count": null,
   "metadata": {},
   "outputs": [],
   "source": [
    "import matplotlib.pyplot as plt\n",
    "import matplotlib.dates as mdates\n",
    "\n",
    "plt.plot(y.index, y['signal_pred']-y['signal_actual'])\n",
    "plt.gca().xaxis.set_major_locator(mdates.MonthLocator(interval=5))\n",
    "plt.xticks(rotation=45)\n",
    "\n",
    "#ax.format_xdata = mdates.DateFormatter('%Y-%m-%d')\n",
    "#plt.gca().xaxis.set_major_formatter(ConsizeDateFormatter())\n",
    "plt.show()"
   ]
  },
  {
   "cell_type": "code",
   "execution_count": null,
   "metadata": {},
   "outputs": [],
   "source": [
    "import plotly.express as px\n",
    "px.bar(x=y.index, \n",
    "    y=y['signal_pred']-y['signal_actual'], \n",
    "    title='Predicted and actual signal difference. diff = predicted - actual',\n",
    "    labels = {'x': 'time', 'y':'predicted - actual'}\n",
    "      ).show()"
   ]
  }
 ],
 "metadata": {
  "kernelspec": {
   "display_name": "Python 3 (ipykernel)",
   "language": "python",
   "name": "python3"
  },
  "language_info": {
   "codemirror_mode": {
    "name": "ipython",
    "version": 3
   },
   "file_extension": ".py",
   "mimetype": "text/x-python",
   "name": "python",
   "nbconvert_exporter": "python",
   "pygments_lexer": "ipython3",
   "version": "3.12.0"
  }
 },
 "nbformat": 4,
 "nbformat_minor": 4
}
