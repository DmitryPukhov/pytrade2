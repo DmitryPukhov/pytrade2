{
 "cells": [
  {
   "cell_type": "markdown",
   "metadata": {},
   "source": [
    "# Long candle strategy  EDA\n",
    "\n",
    "Long candle strategy is classification model.\n",
    "Features: prices\n",
    "Targets: -1,0,1 signal"
   ]
  },
  {
   "cell_type": "markdown",
   "metadata": {},
   "source": [
    "To install conda and binance packages to this notebook uncomment the code below"
   ]
  },
  {
   "cell_type": "code",
   "execution_count": 1,
   "metadata": {
    "scrolled": false
   },
   "outputs": [],
   "source": [
    "%%capture\n",
    "#%conda install -c plotly plotly=5.9.0\n",
    "#%conda install pip\n",
    "#%conda install twisted\n",
    "%pip install plotly==5.9.0\n",
    "%pip install twisted\n",
    "%pip install pandas\n",
    "#%pip install huobi-sdk==2.3.3\n",
    "\n",
    "import pandas as pd\n",
    "pd.set_option('display.max_columns', None)\n",
    "pd.set_option('display.expand_frame_repr', False)\n",
    "pd.set_option('max_colwidth', None)"
   ]
  },
  {
   "cell_type": "code",
   "execution_count": 2,
   "metadata": {},
   "outputs": [],
   "source": [
    "#mode=\"dev\" # dev - work with local dev data\n",
    "mode=\"yc\" # yc - work with data from yandex cloud bots\n",
    "\n",
    "symbol=\"BTC-USDT\"\n",
    "strategy=\"LongCandleDenseStrategy\""
   ]
  },
  {
   "cell_type": "code",
   "execution_count": 3,
   "metadata": {
    "scrolled": false
   },
   "outputs": [
    {
     "name": "stderr",
     "output_type": "stream",
     "text": [
      "deploy_lib.sh: line 4: yc: command not found\n",
      "INFO: Retrieving list of remote files for s3://pytrade2/data/ ...\n"
     ]
    },
    {
     "name": "stdout",
     "output_type": "stream",
     "text": [
      "Sync pytrade2 data from s3://pytrade2/data to /home/dima/projects/pytrade2/deploy/yandex_cloud/../../data/yandex-cloud\n"
     ]
    },
    {
     "name": "stderr",
     "output_type": "stream",
     "text": [
      "INFO: No cache file found, creating it.\n",
      "INFO: Compiling list of local files...\n",
      "INFO: Running stat() and reading/calculating MD5 values on 1805 files, this may take some time...\n",
      "INFO: [1000/1805]\n"
     ]
    },
    {
     "name": "stdout",
     "output_type": "stream",
     "text": [
      "download: 's3://pytrade2/data/LongCandleDenseStrategy/Xy/2023-11-03_BTC-USDT_learn_x.csv' -> '/home/dima/projects/pytrade2/deploy/yandex_cloud/../../data/yandex-cloud/LongCandleDenseStrategy/Xy/2023-11-03_BTC-USDT_learn_x.csv'  [1 of 16]\n",
      "LongCandleDenseStrategy last opened: 2023-10-30 18:39:09.848000, closed: 2023-10-30 19:26:38.129000\n",
      "LSTMStrategy last opened: 2023-08-01 15:34:15.711000, closed: 2023-08-01 15:43:49.187000\n",
      "LSTMStrategy2 last opened: , closed: \n",
      "SimpleKerasStrategy last opened: 2023-07-07 17:06:28.241000, closed: 2023-07-07 17:11:10.986000\n",
      "Current time Сб 04 ноя 2023 06:34:35 UTC\n",
      "Download completed. Local data dir: ../data/yandex-cloud\n"
     ]
    },
    {
     "name": "stderr",
     "output_type": "stream",
     "text": [
      "INFO: Found 142 remote files, 1805 local files\n",
      "INFO: Verifying attributes...\n",
      "INFO: disabled md5 check for LongCandleDenseStrategy/Xy/2023-10-07_BTC-USDT_x.csv\n",
      "INFO: disabled md5 check for LongCandleDenseStrategy/Xy/2023-10-08_BTC-USDT_x.csv\n",
      "INFO: disabled md5 check for LongCandleDenseStrategy/Xy/2023-10-09_BTC-USDT_x.csv\n",
      "INFO: Summary: 16 remote files to download, 1674 local files to delete, 0 local files to hardlink\n",
      "ERROR: Download of 'LongCandleDenseStrategy/Xy/2023-11-03_BTC-USDT_learn_x.csv' failed (Reason: Unknown OsError 0)\n",
      "ERROR: Exiting now because of fatal error\n",
      "\n",
      "!!!!!!!!!!!!!!!!!!!!!!!!!!!!!!!!!!!!!!!!!\n",
      "    An unexpected error has occurred.\n",
      "  Please try reproducing the error using\n",
      "  the latest s3cmd code from the git master\n",
      "  branch found at:\n",
      "    https://github.com/s3tools/s3cmd\n",
      "  and have a look at the known issues list:\n",
      "    https://github.com/s3tools/s3cmd/wiki/Common-known-issues-and-their-solutions\n",
      "  If the error persists, please report the\n",
      "  following lines (removing any private\n",
      "  info as necessary) to:\n",
      "   s3tools-bugs@lists.sourceforge.net\n",
      "\n",
      "\n",
      "!!!!!!!!!!!!!!!!!!!!!!!!!!!!!!!!!!!!!!!!!\n",
      "\n",
      "Invoked as: /usr/bin/s3cmd sync -v s3://pytrade2/data/ /home/dima/projects/pytrade2/deploy/yandex_cloud/../../data/yandex-cloud/\n",
      "Problem: RemoteDisconnected: Remote end closed connection without response\n",
      "S3cmd:   2.0.2\n",
      "python:   3.8.10 (default, May 26 2023, 14:05:08) \n",
      "[GCC 9.4.0]\n",
      "environment LANG=en_US.UTF-8\n",
      "\n",
      "Traceback (most recent call last):\n",
      "  File \"/usr/bin/s3cmd\", line 3092, in <module>\n",
      "    rc = main()\n",
      "  File \"/usr/bin/s3cmd\", line 3001, in main\n",
      "    rc = cmd_func(args)\n",
      "  File \"/usr/bin/s3cmd\", line 1887, in cmd_sync\n",
      "    return cmd_sync_remote2local(args)\n",
      "  File \"/usr/bin/s3cmd\", line 1475, in cmd_sync_remote2local\n",
      "    ret, seq, size_transferred = _download(remote_list, seq, remote_count + update_count, size_transferred, dir_cache)\n",
      "  File \"/usr/bin/s3cmd\", line 1321, in _download\n",
      "    response = s3.object_get(uri, dst_stream, dst_file, extra_label = seq_label)\n",
      "  File \"/usr/lib/python3/dist-packages/S3/S3.py\", line 716, in object_get\n",
      "    response = self.recv_file(request, stream, labels, start_position)\n",
      "  File \"/usr/lib/python3/dist-packages/S3/S3.py\", line 1655, in recv_file\n",
      "    http_response = conn.c.getresponse()\n",
      "  File \"/usr/lib/python3.8/http/client.py\", line 1348, in getresponse\n",
      "    response.begin()\n",
      "  File \"/usr/lib/python3/dist-packages/S3/Custom_httplib3x.py\", line 53, in httpresponse_patched_begin\n",
      "    version, status, reason = self._read_status()\n",
      "  File \"/usr/lib/python3.8/http/client.py\", line 285, in _read_status\n",
      "    raise RemoteDisconnected(\"Remote end closed connection without\"\n",
      "http.client.RemoteDisconnected: Remote end closed connection without response\n",
      "\n",
      "!!!!!!!!!!!!!!!!!!!!!!!!!!!!!!!!!!!!!!!!!\n",
      "    An unexpected error has occurred.\n",
      "  Please try reproducing the error using\n",
      "  the latest s3cmd code from the git master\n",
      "  branch found at:\n",
      "    https://github.com/s3tools/s3cmd\n",
      "  and have a look at the known issues list:\n",
      "    https://github.com/s3tools/s3cmd/wiki/Common-known-issues-and-their-solutions\n",
      "  If the error persists, please report the\n",
      "  above lines (removing any private\n",
      "  info as necessary) to:\n",
      "   s3tools-bugs@lists.sourceforge.net\n",
      "!!!!!!!!!!!!!!!!!!!!!!!!!!!!!!!!!!!!!!!!!\n",
      "\n"
     ]
    }
   ],
   "source": [
    "\n",
    "import os\n",
    "\n",
    "# Downloading latest pytrade2 data\n",
    "if mode == \"yc\":\n",
    "    os.system(\"cd ./../deploy/yandex_cloud; ./download_data.sh\")\n",
    "    data_dir=f\"../data/yandex-cloud\"\n",
    "else:\n",
    "    data_dir=f\"../data/dev\"\n",
    "    \n",
    "print(f\"Download completed. Local data dir: {data_dir}\")\n",
    "\n",
    "    "
   ]
  },
  {
   "cell_type": "markdown",
   "metadata": {},
   "source": [
    "## Account"
   ]
  },
  {
   "cell_type": "code",
   "execution_count": 4,
   "metadata": {},
   "outputs": [
    {
     "name": "stdout",
     "output_type": "stream",
     "text": [
      "Reading balance files from ../data/yandex-cloud/LongCandleDenseStrategy/account\n"
     ]
    },
    {
     "data": {
      "image/png": "[encoded data removed]",
      "text/plain": [
       "<Figure size 640x480 with 1 Axes>"
      ]
     },
     "metadata": {},
     "output_type": "display_data"
    }
   ],
   "source": [
    "import plotly.express as px\n",
    "import seaborn as sns\n",
    "from matplotlib import pyplot as plt\n",
    "import seaborn as sns\n",
    "\n",
    "plot_figsize=(10,5)\n",
    "sns.set_style(\"darkgrid\")\n",
    "\n",
    "\n",
    "\n",
    "def get_balance(strategy: str):\n",
    "    \"\"\" Read balance history from data\"\"\"\n",
    "    \n",
    "    data_dir=f\"../data\"\n",
    "    env_dir=\"yandex-cloud\"\n",
    "    account_dir=f\"{data_dir}/{env_dir}/{strategy}/account\"\n",
    "    print(f\"Reading balance files from {account_dir}\")\n",
    "    #file_path = sorted([f for f in os.listdir(account_dir) if f.endswith(f\"{symbol}_{name}.csv\")])[-1]\n",
    "    files = sorted([f for f in os.listdir(account_dir) if f.endswith(f\".csv\")])\n",
    "    df = pd.concat([pd.read_csv(f\"{account_dir}/{f}\", parse_dates=True, index_col=\"time\") for f in files]).sort_index()\n",
    "    df[\"datetime\"] = df.index\n",
    "    return df\n",
    "\n",
    "balance = get_balance(strategy)\n",
    "balance[\"balance\"].plot()\n",
    "plt.show()\n",
    "px.line(balance, \"datetime\", \"balance\", title=f\"{strategy} balance USDT\").update_traces(mode='lines+markers').show()\n"
   ]
  },
  {
   "cell_type": "markdown",
   "metadata": {},
   "source": [
    "## Predicted and actual low/high"
   ]
  },
  {
   "cell_type": "code",
   "execution_count": 5,
   "metadata": {},
   "outputs": [
    {
     "name": "stdout",
     "output_type": "stream",
     "text": [
      "BTC-USDT\n",
      "Read from ../data/yandex-cloud/LongCandleDenseStrategy/Xy/2023-11-02_BTC-USDT_x.csv\n",
      "Read from ../data/yandex-cloud/LongCandleDenseStrategy/Xy/2023-11-02_BTC-USDT_y.csv\n"
     ]
    },
    {
     "data": {
      "text/html": [
       "<div>\n",
       "<style scoped>\n",
       "    .dataframe tbody tr th:only-of-type {\n",
       "        vertical-align: middle;\n",
       "    }\n",
       "\n",
       "    .dataframe tbody tr th {\n",
       "        vertical-align: top;\n",
       "    }\n",
       "\n",
       "    .dataframe thead th {\n",
       "        text-align: right;\n",
       "    }\n",
       "</style>\n",
       "<table border=\"1\" class=\"dataframe\">\n",
       "  <thead>\n",
       "    <tr style=\"text-align: right;\">\n",
       "      <th></th>\n",
       "      <th>signal_pred</th>\n",
       "      <th>signal_actual</th>\n",
       "    </tr>\n",
       "    <tr>\n",
       "      <th>close_time</th>\n",
       "      <th></th>\n",
       "      <th></th>\n",
       "    </tr>\n",
       "  </thead>\n",
       "  <tbody>\n",
       "    <tr>\n",
       "      <th>2023-11-02 06:03:42.520</th>\n",
       "      <td>1</td>\n",
       "      <td>1</td>\n",
       "    </tr>\n",
       "    <tr>\n",
       "      <th>2023-11-02 06:04:45.911</th>\n",
       "      <td>0</td>\n",
       "      <td>0</td>\n",
       "    </tr>\n",
       "    <tr>\n",
       "      <th>2023-11-02 06:05:49.499</th>\n",
       "      <td>0</td>\n",
       "      <td>0</td>\n",
       "    </tr>\n",
       "    <tr>\n",
       "      <th>2023-11-02 06:06:53.199</th>\n",
       "      <td>0</td>\n",
       "      <td>0</td>\n",
       "    </tr>\n",
       "    <tr>\n",
       "      <th>2023-11-02 06:07:56.598</th>\n",
       "      <td>0</td>\n",
       "      <td>0</td>\n",
       "    </tr>\n",
       "  </tbody>\n",
       "</table>\n",
       "</div>"
      ],
      "text/plain": [
       "                         signal_pred  signal_actual\n",
       "close_time                                         \n",
       "2023-11-02 06:03:42.520            1              1\n",
       "2023-11-02 06:04:45.911            0              0\n",
       "2023-11-02 06:05:49.499            0              0\n",
       "2023-11-02 06:06:53.199            0              0\n",
       "2023-11-02 06:07:56.598            0              0"
      ]
     },
     "execution_count": 5,
     "metadata": {},
     "output_type": "execute_result"
    }
   ],
   "source": [
    "import os\n",
    "import glob\n",
    "import pandas as pd\n",
    "from datetime import timedelta,date\n",
    "import matplotlib.pyplot as plt\n",
    "import plotly.express as px\n",
    "\n",
    "def read_last(symbol: str, name: str, n=1000):\n",
    "    xy_dir=f\"{data_dir}/{strategy}/Xy\"\n",
    "\n",
    "    file_path = sorted([f for f in os.listdir(xy_dir) if f.endswith(f\"{symbol}_{name}.csv\")])[-1]\n",
    "    file_path = f\"{xy_dir}/{file_path}\"\n",
    "    print(f\"Read from {file_path}\")\n",
    "    return pd.read_csv(file_path, parse_dates=True).tail(n)\n",
    "\n",
    "\n",
    "def read_last_xy(data_dir):\n",
    "    \"\"\" Read days from start to end from local predictions history\"\"\"\n",
    "    \n",
    "    #data=read_last(symbol, \"data\", n)\n",
    "    X=read_last(symbol, \"x\")\n",
    "    y=read_last(symbol, \"y\").set_index('close_time')\n",
    "    data=pd.merge(X,y, left_index=True, right_index=True) \n",
    "    #y=pd.concat([data,y])\n",
    "    return data,X,y\n",
    "\n",
    "\n",
    "# Read candles for last 3 days\n",
    "print(symbol)\n",
    "data,x,y = read_last_xy(data_dir)\n",
    "y.tail()\n"
   ]
  },
  {
   "cell_type": "code",
   "execution_count": 6,
   "metadata": {
    "scrolled": false
   },
   "outputs": [
    {
     "data": {
      "image/png": "[encoded data removed]",
      "text/plain": [
       "<Figure size 640x480 with 2 Axes>"
      ]
     },
     "metadata": {},
     "output_type": "display_data"
    }
   ],
   "source": [
    "import seaborn as sns\n",
    "\n",
    "sns.heatmap(y.corr(), annot=True)\n",
    "plt.title('Predicted and actual signal')\n",
    "plt.show()"
   ]
  },
  {
   "cell_type": "code",
   "execution_count": 7,
   "metadata": {},
   "outputs": [
    {
     "data": {
      "text/plain": [
       "<AxesSubplot:>"
      ]
     },
     "execution_count": 7,
     "metadata": {},
     "output_type": "execute_result"
    },
    {
     "data": {
      "image/png": "[encoded data removed]",
      "text/plain": [
       "<Figure size 640x480 with 2 Axes>"
      ]
     },
     "metadata": {},
     "output_type": "display_data"
    }
   ],
   "source": [
    "from sklearn.metrics import classification_report\n",
    "\n",
    "clf_report = classification_report(y['signal_actual'],\n",
    "                                   y['signal_pred'],\n",
    "                                   #labels=['sell', 'flat', 'buy'],\n",
    "                                   target_names=['sell', 'flat', 'buy'],\n",
    "                                   output_dict=True)\n",
    "#print(clf_report)\n",
    "#sns.heatmap(pd.DataFrame(clf_report).iloc[:-1, :].T, annot=True)\n",
    "#sns.heatmap(pd.DataFrame(clf_report).iloc[:-1, :-3].T[::-1], annot=True)\n",
    "sns.heatmap(pd.DataFrame(clf_report).iloc[:-1, :].T, annot=True)"
   ]
  },
  {
   "cell_type": "code",
   "execution_count": null,
   "metadata": {},
   "outputs": [],
   "source": []
  },
  {
   "cell_type": "code",
   "execution_count": 8,
   "metadata": {},
   "outputs": [
    {
     "data": {
      "image/png": "[encoded data removed]",
      "text/plain": [
       "<Figure size 640x480 with 2 Axes>"
      ]
     },
     "metadata": {},
     "output_type": "display_data"
    },
    {
     "name": "stdout",
     "output_type": "stream",
     "text": [
      "[[ 26   0   0]\n",
      " [  1 267   7]\n",
      " [  0   2  46]]\n"
     ]
    }
   ],
   "source": [
    "from sklearn import metrics\n",
    "confusion_matrix = metrics.confusion_matrix(y['signal_actual'], y['signal_pred'])\n",
    "\n",
    "metrics.ConfusionMatrixDisplay(confusion_matrix = confusion_matrix, display_labels = ['Sell', 'Flat', 'Buy']).plot()\n",
    "plt.title('Confusion matrix')\n",
    "plt.show()\n",
    "print(confusion_matrix)"
   ]
  },
  {
   "cell_type": "code",
   "execution_count": 9,
   "metadata": {},
   "outputs": [
    {
     "data": {
      "image/png": "[encoded data removed]",
      "text/plain": [
       "<Figure size 640x480 with 1 Axes>"
      ]
     },
     "metadata": {},
     "output_type": "display_data"
    }
   ],
   "source": [
    "import matplotlib.pyplot as plt\n",
    "import matplotlib.dates as mdates\n",
    "\n",
    "plt.plot(y.index, y['signal_pred']-y['signal_actual'])\n",
    "plt.gca().xaxis.set_major_locator(mdates.MonthLocator(interval=5))\n",
    "plt.xticks(rotation=45)\n",
    "\n",
    "#ax.format_xdata = mdates.DateFormatter('%Y-%m-%d')\n",
    "#plt.gca().xaxis.set_major_formatter(ConsizeDateFormatter())\n",
    "plt.show()"
   ]
  },
  {
   "cell_type": "code",
   "execution_count": 10,
   "metadata": {},
   "outputs": [
    {
     "data": {
      "application/vnd.plotly.v1+json": {
       "config": {
        "plotlyServerURL": "https://plot.ly"
       },
       "data": [
        {
         "alignmentgroup": "True",
         "hovertemplate": "time=%{x}<br>predicted - actual=%{y}<extra></extra>",
         "legendgroup": "",
         "marker": {
          "color": "#636efa",
          "pattern": {
           "shape": ""
          }
         },
         "name": "",
         "offsetgroup": "",
         "orientation": "v",
         "showlegend": false,
         "textposition": "auto",
         "type": "bar",
         "x": [
          "2023-11-02 00:00:01.904",
          "2023-11-02 00:01:04.766",
          "2023-11-02 00:02:07.340",
          "2023-11-02 00:03:09.983",
          "2023-11-02 00:04:13.383",
          "2023-11-02 00:05:16.920",
          "2023-11-02 00:06:19.842",
          "2023-11-02 00:07:23.617",
          "2023-11-02 00:08:27.071",
          "2023-11-02 00:09:31.008",
          "2023-11-02 00:10:34.510",
          "2023-11-02 00:11:38.951",
          "2023-11-02 00:12:43.791",
          "2023-11-02 00:13:47.293",
          "2023-11-02 00:14:50.778",
          "2023-11-02 00:15:54.192",
          "2023-11-02 00:16:57.065",
          "2023-11-02 00:18:00.486",
          "2023-11-02 00:19:03.973",
          "2023-11-02 00:20:07.380",
          "2023-11-02 00:21:10.779",
          "2023-11-02 00:22:14.444",
          "2023-11-02 00:23:20.634",
          "2023-11-02 00:24:24.028",
          "2023-11-02 00:25:27.508",
          "2023-11-02 00:26:31.260",
          "2023-11-02 00:27:35.314",
          "2023-11-02 00:28:38.752",
          "2023-11-02 00:29:42.268",
          "2023-11-02 00:30:45.673",
          "2023-11-02 00:31:49.134",
          "2023-11-02 00:32:52.882",
          "2023-11-02 00:33:56.464",
          "2023-11-02 00:34:59.930",
          "2023-11-02 00:36:03.383",
          "2023-11-02 00:37:07.082",
          "2023-11-02 00:38:10.109",
          "2023-11-02 00:39:13.556",
          "2023-11-02 00:40:17.850",
          "2023-11-02 00:41:21.312",
          "2023-11-02 00:42:25.047",
          "2023-11-02 00:43:28.712",
          "2023-11-02 00:44:32.180",
          "2023-11-02 00:45:35.677",
          "2023-11-02 00:46:39.121",
          "2023-11-02 00:47:42.520",
          "2023-11-02 00:48:45.481",
          "2023-11-02 00:49:48.832",
          "2023-11-02 00:50:53.220",
          "2023-11-02 00:51:56.560",
          "2023-11-02 00:52:59.119",
          "2023-11-02 00:54:02.611",
          "2023-11-02 00:55:05.300",
          "2023-11-02 00:56:08.713",
          "2023-11-02 00:57:11.336",
          "2023-11-02 00:58:14.793",
          "2023-11-02 00:59:18.932",
          "2023-11-02 01:00:22.392",
          "2023-11-02 01:01:25.882",
          "2023-11-02 01:02:29.326",
          "2023-11-02 01:03:32.802",
          "2023-11-02 01:04:36.194",
          "2023-11-02 01:05:39.607",
          "2023-11-02 01:06:43.023",
          "2023-11-02 01:07:46.567",
          "2023-11-02 01:08:49.931",
          "2023-11-02 01:09:53.306",
          "2023-11-02 01:10:56.659",
          "2023-11-02 01:11:59.967",
          "2023-11-02 01:13:03.036",
          "2023-11-02 01:14:06.926",
          "2023-11-02 01:15:10.259",
          "2023-11-02 01:16:13.561",
          "2023-11-02 01:17:16.959",
          "2023-11-02 01:18:20.492",
          "2023-11-02 01:19:24.092",
          "2023-11-02 01:20:27.482",
          "2023-11-02 01:21:32.090",
          "2023-11-02 01:22:35.664",
          "2023-11-02 01:23:39.100",
          "2023-11-02 01:24:43.168",
          "2023-11-02 01:25:46.583",
          "2023-11-02 01:26:49.968",
          "2023-11-02 01:27:53.376",
          "2023-11-02 01:28:56.808",
          "2023-11-02 01:30:00.236",
          "2023-11-02 01:31:04.092",
          "2023-11-02 01:32:07.578",
          "2023-11-02 01:33:10.687",
          "2023-11-02 01:34:14.089",
          "2023-11-02 01:35:17.489",
          "2023-11-02 01:36:20.153",
          "2023-11-02 01:37:23.588",
          "2023-11-02 01:38:26.989",
          "2023-11-02 01:39:30.364",
          "2023-11-02 01:40:33.798",
          "2023-11-02 01:41:35.833",
          "2023-11-02 01:42:39.186",
          "2023-11-02 01:43:42.575",
          "2023-11-02 01:44:46.017",
          "2023-11-02 01:45:49.450",
          "2023-11-02 01:46:52.784",
          "2023-11-02 01:47:56.168",
          "2023-11-02 01:48:59.028",
          "2023-11-02 01:50:02.499",
          "2023-11-02 01:51:05.312",
          "2023-11-02 01:52:08.753",
          "2023-11-02 01:53:12.219",
          "2023-11-02 01:54:15.614",
          "2023-11-02 01:55:18.260",
          "2023-11-02 01:56:20.884",
          "2023-11-02 01:57:24.269",
          "2023-11-02 01:58:28.690",
          "2023-11-02 01:59:32.126",
          "2023-11-02 02:00:34.966",
          "2023-11-02 02:01:38.374",
          "2023-11-02 02:02:41.855",
          "2023-11-02 02:03:45.093",
          "2023-11-02 02:04:48.456",
          "2023-11-02 02:05:51.759",
          "2023-11-02 02:06:55.173",
          "2023-11-02 02:07:59.469",
          "2023-11-02 02:09:02.974",
          "2023-11-02 02:10:06.383",
          "2023-11-02 02:11:09.982",
          "2023-11-02 02:12:14.341",
          "2023-11-02 02:13:17.232",
          "2023-11-02 02:14:20.678",
          "2023-11-02 02:15:24.058",
          "2023-11-02 02:16:26.666",
          "2023-11-02 02:17:30.080",
          "2023-11-02 02:18:33.049",
          "2023-11-02 02:19:38.556",
          "2023-11-02 02:20:42.054",
          "2023-11-02 02:21:44.762",
          "2023-11-02 02:22:48.108",
          "2023-11-02 02:23:51.542",
          "2023-11-02 02:24:54.944",
          "2023-11-02 02:25:58.264",
          "2023-11-02 02:27:01.633",
          "2023-11-02 02:28:05.376",
          "2023-11-02 02:29:08.997",
          "2023-11-02 02:30:12.424",
          "2023-11-02 02:31:15.902",
          "2023-11-02 02:32:19.314",
          "2023-11-02 02:33:22.712",
          "2023-11-02 02:34:25.567",
          "2023-11-02 02:35:28.934",
          "2023-11-02 02:36:32.106",
          "2023-11-02 02:37:35.477",
          "2023-11-02 02:38:38.835",
          "2023-11-02 02:39:42.227",
          "2023-11-02 02:40:46.946",
          "2023-11-02 02:41:49.805",
          "2023-11-02 02:42:52.368",
          "2023-11-02 02:43:55.765",
          "2023-11-02 02:45:00.229",
          "2023-11-02 02:46:02.377",
          "2023-11-02 02:47:05.738",
          "2023-11-02 02:48:09.434",
          "2023-11-02 02:49:12.938",
          "2023-11-02 02:50:15.594",
          "2023-11-02 02:51:19.079",
          "2023-11-02 02:52:22.467",
          "2023-11-02 02:53:25.795",
          "2023-11-02 02:54:28.377",
          "2023-11-02 02:55:31.799",
          "2023-11-02 02:56:35.387",
          "2023-11-02 02:57:38.832",
          "2023-11-02 02:58:42.278",
          "2023-11-02 02:59:45.803",
          "2023-11-02 03:00:50.345",
          "2023-11-02 03:01:53.820",
          "2023-11-02 03:02:57.257",
          "2023-11-02 03:04:00.707",
          "2023-11-02 03:05:04.084",
          "2023-11-02 03:06:07.524",
          "2023-11-02 03:07:10.932",
          "2023-11-02 03:08:15.328",
          "2023-11-02 03:09:18.680",
          "2023-11-02 03:10:22.111",
          "2023-11-02 03:11:24.726",
          "2023-11-02 03:12:28.119",
          "2023-11-02 03:13:31.544",
          "2023-11-02 03:14:35.224",
          "2023-11-02 03:15:38.845",
          "2023-11-02 03:16:42.507",
          "2023-11-02 03:17:45.097",
          "2023-11-02 03:18:48.524",
          "2023-11-02 03:19:52.393",
          "2023-11-02 03:20:54.971",
          "2023-11-02 03:21:58.634",
          "2023-11-02 03:23:02.033",
          "2023-11-02 03:24:04.969",
          "2023-11-02 03:25:07.596",
          "2023-11-02 03:26:10.538",
          "2023-11-02 03:27:18.583",
          "2023-11-02 03:28:22.060",
          "2023-11-02 03:29:25.912",
          "2023-11-02 03:30:29.354",
          "2023-11-02 03:31:32.772",
          "2023-11-02 03:32:36.255",
          "2023-11-02 03:33:39.584",
          "2023-11-02 03:34:42.988",
          "2023-11-02 03:35:45.687",
          "2023-11-02 03:36:49.042",
          "2023-11-02 03:37:52.553",
          "2023-11-02 03:38:55.912",
          "2023-11-02 03:39:59.305",
          "2023-11-02 03:41:02.783",
          "2023-11-02 03:42:06.161",
          "2023-11-02 03:43:09.589",
          "2023-11-02 03:44:13.055",
          "2023-11-02 03:45:17.411",
          "2023-11-02 03:46:20.847",
          "2023-11-02 03:47:24.221",
          "2023-11-02 03:48:27.855",
          "2023-11-02 03:49:30.836",
          "2023-11-02 03:50:34.280",
          "2023-11-02 03:51:37.677",
          "2023-11-02 03:52:41.089",
          "2023-11-02 03:53:44.473",
          "2023-11-02 03:54:47.836",
          "2023-11-02 03:55:51.263",
          "2023-11-02 03:56:54.747",
          "2023-11-02 03:57:57.334",
          "2023-11-02 03:59:00.728",
          "2023-11-02 04:00:04.081",
          "2023-11-02 04:01:07.436",
          "2023-11-02 04:02:10.792",
          "2023-11-02 04:03:14.136",
          "2023-11-02 04:04:17.572",
          "2023-11-02 04:05:20.879",
          "2023-11-02 04:06:24.405",
          "2023-11-02 04:07:28.184",
          "2023-11-02 04:08:31.648",
          "2023-11-02 04:09:35.169",
          "2023-11-02 04:10:38.885",
          "2023-11-02 04:11:42.401",
          "2023-11-02 04:12:45.250",
          "2023-11-02 04:13:48.646",
          "2023-11-02 04:14:52.153",
          "2023-11-02 04:15:54.758",
          "2023-11-02 04:16:58.090",
          "2023-11-02 04:18:01.565",
          "2023-11-02 04:19:05.085",
          "2023-11-02 04:20:08.487",
          "2023-11-02 04:21:13.376",
          "2023-11-02 04:22:16.822",
          "2023-11-02 04:23:20.235",
          "2023-11-02 04:24:22.767",
          "2023-11-02 04:25:26.144",
          "2023-11-02 04:26:29.568",
          "2023-11-02 04:27:33.461",
          "2023-11-02 04:28:36.884",
          "2023-11-02 04:29:40.244",
          "2023-11-02 04:30:43.651",
          "2023-11-02 04:31:47.280",
          "2023-11-02 04:32:50.697",
          "2023-11-02 04:33:54.073",
          "2023-11-02 04:34:57.418",
          "2023-11-02 04:36:00.850",
          "2023-11-02 04:37:04.479",
          "2023-11-02 04:38:07.136",
          "2023-11-02 04:39:10.613",
          "2023-11-02 04:40:13.978",
          "2023-11-02 04:41:16.622",
          "2023-11-02 04:42:20.264",
          "2023-11-02 04:43:23.698",
          "2023-11-02 04:44:26.895",
          "2023-11-02 04:45:30.350",
          "2023-11-02 04:46:33.785",
          "2023-11-02 04:47:37.464",
          "2023-11-02 04:48:40.283",
          "2023-11-02 04:49:43.114",
          "2023-11-02 04:50:47.152",
          "2023-11-02 04:51:50.503",
          "2023-11-02 04:52:54.165",
          "2023-11-02 04:53:58.912",
          "2023-11-02 04:55:02.270",
          "2023-11-02 04:56:05.651",
          "2023-11-02 04:57:09.050",
          "2023-11-02 04:58:12.471",
          "2023-11-02 04:59:15.907",
          "2023-11-02 05:00:19.345",
          "2023-11-02 05:01:22.833",
          "2023-11-02 05:02:26.267",
          "2023-11-02 05:03:29.729",
          "2023-11-02 05:04:33.229",
          "2023-11-02 05:05:36.942",
          "2023-11-02 05:06:39.583",
          "2023-11-02 05:07:42.971",
          "2023-11-02 05:08:46.382",
          "2023-11-02 05:09:49.098",
          "2023-11-02 05:10:51.662",
          "2023-11-02 05:11:55.050",
          "2023-11-02 05:12:57.945",
          "2023-11-02 05:14:01.458",
          "2023-11-02 05:15:05.149",
          "2023-11-02 05:16:08.597",
          "2023-11-02 05:17:12.038",
          "2023-11-02 05:18:15.762",
          "2023-11-02 05:19:19.247",
          "2023-11-02 05:20:22.630",
          "2023-11-02 05:21:26.042",
          "2023-11-02 05:22:29.497",
          "2023-11-02 05:23:32.087",
          "2023-11-02 05:24:34.652",
          "2023-11-02 05:25:38.015",
          "2023-11-02 05:26:41.370",
          "2023-11-02 05:27:44.487",
          "2023-11-02 05:28:47.875",
          "2023-11-02 05:29:51.285",
          "2023-11-02 05:30:54.751",
          "2023-11-02 05:31:58.504",
          "2023-11-02 05:33:02.777",
          "2023-11-02 05:34:06.238",
          "2023-11-02 05:35:09.643",
          "2023-11-02 05:36:12.309",
          "2023-11-02 05:37:17.564",
          "2023-11-02 05:38:20.934",
          "2023-11-02 05:39:24.368",
          "2023-11-02 05:40:28.105",
          "2023-11-02 05:41:30.751",
          "2023-11-02 05:42:34.136",
          "2023-11-02 05:43:37.561",
          "2023-11-02 05:44:40.936",
          "2023-11-02 05:45:44.575",
          "2023-11-02 05:46:47.968",
          "2023-11-02 05:47:51.375",
          "2023-11-02 05:48:54.826",
          "2023-11-02 05:49:58.278",
          "2023-11-02 05:51:01.694",
          "2023-11-02 05:52:04.756",
          "2023-11-02 05:53:09.169",
          "2023-11-02 05:54:13.182",
          "2023-11-02 05:55:16.567",
          "2023-11-02 05:56:19.860",
          "2023-11-02 05:57:23.285",
          "2023-11-02 05:58:26.689",
          "2023-11-02 05:59:29.339",
          "2023-11-02 06:00:32.303",
          "2023-11-02 06:01:35.647",
          "2023-11-02 06:02:39.101",
          "2023-11-02 06:03:42.520",
          "2023-11-02 06:04:45.911",
          "2023-11-02 06:05:49.499",
          "2023-11-02 06:06:53.199",
          "2023-11-02 06:07:56.598"
         ],
         "xaxis": "x",
         "y": [
          1,
          1,
          1,
          0,
          1,
          1,
          1,
          -1,
          1,
          0,
          0,
          0,
          0,
          0,
          0,
          0,
          0,
          0,
          0,
          0,
          0,
          0,
          0,
          0,
          0,
          0,
          0,
          0,
          0,
          0,
          0,
          0,
          0,
          0,
          0,
          0,
          0,
          0,
          0,
          0,
          0,
          0,
          0,
          0,
          0,
          0,
          0,
          0,
          0,
          0,
          0,
          0,
          0,
          0,
          0,
          0,
          0,
          0,
          0,
          0,
          0,
          0,
          0,
          0,
          0,
          0,
          0,
          0,
          0,
          0,
          0,
          0,
          0,
          0,
          0,
          0,
          0,
          0,
          0,
          0,
          0,
          0,
          0,
          0,
          0,
          0,
          0,
          0,
          0,
          0,
          0,
          0,
          0,
          0,
          0,
          0,
          0,
          0,
          0,
          0,
          0,
          0,
          0,
          0,
          0,
          0,
          0,
          0,
          0,
          0,
          0,
          0,
          0,
          0,
          0,
          0,
          0,
          0,
          0,
          0,
          0,
          0,
          0,
          0,
          0,
          0,
          0,
          0,
          0,
          0,
          0,
          0,
          0,
          0,
          0,
          0,
          0,
          0,
          0,
          0,
          0,
          0,
          0,
          0,
          0,
          0,
          0,
          0,
          0,
          0,
          0,
          0,
          0,
          0,
          0,
          0,
          0,
          0,
          0,
          -1,
          0,
          0,
          0,
          0,
          0,
          0,
          0,
          0,
          0,
          0,
          0,
          0,
          0,
          -1,
          0,
          0,
          0,
          0,
          0,
          0,
          0,
          0,
          0,
          0,
          0,
          0,
          0,
          0,
          0,
          0,
          0,
          0,
          0,
          0,
          0,
          0,
          0,
          0,
          0,
          0,
          0,
          0,
          0,
          0,
          0,
          0,
          0,
          0,
          0,
          0,
          0,
          0,
          0,
          0,
          0,
          0,
          0,
          0,
          0,
          0,
          0,
          0,
          0,
          0,
          0,
          0,
          0,
          0,
          0,
          0,
          0,
          0,
          0,
          0,
          0,
          0,
          0,
          0,
          0,
          0,
          0,
          0,
          0,
          0,
          0,
          0,
          0,
          0,
          0,
          0,
          0,
          0,
          0,
          0,
          0,
          0,
          0,
          0,
          0,
          0,
          0,
          0,
          0,
          0,
          0,
          0,
          0,
          0,
          0,
          0,
          0,
          0,
          0,
          0,
          0,
          0,
          0,
          0,
          0,
          0,
          0,
          0,
          0,
          0,
          0,
          0,
          0,
          0,
          0,
          0,
          0,
          0,
          0,
          0,
          0,
          0,
          0,
          0,
          0,
          0,
          0,
          0,
          0,
          0,
          0,
          0,
          0,
          0,
          0,
          0,
          0,
          0,
          0,
          0,
          0,
          0,
          0,
          0,
          0,
          0,
          0,
          0,
          0,
          0,
          0,
          0,
          0,
          0,
          0,
          0,
          0,
          0,
          0,
          0,
          0,
          0,
          0,
          0,
          0,
          0,
          0,
          0,
          0,
          0,
          0,
          0,
          0,
          0,
          0
         ],
         "yaxis": "y"
        }
       ],
       "layout": {
        "barmode": "relative",
        "legend": {
         "tracegroupgap": 0
        },
        "template": {
         "data": {
          "bar": [
           {
            "error_x": {
             "color": "#2a3f5f"
            },
            "error_y": {
             "color": "#2a3f5f"
            },
            "marker": {
             "line": {
              "color": "#E5ECF6",
              "width": 0.5
             },
             "pattern": {
              "fillmode": "overlay",
              "size": 10,
              "solidity": 0.2
             }
            },
            "type": "bar"
           }
          ],
          "barpolar": [
           {
            "marker": {
             "line": {
              "color": "#E5ECF6",
              "width": 0.5
             },
             "pattern": {
              "fillmode": "overlay",
              "size": 10,
              "solidity": 0.2
             }
            },
            "type": "barpolar"
           }
          ],
          "carpet": [
           {
            "aaxis": {
             "endlinecolor": "#2a3f5f",
             "gridcolor": "white",
             "linecolor": "white",
             "minorgridcolor": "white",
             "startlinecolor": "#2a3f5f"
            },
            "baxis": {
             "endlinecolor": "#2a3f5f",
             "gridcolor": "white",
             "linecolor": "white",
             "minorgridcolor": "white",
             "startlinecolor": "#2a3f5f"
            },
            "type": "carpet"
           }
          ],
          "choropleth": [
           {
            "colorbar": {
             "outlinewidth": 0,
             "ticks": ""
            },
            "type": "choropleth"
           }
          ],
          "contour": [
           {
            "colorbar": {
             "outlinewidth": 0,
             "ticks": ""
            },
            "colorscale": [
             [
              0,
              "#0d0887"
             ],
             [
              0.1111111111111111,
              "#46039f"
             ],
             [
              0.2222222222222222,
              "#7201a8"
             ],
             [
              0.3333333333333333,
              "#9c179e"
             ],
             [
              0.4444444444444444,
              "#bd3786"
             ],
             [
              0.5555555555555556,
              "#d8576b"
             ],
             [
              0.6666666666666666,
              "#ed7953"
             ],
             [
              0.7777777777777778,
              "#fb9f3a"
             ],
             [
              0.8888888888888888,
              "#fdca26"
             ],
             [
              1,
              "#f0f921"
             ]
            ],
            "type": "contour"
           }
          ],
          "contourcarpet": [
           {
            "colorbar": {
             "outlinewidth": 0,
             "ticks": ""
            },
            "type": "contourcarpet"
           }
          ],
          "heatmap": [
           {
            "colorbar": {
             "outlinewidth": 0,
             "ticks": ""
            },
            "colorscale": [
             [
              0,
              "#0d0887"
             ],
             [
              0.1111111111111111,
              "#46039f"
             ],
             [
              0.2222222222222222,
              "#7201a8"
             ],
             [
              0.3333333333333333,
              "#9c179e"
             ],
             [
              0.4444444444444444,
              "#bd3786"
             ],
             [
              0.5555555555555556,
              "#d8576b"
             ],
             [
              0.6666666666666666,
              "#ed7953"
             ],
             [
              0.7777777777777778,
              "#fb9f3a"
             ],
             [
              0.8888888888888888,
              "#fdca26"
             ],
             [
              1,
              "#f0f921"
             ]
            ],
            "type": "heatmap"
           }
          ],
          "heatmapgl": [
           {
            "colorbar": {
             "outlinewidth": 0,
             "ticks": ""
            },
            "colorscale": [
             [
              0,
              "#0d0887"
             ],
             [
              0.1111111111111111,
              "#46039f"
             ],
             [
              0.2222222222222222,
              "#7201a8"
             ],
             [
              0.3333333333333333,
              "#9c179e"
             ],
             [
              0.4444444444444444,
              "#bd3786"
             ],
             [
              0.5555555555555556,
              "#d8576b"
             ],
             [
              0.6666666666666666,
              "#ed7953"
             ],
             [
              0.7777777777777778,
              "#fb9f3a"
             ],
             [
              0.8888888888888888,
              "#fdca26"
             ],
             [
              1,
              "#f0f921"
             ]
            ],
            "type": "heatmapgl"
           }
          ],
          "histogram": [
           {
            "marker": {
             "pattern": {
              "fillmode": "overlay",
              "size": 10,
              "solidity": 0.2
             }
            },
            "type": "histogram"
           }
          ],
          "histogram2d": [
           {
            "colorbar": {
             "outlinewidth": 0,
             "ticks": ""
            },
            "colorscale": [
             [
              0,
              "#0d0887"
             ],
             [
              0.1111111111111111,
              "#46039f"
             ],
             [
              0.2222222222222222,
              "#7201a8"
             ],
             [
              0.3333333333333333,
              "#9c179e"
             ],
             [
              0.4444444444444444,
              "#bd3786"
             ],
             [
              0.5555555555555556,
              "#d8576b"
             ],
             [
              0.6666666666666666,
              "#ed7953"
             ],
             [
              0.7777777777777778,
              "#fb9f3a"
             ],
             [
              0.8888888888888888,
              "#fdca26"
             ],
             [
              1,
              "#f0f921"
             ]
            ],
            "type": "histogram2d"
           }
          ],
          "histogram2dcontour": [
           {
            "colorbar": {
             "outlinewidth": 0,
             "ticks": ""
            },
            "colorscale": [
             [
              0,
              "#0d0887"
             ],
             [
              0.1111111111111111,
              "#46039f"
             ],
             [
              0.2222222222222222,
              "#7201a8"
             ],
             [
              0.3333333333333333,
              "#9c179e"
             ],
             [
              0.4444444444444444,
              "#bd3786"
             ],
             [
              0.5555555555555556,
              "#d8576b"
             ],
             [
              0.6666666666666666,
              "#ed7953"
             ],
             [
              0.7777777777777778,
              "#fb9f3a"
             ],
             [
              0.8888888888888888,
              "#fdca26"
             ],
             [
              1,
              "#f0f921"
             ]
            ],
            "type": "histogram2dcontour"
           }
          ],
          "mesh3d": [
           {
            "colorbar": {
             "outlinewidth": 0,
             "ticks": ""
            },
            "type": "mesh3d"
           }
          ],
          "parcoords": [
           {
            "line": {
             "colorbar": {
              "outlinewidth": 0,
              "ticks": ""
             }
            },
            "type": "parcoords"
           }
          ],
          "pie": [
           {
            "automargin": true,
            "type": "pie"
           }
          ],
          "scatter": [
           {
            "fillpattern": {
             "fillmode": "overlay",
             "size": 10,
             "solidity": 0.2
            },
            "type": "scatter"
           }
          ],
          "scatter3d": [
           {
            "line": {
             "colorbar": {
              "outlinewidth": 0,
              "ticks": ""
             }
            },
            "marker": {
             "colorbar": {
              "outlinewidth": 0,
              "ticks": ""
             }
            },
            "type": "scatter3d"
           }
          ],
          "scattercarpet": [
           {
            "marker": {
             "colorbar": {
              "outlinewidth": 0,
              "ticks": ""
             }
            },
            "type": "scattercarpet"
           }
          ],
          "scattergeo": [
           {
            "marker": {
             "colorbar": {
              "outlinewidth": 0,
              "ticks": ""
             }
            },
            "type": "scattergeo"
           }
          ],
          "scattergl": [
           {
            "marker": {
             "colorbar": {
              "outlinewidth": 0,
              "ticks": ""
             }
            },
            "type": "scattergl"
           }
          ],
          "scattermapbox": [
           {
            "marker": {
             "colorbar": {
              "outlinewidth": 0,
              "ticks": ""
             }
            },
            "type": "scattermapbox"
           }
          ],
          "scatterpolar": [
           {
            "marker": {
             "colorbar": {
              "outlinewidth": 0,
              "ticks": ""
             }
            },
            "type": "scatterpolar"
           }
          ],
          "scatterpolargl": [
           {
            "marker": {
             "colorbar": {
              "outlinewidth": 0,
              "ticks": ""
             }
            },
            "type": "scatterpolargl"
           }
          ],
          "scatterternary": [
           {
            "marker": {
             "colorbar": {
              "outlinewidth": 0,
              "ticks": ""
             }
            },
            "type": "scatterternary"
           }
          ],
          "surface": [
           {
            "colorbar": {
             "outlinewidth": 0,
             "ticks": ""
            },
            "colorscale": [
             [
              0,
              "#0d0887"
             ],
             [
              0.1111111111111111,
              "#46039f"
             ],
             [
              0.2222222222222222,
              "#7201a8"
             ],
             [
              0.3333333333333333,
              "#9c179e"
             ],
             [
              0.4444444444444444,
              "#bd3786"
             ],
             [
              0.5555555555555556,
              "#d8576b"
             ],
             [
              0.6666666666666666,
              "#ed7953"
             ],
             [
              0.7777777777777778,
              "#fb9f3a"
             ],
             [
              0.8888888888888888,
              "#fdca26"
             ],
             [
              1,
              "#f0f921"
             ]
            ],
            "type": "surface"
           }
          ],
          "table": [
           {
            "cells": {
             "fill": {
              "color": "#EBF0F8"
             },
             "line": {
              "color": "white"
             }
            },
            "header": {
             "fill": {
              "color": "#C8D4E3"
             },
             "line": {
              "color": "white"
             }
            },
            "type": "table"
           }
          ]
         },
         "layout": {
          "annotationdefaults": {
           "arrowcolor": "#2a3f5f",
           "arrowhead": 0,
           "arrowwidth": 1
          },
          "autotypenumbers": "strict",
          "coloraxis": {
           "colorbar": {
            "outlinewidth": 0,
            "ticks": ""
           }
          },
          "colorscale": {
           "diverging": [
            [
             0,
             "#8e0152"
            ],
            [
             0.1,
             "#c51b7d"
            ],
            [
             0.2,
             "#de77ae"
            ],
            [
             0.3,
             "#f1b6da"
            ],
            [
             0.4,
             "#fde0ef"
            ],
            [
             0.5,
             "#f7f7f7"
            ],
            [
             0.6,
             "#e6f5d0"
            ],
            [
             0.7,
             "#b8e186"
            ],
            [
             0.8,
             "#7fbc41"
            ],
            [
             0.9,
             "#4d9221"
            ],
            [
             1,
             "#276419"
            ]
           ],
           "sequential": [
            [
             0,
             "#0d0887"
            ],
            [
             0.1111111111111111,
             "#46039f"
            ],
            [
             0.2222222222222222,
             "#7201a8"
            ],
            [
             0.3333333333333333,
             "#9c179e"
            ],
            [
             0.4444444444444444,
             "#bd3786"
            ],
            [
             0.5555555555555556,
             "#d8576b"
            ],
            [
             0.6666666666666666,
             "#ed7953"
            ],
            [
             0.7777777777777778,
             "#fb9f3a"
            ],
            [
             0.8888888888888888,
             "#fdca26"
            ],
            [
             1,
             "#f0f921"
            ]
           ],
           "sequentialminus": [
            [
             0,
             "#0d0887"
            ],
            [
             0.1111111111111111,
             "#46039f"
            ],
            [
             0.2222222222222222,
             "#7201a8"
            ],
            [
             0.3333333333333333,
             "#9c179e"
            ],
            [
             0.4444444444444444,
             "#bd3786"
            ],
            [
             0.5555555555555556,
             "#d8576b"
            ],
            [
             0.6666666666666666,
             "#ed7953"
            ],
            [
             0.7777777777777778,
             "#fb9f3a"
            ],
            [
             0.8888888888888888,
             "#fdca26"
            ],
            [
             1,
             "#f0f921"
            ]
           ]
          },
          "colorway": [
           "#636efa",
           "#EF553B",
           "#00cc96",
           "#ab63fa",
           "#FFA15A",
           "#19d3f3",
           "#FF6692",
           "#B6E880",
           "#FF97FF",
           "#FECB52"
          ],
          "font": {
           "color": "#2a3f5f"
          },
          "geo": {
           "bgcolor": "white",
           "lakecolor": "white",
           "landcolor": "#E5ECF6",
           "showlakes": true,
           "showland": true,
           "subunitcolor": "white"
          },
          "hoverlabel": {
           "align": "left"
          },
          "hovermode": "closest",
          "mapbox": {
           "style": "light"
          },
          "paper_bgcolor": "white",
          "plot_bgcolor": "#E5ECF6",
          "polar": {
           "angularaxis": {
            "gridcolor": "white",
            "linecolor": "white",
            "ticks": ""
           },
           "bgcolor": "#E5ECF6",
           "radialaxis": {
            "gridcolor": "white",
            "linecolor": "white",
            "ticks": ""
           }
          },
          "scene": {
           "xaxis": {
            "backgroundcolor": "#E5ECF6",
            "gridcolor": "white",
            "gridwidth": 2,
            "linecolor": "white",
            "showbackground": true,
            "ticks": "",
            "zerolinecolor": "white"
           },
           "yaxis": {
            "backgroundcolor": "#E5ECF6",
            "gridcolor": "white",
            "gridwidth": 2,
            "linecolor": "white",
            "showbackground": true,
            "ticks": "",
            "zerolinecolor": "white"
           },
           "zaxis": {
            "backgroundcolor": "#E5ECF6",
            "gridcolor": "white",
            "gridwidth": 2,
            "linecolor": "white",
            "showbackground": true,
            "ticks": "",
            "zerolinecolor": "white"
           }
          },
          "shapedefaults": {
           "line": {
            "color": "#2a3f5f"
           }
          },
          "ternary": {
           "aaxis": {
            "gridcolor": "white",
            "linecolor": "white",
            "ticks": ""
           },
           "baxis": {
            "gridcolor": "white",
            "linecolor": "white",
            "ticks": ""
           },
           "bgcolor": "#E5ECF6",
           "caxis": {
            "gridcolor": "white",
            "linecolor": "white",
            "ticks": ""
           }
          },
          "title": {
           "x": 0.05
          },
          "xaxis": {
           "automargin": true,
           "gridcolor": "white",
           "linecolor": "white",
           "ticks": "",
           "title": {
            "standoff": 15
           },
           "zerolinecolor": "white",
           "zerolinewidth": 2
          },
          "yaxis": {
           "automargin": true,
           "gridcolor": "white",
           "linecolor": "white",
           "ticks": "",
           "title": {
            "standoff": 15
           },
           "zerolinecolor": "white",
           "zerolinewidth": 2
          }
         }
        },
        "title": {
         "text": "Predicted and actual signal difference. diff = predicted - actual"
        },
        "xaxis": {
         "anchor": "y",
         "domain": [
          0,
          1
         ],
         "title": {
          "text": "time"
         }
        },
        "yaxis": {
         "anchor": "x",
         "domain": [
          0,
          1
         ],
         "title": {
          "text": "predicted - actual"
         }
        }
       }
      },
      "text/html": [
       "<div>                            <div id=\"8088161b-3b02-41e8-b95d-c6c8ccb68a46\" class=\"plotly-graph-div\" style=\"height:525px; width:100%;\"></div>            <script type=\"text/javascript\">                require([\"plotly\"], function(Plotly) {                    window.PLOTLYENV=window.PLOTLYENV || {};                                    if (document.getElementById(\"8088161b-3b02-41e8-b95d-c6c8ccb68a46\")) {                    Plotly.newPlot(                        \"8088161b-3b02-41e8-b95d-c6c8ccb68a46\",                        [{\"alignmentgroup\":\"True\",\"hovertemplate\":\"time=%{x}<br>predicted - actual=%{y}<extra></extra>\",\"legendgroup\":\"\",\"marker\":{\"color\":\"#636efa\",\"pattern\":{\"shape\":\"\"}},\"name\":\"\",\"offsetgroup\":\"\",\"orientation\":\"v\",\"showlegend\":false,\"textposition\":\"auto\",\"x\":[\"2023-11-02 00:00:01.904\",\"2023-11-02 00:01:04.766\",\"2023-11-02 00:02:07.340\",\"2023-11-02 00:03:09.983\",\"2023-11-02 00:04:13.383\",\"2023-11-02 00:05:16.920\",\"2023-11-02 00:06:19.842\",\"2023-11-02 00:07:23.617\",\"2023-11-02 00:08:27.071\",\"2023-11-02 00:09:31.008\",\"2023-11-02 00:10:34.510\",\"2023-11-02 00:11:38.951\",\"2023-11-02 00:12:43.791\",\"2023-11-02 00:13:47.293\",\"2023-11-02 00:14:50.778\",\"2023-11-02 00:15:54.192\",\"2023-11-02 00:16:57.065\",\"2023-11-02 00:18:00.486\",\"2023-11-02 00:19:03.973\",\"2023-11-02 00:20:07.380\",\"2023-11-02 00:21:10.779\",\"2023-11-02 00:22:14.444\",\"2023-11-02 00:23:20.634\",\"2023-11-02 00:24:24.028\",\"2023-11-02 00:25:27.508\",\"2023-11-02 00:26:31.260\",\"2023-11-02 00:27:35.314\",\"2023-11-02 00:28:38.752\",\"2023-11-02 00:29:42.268\",\"2023-11-02 00:30:45.673\",\"2023-11-02 00:31:49.134\",\"2023-11-02 00:32:52.882\",\"2023-11-02 00:33:56.464\",\"2023-11-02 00:34:59.930\",\"2023-11-02 00:36:03.383\",\"2023-11-02 00:37:07.082\",\"2023-11-02 00:38:10.109\",\"2023-11-02 00:39:13.556\",\"2023-11-02 00:40:17.850\",\"2023-11-02 00:41:21.312\",\"2023-11-02 00:42:25.047\",\"2023-11-02 00:43:28.712\",\"2023-11-02 00:44:32.180\",\"2023-11-02 00:45:35.677\",\"2023-11-02 00:46:39.121\",\"2023-11-02 00:47:42.520\",\"2023-11-02 00:48:45.481\",\"2023-11-02 00:49:48.832\",\"2023-11-02 00:50:53.220\",\"2023-11-02 00:51:56.560\",\"2023-11-02 00:52:59.119\",\"2023-11-02 00:54:02.611\",\"2023-11-02 00:55:05.300\",\"2023-11-02 00:56:08.713\",\"2023-11-02 00:57:11.336\",\"2023-11-02 00:58:14.793\",\"2023-11-02 00:59:18.932\",\"2023-11-02 01:00:22.392\",\"2023-11-02 01:01:25.882\",\"2023-11-02 01:02:29.326\",\"2023-11-02 01:03:32.802\",\"2023-11-02 01:04:36.194\",\"2023-11-02 01:05:39.607\",\"2023-11-02 01:06:43.023\",\"2023-11-02 01:07:46.567\",\"2023-11-02 01:08:49.931\",\"2023-11-02 01:09:53.306\",\"2023-11-02 01:10:56.659\",\"2023-11-02 01:11:59.967\",\"2023-11-02 01:13:03.036\",\"2023-11-02 01:14:06.926\",\"2023-11-02 01:15:10.259\",\"2023-11-02 01:16:13.561\",\"2023-11-02 01:17:16.959\",\"2023-11-02 01:18:20.492\",\"2023-11-02 01:19:24.092\",\"2023-11-02 01:20:27.482\",\"2023-11-02 01:21:32.090\",\"2023-11-02 01:22:35.664\",\"2023-11-02 01:23:39.100\",\"2023-11-02 01:24:43.168\",\"2023-11-02 01:25:46.583\",\"2023-11-02 01:26:49.968\",\"2023-11-02 01:27:53.376\",\"2023-11-02 01:28:56.808\",\"2023-11-02 01:30:00.236\",\"2023-11-02 01:31:04.092\",\"2023-11-02 01:32:07.578\",\"2023-11-02 01:33:10.687\",\"2023-11-02 01:34:14.089\",\"2023-11-02 01:35:17.489\",\"2023-11-02 01:36:20.153\",\"2023-11-02 01:37:23.588\",\"2023-11-02 01:38:26.989\",\"2023-11-02 01:39:30.364\",\"2023-11-02 01:40:33.798\",\"2023-11-02 01:41:35.833\",\"2023-11-02 01:42:39.186\",\"2023-11-02 01:43:42.575\",\"2023-11-02 01:44:46.017\",\"2023-11-02 01:45:49.450\",\"2023-11-02 01:46:52.784\",\"2023-11-02 01:47:56.168\",\"2023-11-02 01:48:59.028\",\"2023-11-02 01:50:02.499\",\"2023-11-02 01:51:05.312\",\"2023-11-02 01:52:08.753\",\"2023-11-02 01:53:12.219\",\"2023-11-02 01:54:15.614\",\"2023-11-02 01:55:18.260\",\"2023-11-02 01:56:20.884\",\"2023-11-02 01:57:24.269\",\"2023-11-02 01:58:28.690\",\"2023-11-02 01:59:32.126\",\"2023-11-02 02:00:34.966\",\"2023-11-02 02:01:38.374\",\"2023-11-02 02:02:41.855\",\"2023-11-02 02:03:45.093\",\"2023-11-02 02:04:48.456\",\"2023-11-02 02:05:51.759\",\"2023-11-02 02:06:55.173\",\"2023-11-02 02:07:59.469\",\"2023-11-02 02:09:02.974\",\"2023-11-02 02:10:06.383\",\"2023-11-02 02:11:09.982\",\"2023-11-02 02:12:14.341\",\"2023-11-02 02:13:17.232\",\"2023-11-02 02:14:20.678\",\"2023-11-02 02:15:24.058\",\"2023-11-02 02:16:26.666\",\"2023-11-02 02:17:30.080\",\"2023-11-02 02:18:33.049\",\"2023-11-02 02:19:38.556\",\"2023-11-02 02:20:42.054\",\"2023-11-02 02:21:44.762\",\"2023-11-02 02:22:48.108\",\"2023-11-02 02:23:51.542\",\"2023-11-02 02:24:54.944\",\"2023-11-02 02:25:58.264\",\"2023-11-02 02:27:01.633\",\"2023-11-02 02:28:05.376\",\"2023-11-02 02:29:08.997\",\"2023-11-02 02:30:12.424\",\"2023-11-02 02:31:15.902\",\"2023-11-02 02:32:19.314\",\"2023-11-02 02:33:22.712\",\"2023-11-02 02:34:25.567\",\"2023-11-02 02:35:28.934\",\"2023-11-02 02:36:32.106\",\"2023-11-02 02:37:35.477\",\"2023-11-02 02:38:38.835\",\"2023-11-02 02:39:42.227\",\"2023-11-02 02:40:46.946\",\"2023-11-02 02:41:49.805\",\"2023-11-02 02:42:52.368\",\"2023-11-02 02:43:55.765\",\"2023-11-02 02:45:00.229\",\"2023-11-02 02:46:02.377\",\"2023-11-02 02:47:05.738\",\"2023-11-02 02:48:09.434\",\"2023-11-02 02:49:12.938\",\"2023-11-02 02:50:15.594\",\"2023-11-02 02:51:19.079\",\"2023-11-02 02:52:22.467\",\"2023-11-02 02:53:25.795\",\"2023-11-02 02:54:28.377\",\"2023-11-02 02:55:31.799\",\"2023-11-02 02:56:35.387\",\"2023-11-02 02:57:38.832\",\"2023-11-02 02:58:42.278\",\"2023-11-02 02:59:45.803\",\"2023-11-02 03:00:50.345\",\"2023-11-02 03:01:53.820\",\"2023-11-02 03:02:57.257\",\"2023-11-02 03:04:00.707\",\"2023-11-02 03:05:04.084\",\"2023-11-02 03:06:07.524\",\"2023-11-02 03:07:10.932\",\"2023-11-02 03:08:15.328\",\"2023-11-02 03:09:18.680\",\"2023-11-02 03:10:22.111\",\"2023-11-02 03:11:24.726\",\"2023-11-02 03:12:28.119\",\"2023-11-02 03:13:31.544\",\"2023-11-02 03:14:35.224\",\"2023-11-02 03:15:38.845\",\"2023-11-02 03:16:42.507\",\"2023-11-02 03:17:45.097\",\"2023-11-02 03:18:48.524\",\"2023-11-02 03:19:52.393\",\"2023-11-02 03:20:54.971\",\"2023-11-02 03:21:58.634\",\"2023-11-02 03:23:02.033\",\"2023-11-02 03:24:04.969\",\"2023-11-02 03:25:07.596\",\"2023-11-02 03:26:10.538\",\"2023-11-02 03:27:18.583\",\"2023-11-02 03:28:22.060\",\"2023-11-02 03:29:25.912\",\"2023-11-02 03:30:29.354\",\"2023-11-02 03:31:32.772\",\"2023-11-02 03:32:36.255\",\"2023-11-02 03:33:39.584\",\"2023-11-02 03:34:42.988\",\"2023-11-02 03:35:45.687\",\"2023-11-02 03:36:49.042\",\"2023-11-02 03:37:52.553\",\"2023-11-02 03:38:55.912\",\"2023-11-02 03:39:59.305\",\"2023-11-02 03:41:02.783\",\"2023-11-02 03:42:06.161\",\"2023-11-02 03:43:09.589\",\"2023-11-02 03:44:13.055\",\"2023-11-02 03:45:17.411\",\"2023-11-02 03:46:20.847\",\"2023-11-02 03:47:24.221\",\"2023-11-02 03:48:27.855\",\"2023-11-02 03:49:30.836\",\"2023-11-02 03:50:34.280\",\"2023-11-02 03:51:37.677\",\"2023-11-02 03:52:41.089\",\"2023-11-02 03:53:44.473\",\"2023-11-02 03:54:47.836\",\"2023-11-02 03:55:51.263\",\"2023-11-02 03:56:54.747\",\"2023-11-02 03:57:57.334\",\"2023-11-02 03:59:00.728\",\"2023-11-02 04:00:04.081\",\"2023-11-02 04:01:07.436\",\"2023-11-02 04:02:10.792\",\"2023-11-02 04:03:14.136\",\"2023-11-02 04:04:17.572\",\"2023-11-02 04:05:20.879\",\"2023-11-02 04:06:24.405\",\"2023-11-02 04:07:28.184\",\"2023-11-02 04:08:31.648\",\"2023-11-02 04:09:35.169\",\"2023-11-02 04:10:38.885\",\"2023-11-02 04:11:42.401\",\"2023-11-02 04:12:45.250\",\"2023-11-02 04:13:48.646\",\"2023-11-02 04:14:52.153\",\"2023-11-02 04:15:54.758\",\"2023-11-02 04:16:58.090\",\"2023-11-02 04:18:01.565\",\"2023-11-02 04:19:05.085\",\"2023-11-02 04:20:08.487\",\"2023-11-02 04:21:13.376\",\"2023-11-02 04:22:16.822\",\"2023-11-02 04:23:20.235\",\"2023-11-02 04:24:22.767\",\"2023-11-02 04:25:26.144\",\"2023-11-02 04:26:29.568\",\"2023-11-02 04:27:33.461\",\"2023-11-02 04:28:36.884\",\"2023-11-02 04:29:40.244\",\"2023-11-02 04:30:43.651\",\"2023-11-02 04:31:47.280\",\"2023-11-02 04:32:50.697\",\"2023-11-02 04:33:54.073\",\"2023-11-02 04:34:57.418\",\"2023-11-02 04:36:00.850\",\"2023-11-02 04:37:04.479\",\"2023-11-02 04:38:07.136\",\"2023-11-02 04:39:10.613\",\"2023-11-02 04:40:13.978\",\"2023-11-02 04:41:16.622\",\"2023-11-02 04:42:20.264\",\"2023-11-02 04:43:23.698\",\"2023-11-02 04:44:26.895\",\"2023-11-02 04:45:30.350\",\"2023-11-02 04:46:33.785\",\"2023-11-02 04:47:37.464\",\"2023-11-02 04:48:40.283\",\"2023-11-02 04:49:43.114\",\"2023-11-02 04:50:47.152\",\"2023-11-02 04:51:50.503\",\"2023-11-02 04:52:54.165\",\"2023-11-02 04:53:58.912\",\"2023-11-02 04:55:02.270\",\"2023-11-02 04:56:05.651\",\"2023-11-02 04:57:09.050\",\"2023-11-02 04:58:12.471\",\"2023-11-02 04:59:15.907\",\"2023-11-02 05:00:19.345\",\"2023-11-02 05:01:22.833\",\"2023-11-02 05:02:26.267\",\"2023-11-02 05:03:29.729\",\"2023-11-02 05:04:33.229\",\"2023-11-02 05:05:36.942\",\"2023-11-02 05:06:39.583\",\"2023-11-02 05:07:42.971\",\"2023-11-02 05:08:46.382\",\"2023-11-02 05:09:49.098\",\"2023-11-02 05:10:51.662\",\"2023-11-02 05:11:55.050\",\"2023-11-02 05:12:57.945\",\"2023-11-02 05:14:01.458\",\"2023-11-02 05:15:05.149\",\"2023-11-02 05:16:08.597\",\"2023-11-02 05:17:12.038\",\"2023-11-02 05:18:15.762\",\"2023-11-02 05:19:19.247\",\"2023-11-02 05:20:22.630\",\"2023-11-02 05:21:26.042\",\"2023-11-02 05:22:29.497\",\"2023-11-02 05:23:32.087\",\"2023-11-02 05:24:34.652\",\"2023-11-02 05:25:38.015\",\"2023-11-02 05:26:41.370\",\"2023-11-02 05:27:44.487\",\"2023-11-02 05:28:47.875\",\"2023-11-02 05:29:51.285\",\"2023-11-02 05:30:54.751\",\"2023-11-02 05:31:58.504\",\"2023-11-02 05:33:02.777\",\"2023-11-02 05:34:06.238\",\"2023-11-02 05:35:09.643\",\"2023-11-02 05:36:12.309\",\"2023-11-02 05:37:17.564\",\"2023-11-02 05:38:20.934\",\"2023-11-02 05:39:24.368\",\"2023-11-02 05:40:28.105\",\"2023-11-02 05:41:30.751\",\"2023-11-02 05:42:34.136\",\"2023-11-02 05:43:37.561\",\"2023-11-02 05:44:40.936\",\"2023-11-02 05:45:44.575\",\"2023-11-02 05:46:47.968\",\"2023-11-02 05:47:51.375\",\"2023-11-02 05:48:54.826\",\"2023-11-02 05:49:58.278\",\"2023-11-02 05:51:01.694\",\"2023-11-02 05:52:04.756\",\"2023-11-02 05:53:09.169\",\"2023-11-02 05:54:13.182\",\"2023-11-02 05:55:16.567\",\"2023-11-02 05:56:19.860\",\"2023-11-02 05:57:23.285\",\"2023-11-02 05:58:26.689\",\"2023-11-02 05:59:29.339\",\"2023-11-02 06:00:32.303\",\"2023-11-02 06:01:35.647\",\"2023-11-02 06:02:39.101\",\"2023-11-02 06:03:42.520\",\"2023-11-02 06:04:45.911\",\"2023-11-02 06:05:49.499\",\"2023-11-02 06:06:53.199\",\"2023-11-02 06:07:56.598\"],\"xaxis\":\"x\",\"y\":[1,1,1,0,1,1,1,-1,1,0,0,0,0,0,0,0,0,0,0,0,0,0,0,0,0,0,0,0,0,0,0,0,0,0,0,0,0,0,0,0,0,0,0,0,0,0,0,0,0,0,0,0,0,0,0,0,0,0,0,0,0,0,0,0,0,0,0,0,0,0,0,0,0,0,0,0,0,0,0,0,0,0,0,0,0,0,0,0,0,0,0,0,0,0,0,0,0,0,0,0,0,0,0,0,0,0,0,0,0,0,0,0,0,0,0,0,0,0,0,0,0,0,0,0,0,0,0,0,0,0,0,0,0,0,0,0,0,0,0,0,0,0,0,0,0,0,0,0,0,0,0,0,0,0,0,0,0,0,0,-1,0,0,0,0,0,0,0,0,0,0,0,0,0,-1,0,0,0,0,0,0,0,0,0,0,0,0,0,0,0,0,0,0,0,0,0,0,0,0,0,0,0,0,0,0,0,0,0,0,0,0,0,0,0,0,0,0,0,0,0,0,0,0,0,0,0,0,0,0,0,0,0,0,0,0,0,0,0,0,0,0,0,0,0,0,0,0,0,0,0,0,0,0,0,0,0,0,0,0,0,0,0,0,0,0,0,0,0,0,0,0,0,0,0,0,0,0,0,0,0,0,0,0,0,0,0,0,0,0,0,0,0,0,0,0,0,0,0,0,0,0,0,0,0,0,0,0,0,0,0,0,0,0,0,0,0,0,0,0,0,0,0,0,0,0,0,0,0,0,0,0,0,0,0,0,0,0,0,0,0,0,0,0,0,0,0,0,0,0,0],\"yaxis\":\"y\",\"type\":\"bar\"}],                        {\"template\":{\"data\":{\"histogram2dcontour\":[{\"type\":\"histogram2dcontour\",\"colorbar\":{\"outlinewidth\":0,\"ticks\":\"\"},\"colorscale\":[[0.0,\"#0d0887\"],[0.1111111111111111,\"#46039f\"],[0.2222222222222222,\"#7201a8\"],[0.3333333333333333,\"#9c179e\"],[0.4444444444444444,\"#bd3786\"],[0.5555555555555556,\"#d8576b\"],[0.6666666666666666,\"#ed7953\"],[0.7777777777777778,\"#fb9f3a\"],[0.8888888888888888,\"#fdca26\"],[1.0,\"#f0f921\"]]}],\"choropleth\":[{\"type\":\"choropleth\",\"colorbar\":{\"outlinewidth\":0,\"ticks\":\"\"}}],\"histogram2d\":[{\"type\":\"histogram2d\",\"colorbar\":{\"outlinewidth\":0,\"ticks\":\"\"},\"colorscale\":[[0.0,\"#0d0887\"],[0.1111111111111111,\"#46039f\"],[0.2222222222222222,\"#7201a8\"],[0.3333333333333333,\"#9c179e\"],[0.4444444444444444,\"#bd3786\"],[0.5555555555555556,\"#d8576b\"],[0.6666666666666666,\"#ed7953\"],[0.7777777777777778,\"#fb9f3a\"],[0.8888888888888888,\"#fdca26\"],[1.0,\"#f0f921\"]]}],\"heatmap\":[{\"type\":\"heatmap\",\"colorbar\":{\"outlinewidth\":0,\"ticks\":\"\"},\"colorscale\":[[0.0,\"#0d0887\"],[0.1111111111111111,\"#46039f\"],[0.2222222222222222,\"#7201a8\"],[0.3333333333333333,\"#9c179e\"],[0.4444444444444444,\"#bd3786\"],[0.5555555555555556,\"#d8576b\"],[0.6666666666666666,\"#ed7953\"],[0.7777777777777778,\"#fb9f3a\"],[0.8888888888888888,\"#fdca26\"],[1.0,\"#f0f921\"]]}],\"heatmapgl\":[{\"type\":\"heatmapgl\",\"colorbar\":{\"outlinewidth\":0,\"ticks\":\"\"},\"colorscale\":[[0.0,\"#0d0887\"],[0.1111111111111111,\"#46039f\"],[0.2222222222222222,\"#7201a8\"],[0.3333333333333333,\"#9c179e\"],[0.4444444444444444,\"#bd3786\"],[0.5555555555555556,\"#d8576b\"],[0.6666666666666666,\"#ed7953\"],[0.7777777777777778,\"#fb9f3a\"],[0.8888888888888888,\"#fdca26\"],[1.0,\"#f0f921\"]]}],\"contourcarpet\":[{\"type\":\"contourcarpet\",\"colorbar\":{\"outlinewidth\":0,\"ticks\":\"\"}}],\"contour\":[{\"type\":\"contour\",\"colorbar\":{\"outlinewidth\":0,\"ticks\":\"\"},\"colorscale\":[[0.0,\"#0d0887\"],[0.1111111111111111,\"#46039f\"],[0.2222222222222222,\"#7201a8\"],[0.3333333333333333,\"#9c179e\"],[0.4444444444444444,\"#bd3786\"],[0.5555555555555556,\"#d8576b\"],[0.6666666666666666,\"#ed7953\"],[0.7777777777777778,\"#fb9f3a\"],[0.8888888888888888,\"#fdca26\"],[1.0,\"#f0f921\"]]}],\"surface\":[{\"type\":\"surface\",\"colorbar\":{\"outlinewidth\":0,\"ticks\":\"\"},\"colorscale\":[[0.0,\"#0d0887\"],[0.1111111111111111,\"#46039f\"],[0.2222222222222222,\"#7201a8\"],[0.3333333333333333,\"#9c179e\"],[0.4444444444444444,\"#bd3786\"],[0.5555555555555556,\"#d8576b\"],[0.6666666666666666,\"#ed7953\"],[0.7777777777777778,\"#fb9f3a\"],[0.8888888888888888,\"#fdca26\"],[1.0,\"#f0f921\"]]}],\"mesh3d\":[{\"type\":\"mesh3d\",\"colorbar\":{\"outlinewidth\":0,\"ticks\":\"\"}}],\"scatter\":[{\"fillpattern\":{\"fillmode\":\"overlay\",\"size\":10,\"solidity\":0.2},\"type\":\"scatter\"}],\"parcoords\":[{\"type\":\"parcoords\",\"line\":{\"colorbar\":{\"outlinewidth\":0,\"ticks\":\"\"}}}],\"scatterpolargl\":[{\"type\":\"scatterpolargl\",\"marker\":{\"colorbar\":{\"outlinewidth\":0,\"ticks\":\"\"}}}],\"bar\":[{\"error_x\":{\"color\":\"#2a3f5f\"},\"error_y\":{\"color\":\"#2a3f5f\"},\"marker\":{\"line\":{\"color\":\"#E5ECF6\",\"width\":0.5},\"pattern\":{\"fillmode\":\"overlay\",\"size\":10,\"solidity\":0.2}},\"type\":\"bar\"}],\"scattergeo\":[{\"type\":\"scattergeo\",\"marker\":{\"colorbar\":{\"outlinewidth\":0,\"ticks\":\"\"}}}],\"scatterpolar\":[{\"type\":\"scatterpolar\",\"marker\":{\"colorbar\":{\"outlinewidth\":0,\"ticks\":\"\"}}}],\"histogram\":[{\"marker\":{\"pattern\":{\"fillmode\":\"overlay\",\"size\":10,\"solidity\":0.2}},\"type\":\"histogram\"}],\"scattergl\":[{\"type\":\"scattergl\",\"marker\":{\"colorbar\":{\"outlinewidth\":0,\"ticks\":\"\"}}}],\"scatter3d\":[{\"type\":\"scatter3d\",\"line\":{\"colorbar\":{\"outlinewidth\":0,\"ticks\":\"\"}},\"marker\":{\"colorbar\":{\"outlinewidth\":0,\"ticks\":\"\"}}}],\"scattermapbox\":[{\"type\":\"scattermapbox\",\"marker\":{\"colorbar\":{\"outlinewidth\":0,\"ticks\":\"\"}}}],\"scatterternary\":[{\"type\":\"scatterternary\",\"marker\":{\"colorbar\":{\"outlinewidth\":0,\"ticks\":\"\"}}}],\"scattercarpet\":[{\"type\":\"scattercarpet\",\"marker\":{\"colorbar\":{\"outlinewidth\":0,\"ticks\":\"\"}}}],\"carpet\":[{\"aaxis\":{\"endlinecolor\":\"#2a3f5f\",\"gridcolor\":\"white\",\"linecolor\":\"white\",\"minorgridcolor\":\"white\",\"startlinecolor\":\"#2a3f5f\"},\"baxis\":{\"endlinecolor\":\"#2a3f5f\",\"gridcolor\":\"white\",\"linecolor\":\"white\",\"minorgridcolor\":\"white\",\"startlinecolor\":\"#2a3f5f\"},\"type\":\"carpet\"}],\"table\":[{\"cells\":{\"fill\":{\"color\":\"#EBF0F8\"},\"line\":{\"color\":\"white\"}},\"header\":{\"fill\":{\"color\":\"#C8D4E3\"},\"line\":{\"color\":\"white\"}},\"type\":\"table\"}],\"barpolar\":[{\"marker\":{\"line\":{\"color\":\"#E5ECF6\",\"width\":0.5},\"pattern\":{\"fillmode\":\"overlay\",\"size\":10,\"solidity\":0.2}},\"type\":\"barpolar\"}],\"pie\":[{\"automargin\":true,\"type\":\"pie\"}]},\"layout\":{\"autotypenumbers\":\"strict\",\"colorway\":[\"#636efa\",\"#EF553B\",\"#00cc96\",\"#ab63fa\",\"#FFA15A\",\"#19d3f3\",\"#FF6692\",\"#B6E880\",\"#FF97FF\",\"#FECB52\"],\"font\":{\"color\":\"#2a3f5f\"},\"hovermode\":\"closest\",\"hoverlabel\":{\"align\":\"left\"},\"paper_bgcolor\":\"white\",\"plot_bgcolor\":\"#E5ECF6\",\"polar\":{\"bgcolor\":\"#E5ECF6\",\"angularaxis\":{\"gridcolor\":\"white\",\"linecolor\":\"white\",\"ticks\":\"\"},\"radialaxis\":{\"gridcolor\":\"white\",\"linecolor\":\"white\",\"ticks\":\"\"}},\"ternary\":{\"bgcolor\":\"#E5ECF6\",\"aaxis\":{\"gridcolor\":\"white\",\"linecolor\":\"white\",\"ticks\":\"\"},\"baxis\":{\"gridcolor\":\"white\",\"linecolor\":\"white\",\"ticks\":\"\"},\"caxis\":{\"gridcolor\":\"white\",\"linecolor\":\"white\",\"ticks\":\"\"}},\"coloraxis\":{\"colorbar\":{\"outlinewidth\":0,\"ticks\":\"\"}},\"colorscale\":{\"sequential\":[[0.0,\"#0d0887\"],[0.1111111111111111,\"#46039f\"],[0.2222222222222222,\"#7201a8\"],[0.3333333333333333,\"#9c179e\"],[0.4444444444444444,\"#bd3786\"],[0.5555555555555556,\"#d8576b\"],[0.6666666666666666,\"#ed7953\"],[0.7777777777777778,\"#fb9f3a\"],[0.8888888888888888,\"#fdca26\"],[1.0,\"#f0f921\"]],\"sequentialminus\":[[0.0,\"#0d0887\"],[0.1111111111111111,\"#46039f\"],[0.2222222222222222,\"#7201a8\"],[0.3333333333333333,\"#9c179e\"],[0.4444444444444444,\"#bd3786\"],[0.5555555555555556,\"#d8576b\"],[0.6666666666666666,\"#ed7953\"],[0.7777777777777778,\"#fb9f3a\"],[0.8888888888888888,\"#fdca26\"],[1.0,\"#f0f921\"]],\"diverging\":[[0,\"#8e0152\"],[0.1,\"#c51b7d\"],[0.2,\"#de77ae\"],[0.3,\"#f1b6da\"],[0.4,\"#fde0ef\"],[0.5,\"#f7f7f7\"],[0.6,\"#e6f5d0\"],[0.7,\"#b8e186\"],[0.8,\"#7fbc41\"],[0.9,\"#4d9221\"],[1,\"#276419\"]]},\"xaxis\":{\"gridcolor\":\"white\",\"linecolor\":\"white\",\"ticks\":\"\",\"title\":{\"standoff\":15},\"zerolinecolor\":\"white\",\"automargin\":true,\"zerolinewidth\":2},\"yaxis\":{\"gridcolor\":\"white\",\"linecolor\":\"white\",\"ticks\":\"\",\"title\":{\"standoff\":15},\"zerolinecolor\":\"white\",\"automargin\":true,\"zerolinewidth\":2},\"scene\":{\"xaxis\":{\"backgroundcolor\":\"#E5ECF6\",\"gridcolor\":\"white\",\"linecolor\":\"white\",\"showbackground\":true,\"ticks\":\"\",\"zerolinecolor\":\"white\",\"gridwidth\":2},\"yaxis\":{\"backgroundcolor\":\"#E5ECF6\",\"gridcolor\":\"white\",\"linecolor\":\"white\",\"showbackground\":true,\"ticks\":\"\",\"zerolinecolor\":\"white\",\"gridwidth\":2},\"zaxis\":{\"backgroundcolor\":\"#E5ECF6\",\"gridcolor\":\"white\",\"linecolor\":\"white\",\"showbackground\":true,\"ticks\":\"\",\"zerolinecolor\":\"white\",\"gridwidth\":2}},\"shapedefaults\":{\"line\":{\"color\":\"#2a3f5f\"}},\"annotationdefaults\":{\"arrowcolor\":\"#2a3f5f\",\"arrowhead\":0,\"arrowwidth\":1},\"geo\":{\"bgcolor\":\"white\",\"landcolor\":\"#E5ECF6\",\"subunitcolor\":\"white\",\"showland\":true,\"showlakes\":true,\"lakecolor\":\"white\"},\"title\":{\"x\":0.05},\"mapbox\":{\"style\":\"light\"}}},\"xaxis\":{\"anchor\":\"y\",\"domain\":[0.0,1.0],\"title\":{\"text\":\"time\"}},\"yaxis\":{\"anchor\":\"x\",\"domain\":[0.0,1.0],\"title\":{\"text\":\"predicted - actual\"}},\"legend\":{\"tracegroupgap\":0},\"title\":{\"text\":\"Predicted and actual signal difference. diff = predicted - actual\"},\"barmode\":\"relative\"},                        {\"responsive\": true}                    ).then(function(){\n",
       "                            \n",
       "var gd = document.getElementById('8088161b-3b02-41e8-b95d-c6c8ccb68a46');\n",
       "var x = new MutationObserver(function (mutations, observer) {{\n",
       "        var display = window.getComputedStyle(gd).display;\n",
       "        if (!display || display === 'none') {{\n",
       "            console.log([gd, 'removed!']);\n",
       "            Plotly.purge(gd);\n",
       "            observer.disconnect();\n",
       "        }}\n",
       "}});\n",
       "\n",
       "// Listen for the removal of the full notebook cells\n",
       "var notebookContainer = gd.closest('#notebook-container');\n",
       "if (notebookContainer) {{\n",
       "    x.observe(notebookContainer, {childList: true});\n",
       "}}\n",
       "\n",
       "// Listen for the clearing of the current output cell\n",
       "var outputEl = gd.closest('.output');\n",
       "if (outputEl) {{\n",
       "    x.observe(outputEl, {childList: true});\n",
       "}}\n",
       "\n",
       "                        })                };                });            </script>        </div>"
      ]
     },
     "metadata": {},
     "output_type": "display_data"
    }
   ],
   "source": [
    "import plotly.express as px\n",
    "px.bar(x=y.index, \n",
    "    y=y['signal_pred']-y['signal_actual'], \n",
    "    title='Predicted and actual signal difference. diff = predicted - actual',\n",
    "    labels = {'x': 'time', 'y':'predicted - actual'}\n",
    "      ).show()"
   ]
  }
 ],
 "metadata": {
  "kernelspec": {
   "display_name": "Python 3 (ipykernel)",
   "language": "python",
   "name": "python3"
  },
  "language_info": {
   "codemirror_mode": {
    "name": "ipython",
    "version": 3
   },
   "file_extension": ".py",
   "mimetype": "text/x-python",
   "name": "python",
   "nbconvert_exporter": "python",
   "pygments_lexer": "ipython3",
   "version": "3.8.10"
  }
 },
 "nbformat": 4,
 "nbformat_minor": 4
}
