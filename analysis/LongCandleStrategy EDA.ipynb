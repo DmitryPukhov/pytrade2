{
 "cells": [
  {
   "cell_type": "markdown",
   "metadata": {},
   "source": [
    "# Long candle strategy  EDA\n",
    "\n",
    "Long candle strategy is classification model.\n",
    "Features: prices\n",
    "Targets: -1,0,1 signal"
   ]
  },
  {
   "cell_type": "markdown",
   "metadata": {},
   "source": [
    "To install conda and binance packages to this notebook uncomment the code below"
   ]
  },
  {
   "cell_type": "code",
   "execution_count": 1,
   "metadata": {},
   "outputs": [],
   "source": [
    "%%capture\n",
    "#%conda install -c plotly plotly=5.9.0\n",
    "#%conda install pip\n",
    "#%conda install twisted\n",
    "%pip install plotly==5.9.0\n",
    "%pip install twisted\n",
    "%pip install pandas\n",
    "%pip install scikit-learn\n",
    "#%pip install huobi-sdk==2.3.3\n",
    "\n",
    "import pandas as pd\n",
    "import numpy as np\n",
    "pd.set_option('display.max_columns', None)\n",
    "pd.set_option('display.expand_frame_repr', False)\n",
    "pd.set_option('max_colwidth', None)"
   ]
  },
  {
   "cell_type": "code",
   "execution_count": 2,
   "metadata": {},
   "outputs": [],
   "source": [
    "#mode=\"dev\" # dev - work with local dev data\n",
    "mode=\"yc\" # yc - work with data from yandex cloud bots\n",
    "\n",
    "symbol=\"BTC-USDT\"\n",
    "strategy=\"LongCandleDenseStrategy\""
   ]
  },
  {
   "cell_type": "code",
   "execution_count": null,
   "metadata": {
    "editable": true,
    "slideshow": {
     "slide_type": ""
    },
    "tags": []
   },
   "outputs": [
    {
     "name": "stderr",
     "output_type": "stream",
     "text": [
      "deploy_lib.sh: line 6: yc: command not found\n",
      "INFO: Retrieving list of remote files for s3://pytrade2/data/ ...\n"
     ]
    },
    {
     "name": "stdout",
     "output_type": "stream",
     "text": [
      "Sync pytrade2 data from s3://pytrade2/data to /home/dima/projects/pytrade2/deploy/yandex_cloud/../../data/yandex-cloud\n"
     ]
    },
    {
     "name": "stderr",
     "output_type": "stream",
     "text": [
      "INFO: Cache file not found or empty, creating/populating it.\n",
      "INFO: Compiling list of local files...\n",
      "INFO: Running stat() and reading/calculating MD5 values on 24 files, this may take some time...\n",
      "INFO: Found 28 remote files, 24 local files\n",
      "INFO: Verifying attributes...\n",
      "INFO: disabled md5 check for KerasBidAskRegressionStrategy/Xy/2023-12-16_BTC-USDT_raw_bid_ask.csv.zip\n",
      "INFO: disabled md5 check for KerasBidAskRegressionStrategy/Xy/2023-12-17_BTC-USDT_raw_bid_ask.csv.zip\n",
      "INFO: disabled md5 check for KerasBidAskRegressionStrategy/Xy/2023-12-17_BTC-USDT_x.csv.zip\n",
      "INFO: Summary: 15 remote files to download, 0 local files to delete, 0 local files to hardlink\n"
     ]
    },
    {
     "name": "stdout",
     "output_type": "stream",
     "text": [
      "download: 's3://pytrade2/data/dev/KerasBidAskRegressionStrategy/KerasBidAskRegressionStrategy.db' -> '/home/dima/projects/pytrade2/deploy/yandex_cloud/../../data/yandex-cloud/dev/KerasBidAskRegressionStrategy/KerasBidAskRegressionStrategy.db'  [1 of 15]\n",
      " 8192 of 8192   100% in    0s    56.78 KB/s  done\n",
      "download: 's3://pytrade2/data/dev/KerasBidAskRegressionStrategy/Xy/2023-12-17_BTC-USDT_raw_bid_ask.csv.zip' -> '/home/dima/projects/pytrade2/deploy/yandex_cloud/../../data/yandex-cloud/dev/KerasBidAskRegressionStrategy/Xy/2023-12-17_BTC-USDT_raw_bid_ask.csv.zip'  [2 of 15]\n",
      " 305 of 305   100% in    0s     3.91 KB/s  done\n",
      "download: 's3://pytrade2/data/dev/KerasBidAskRegressionStrategy/Xy/2023-12-17_BTC-USDT_raw_candles_5min.csv.zip' -> '/home/dima/projects/pytrade2/deploy/yandex_cloud/../../data/yandex-cloud/dev/KerasBidAskRegressionStrategy/Xy/2023-12-17_BTC-USDT_raw_candles_5min.csv.zip'  [3 of 15]\n",
      " 375 of 375   100% in    0s     4.04 KB/s  done\n",
      "download: 's3://pytrade2/data/dev/KerasBidAskRegressionStrategy/account/2023-12-17_balance.csv.zip' -> '/home/dima/projects/pytrade2/deploy/yandex_cloud/../../data/yandex-cloud/dev/KerasBidAskRegressionStrategy/account/2023-12-17_balance.csv.zip'  [4 of 15]\n",
      " 235 of 235   100% in    0s     2.91 KB/s  done\n",
      "download: 's3://pytrade2/data/LongCandleDenseStrategy/Xy/2023-12-17_BTC-USDT_raw_candles_1min.csv.zip' -> '/home/dima/projects/pytrade2/deploy/yandex_cloud/../../data/yandex-cloud/LongCandleDenseStrategy/Xy/2023-12-17_BTC-USDT_raw_candles_1min.csv.zip'  [5 of 15]\n",
      " 1825083 of 1825083   100% in    2s   768.56 KB/s  done\n",
      "download: 's3://pytrade2/data/LongCandleDenseStrategy/Xy/2023-12-17_BTC-USDT_x.csv.zip' -> '/home/dima/projects/pytrade2/deploy/yandex_cloud/../../data/yandex-cloud/LongCandleDenseStrategy/Xy/2023-12-17_BTC-USDT_x.csv.zip'  [6 of 15]\n",
      " 314765 of 314765   100% in    0s   804.07 KB/s  done\n",
      "download: 's3://pytrade2/data/LongCandleDenseStrategy/Xy/2023-12-17_BTC-USDT_y.csv.zip' -> '/home/dima/projects/pytrade2/deploy/yandex_cloud/../../data/yandex-cloud/LongCandleDenseStrategy/Xy/2023-12-17_BTC-USDT_y.csv.zip'  [7 of 15]\n",
      " 47847 of 47847   100% in    0s   223.77 KB/s  done\n",
      "download: 's3://pytrade2/data/LongCandleDenseStrategy/Xy/2023-12-17_BTC-USDT_y_pred.csv.zip' -> '/home/dima/projects/pytrade2/deploy/yandex_cloud/../../data/yandex-cloud/LongCandleDenseStrategy/Xy/2023-12-17_BTC-USDT_y_pred.csv.zip'  [8 of 15]\n",
      " 43915 of 43915   100% in    0s   404.96 KB/s  done\n",
      "download: 's3://pytrade2/data/LongCandleDenseStrategy/account/2023-12-17_balance.csv.zip' -> '/home/dima/projects/pytrade2/deploy/yandex_cloud/../../data/yandex-cloud/LongCandleDenseStrategy/account/2023-12-17_balance.csv.zip'  [9 of 15]\n",
      " 1061 of 1061   100% in    0s    24.31 KB/s  done\n",
      "download: 's3://pytrade2/data/KerasBidAskRegressionStrategy/Xy/2023-12-17_BTC-USDT_raw_bid_ask.csv.zip' -> '/home/dima/projects/pytrade2/deploy/yandex_cloud/../../data/yandex-cloud/KerasBidAskRegressionStrategy/Xy/2023-12-17_BTC-USDT_raw_bid_ask.csv.zip'  [10 of 15]\n",
      " 24707072 of 80457664    30% in   33s   711.89 KB/s"
     ]
    }
   ],
   "source": [
    "\n",
    "import os\n",
    "\n",
    "# Downloading latest pytrade2 data\n",
    "if mode == \"yc\":\n",
    "    os.system(\"cd ./../deploy/yandex_cloud; ./download_data.sh\")\n",
    "    data_dir=f\"../data/yandex-cloud\"\n",
    "else:\n",
    "    data_dir=f\"../data/dev\"\n",
    "    \n",
    "print(f\"Download completed. Local data dir: {data_dir}\")   "
   ]
  },
  {
   "cell_type": "code",
   "execution_count": null,
   "metadata": {},
   "outputs": [],
   "source": [
    "from pathlib import Path\n",
    "\n",
    "def read_candles(days = 1, period = '1min'):\n",
    "    \"\"\" Read last days' 1 min candles from file system \"\"\"\n",
    "\n",
    "    candles_dir = Path(data_dir, 'LongCandleDenseStrategy', 'Xy')\n",
    "    files = sorted([f for f in os.listdir(candles_dir) if f.endswith(f\"candles_{period}.csv.zip\")])\n",
    "    # Read last days' files to one dataframe\n",
    "    df = pd.concat([pd.read_csv(Path(candles_dir, fname), parse_dates=['open_time', 'close_time']) for fname in files[-days:]])\n",
    "    df = df.set_index('close_time', drop=False)\n",
    "    del(df['close_time.1']) # temp fix\n",
    "    # Resample because row data contains multiple candles inside a period\n",
    "    return df.resample('1min').agg('last')\n",
    "\n",
    "candles = read_candles(1)\n",
    "candles.tail()\n",
    "\n"
   ]
  },
  {
   "cell_type": "code",
   "execution_count": null,
   "metadata": {},
   "outputs": [],
   "source": [
    "\n",
    "def plot_value_counts(ax, df, col, grouped):\n",
    "    signals = df[col]\n",
    "    #vc = signals[signals.diff() != 0].value_counts()\n",
    "    vc = df[col].value_counts() if not grouped else signals[(signals.diff() != 0) & (signals != 0)].value_counts()\n",
    "    label_map={0:'oom', 1:'buy', -1: 'sell'}\n",
    "    color_map={'oom':'C0', 'buy': 'C1', 'sell': 'C2'}\n",
    "    labels = [ label_map[signal] for signal in vc.index.tolist()]\n",
    "    colors = [color_map[key] for key in labels]\n",
    "    ax.pie(vc, labels = labels,  autopct= lambda x: '{:.0f}'.format(x*vc.sum()/100), colors = colors)\n",
    "    tag = 'groups' if grouped else ''\n",
    "    ax.set_title(f\"{col} {tag}\")\n",
    "    \n",
    "def plot_signal_counts(df):\n",
    "    fig, (ax1, ax2) = plt.subplots(1, 2) \n",
    "    plot_value_counts(ax1, df, 'signal', grouped = False)\n",
    "    plot_value_counts(ax2, df, 'signal', grouped = True)\n",
    "    fig.suptitle(f'Signal counts from {df.index.min()} to {df.index.max()}')\n",
    "    plt.show()"
   ]
  },
  {
   "cell_type": "code",
   "execution_count": null,
   "metadata": {},
   "outputs": [],
   "source": [
    "\n",
    "def calc_signal(candles, predict_window, open_ratio, min_profit_ratio, max_loss_ratio, comission_pct=0.012):\n",
    "    \"\"\" Signal -1,0,1 plus extended debugging info \"\"\"\n",
    "    #next_candles = candles[['open', 'high', 'low', 'close', 'vol']].shift(1)\n",
    "\n",
    "    next_candles = pd.DataFrame(index=candles.index)\n",
    "    next_candles[['high', 'low']] = (candles[['high', 'low']][::-1]\n",
    "                                     .rolling(predict_window).agg({'high' : 'max', 'low' : 'min'})\n",
    "                                     [::-1])\n",
    "\n",
    "    # BTC-USDT 40 000 * 1% = 400\n",
    "    # BTC-USDT 40 000 * 0.012% = 40 * 0.012 = 4,8\n",
    "    comission = comission_pct*0.01*2 # Order open, order close, double comission\n",
    "    # Ratio to open: generate signal if profit/loss > open ratio\n",
    "    #open_ratio = 1\n",
    "    min_profit = candles['close']*(max(comission*2, min_profit_ratio))\n",
    "    \n",
    "    # Profit / loss > open ratio considering comission and minimal profit\n",
    "    profit_buy = (next_candles['high'] - candles['high']) - (candles['close']*2*comission)\n",
    "    loss_buy =  (candles['high'] - next_candles['low']) + (candles['close']*2*comission)\n",
    "    signal_buy = (profit_buy > 0) & ((profit_buy / loss_buy) > open_ratio)& (profit_buy > min_profit)\n",
    "    \n",
    "    # Profit / loss > open ratio considering comission and minimal profit\n",
    "    profit_sell = (candles['low'] - next_candles['low']) - (candles['close']*2*comission)\n",
    "    loss_sell = (next_candles['high'] - candles['low']) + (candles['close']*2*comission)\n",
    "    signal_sell = (profit_sell > 0) & ((profit_sell / loss_sell) > open_ratio) & (profit_sell > min_profit)\n",
    "\n",
    "    # Signal\n",
    "    signal = pd.DataFrame(index=candles.index)\n",
    "    signal['signal'] = 0  # Default to 0\n",
    "    signal.loc[signal_buy & ~signal_sell, 'signal'] = 1  # Set to 1 where 'buy' is True and 'sell' is False\n",
    "    signal.loc[~signal_buy & signal_sell, 'signal'] = -1  # Set to -1 where 'sell' is True and 'buy' is False\n",
    "\n",
    "    df = signal\n",
    "    # Expected profit and loss\n",
    "    df.loc[signal['signal']==1, 'profit'] = profit_buy\n",
    "    df.loc[signal['signal']==1, 'loss'] = loss_buy\n",
    "    df.loc[signal['signal']==-1, 'profit'] = profit_sell\n",
    "    df.loc[signal['signal']==-1, 'loss'] = loss_sell\n",
    "    return df\n",
    "    # df[['high', 'low', 'close']] = candles[['high','low', 'close']]\n",
    "    # df[['next_high', 'next_low']] = next_candles[['high', 'low']]\n",
    "    # df['min_profit'] = min_profit\n",
    "    # df['profit_buy'] = profit_buy\n",
    "    # df['loss_buy']  = loss_buy\n",
    "    # df['profit_buy_ratio'] = profit_buy / loss_buy\n",
    "    # df['profit_sell'] = profit_sell\n",
    "    # df['loss_sell']  = loss_sell\n",
    "    # df['profit_sell_ratio'] = profit_sell / loss_sell\n",
    "\n",
    "    # #df = df[(profit_buy / loss_buy) > open_ratio]\n",
    "    \n",
    "    # df['signal'] = signal['signal']\n",
    "    # # df['buy ratio'] = profit_buy/loss_buy\n",
    "    \n",
    "    # return df\n",
    "\n",
    "signal = (calc_signal(candles, \n",
    "                      predict_window = '10min', \n",
    "                      open_ratio = 4, \n",
    "                      # 0.01*0.012*2 - open+close comission 0.012%\n",
    "                      # Comission is 4.8 for 40K price, ~10 for one open+close trade\n",
    "                      min_profit_ratio = (0.01*0.012*2) *2,\n",
    "                      max_loss_ratio = (0.01*0.012*2) * 10)\n",
    "         )\n",
    "signal[signal['signal']!=0].tail(100)\n",
    "\n",
    "plot_signal_counts(signal)\n",
    "\n"
   ]
  },
  {
   "cell_type": "code",
   "execution_count": null,
   "metadata": {},
   "outputs": [],
   "source": [
    "\n",
    "\n",
    "\n",
    "\n"
   ]
  },
  {
   "cell_type": "code",
   "execution_count": null,
   "metadata": {},
   "outputs": [],
   "source": []
  },
  {
   "cell_type": "markdown",
   "metadata": {},
   "source": [
    "## Account"
   ]
  },
  {
   "cell_type": "code",
   "execution_count": null,
   "metadata": {},
   "outputs": [],
   "source": [
    "import plotly.express as px\n",
    "import seaborn as sns\n",
    "from matplotlib import pyplot as plt\n",
    "import seaborn as sns\n",
    "\n",
    "plot_figsize=(10,5)\n",
    "sns.set_style(\"darkgrid\")\n",
    "from datetime import datetime\n",
    "\n",
    "\n",
    "def get_balance(strategy: str):\n",
    "    \"\"\" Read balance history from data\"\"\"\n",
    "    \n",
    "    data_dir=f\"../data\"\n",
    "    env_dir=\"yandex-cloud\"\n",
    "    account_dir=f\"{data_dir}/{env_dir}/{strategy}/account\"\n",
    "    print(f\"Reading balance files from {account_dir}\")\n",
    "    #file_path = sorted([f for f in os.listdir(account_dir) if f.endswith(f\"{symbol}_{name}.csv\")])[-1]\n",
    "    files = sorted([f for f in os.listdir(account_dir) if f.endswith(f\".csv\")])\n",
    "    dfs = [pd.read_csv(f\"{account_dir}/{f}\", parse_dates=True, index_col=\"time\") for f in files]\n",
    "    df = pd.concat(dfs).sort_index() if dfs else pd.DataFrame(data=[{\"datetime\": datetime.now(), \"balance\": 0}], columns=[\"datetime\",\"balance\"])\n",
    "    #df = pd.concat([df for df in dfs if not df.empty]).sort_index()\n",
    "    df[\"datetime\"] = df.index\n",
    "    return df\n",
    "\n",
    "balance = get_balance(strategy)\n",
    "balance[\"balance\"].plot()\n",
    "plt.show()\n",
    "px.line(balance, \"datetime\", \"balance\", title=f\"{strategy} balance USDT\").update_traces(mode='lines+markers').show()\n",
    "plt.show()"
   ]
  },
  {
   "cell_type": "markdown",
   "metadata": {},
   "source": [
    "## Predicted and actual low/high"
   ]
  },
  {
   "cell_type": "code",
   "execution_count": null,
   "metadata": {},
   "outputs": [],
   "source": []
  },
  {
   "cell_type": "code",
   "execution_count": null,
   "metadata": {},
   "outputs": [],
   "source": [
    "import os\n",
    "import glob\n",
    "import pandas as pd\n",
    "from datetime import timedelta,date\n",
    "import matplotlib.pyplot as plt\n",
    "import plotly.express as px\n",
    "import logging\n",
    "\n",
    "def read_last(symbol: str, name: str, n=1000):\n",
    "    xy_dir=f\"{data_dir}/{strategy}/Xy\"\n",
    "    file_path = sorted([f for f in os.listdir(xy_dir) if f.endswith(f\"{symbol}_{name}.csv.zip\")])[-1]\n",
    "    file_path = f\"{xy_dir}/{file_path}\"\n",
    "    print(f\"Read from {file_path}\")\n",
    "    return pd.read_csv(file_path, parse_dates=True).tail(n)\n",
    "\n",
    "\n",
    "def read_last_xy(data_dir):\n",
    "    \"\"\" Read days from start to end from local predictions history\"\"\"\n",
    "    \n",
    "    #data=read_last(symbol, \"data\", n)\n",
    "    X=read_last(symbol, \"x\").set_index('close_time')\n",
    "    y=read_last(symbol, \"y\").set_index('close_time')\n",
    "    data=pd.merge(X,y, left_index=True, right_index=True) \n",
    "    #y=pd.concat([data,y])\n",
    "    return data,X,y\n",
    "\n",
    "\n",
    "# Read candles for last 3 days\n",
    "print(symbol)\n",
    "data,x,y = read_last_xy(data_dir)\n",
    "y.tail()\n"
   ]
  },
  {
   "cell_type": "code",
   "execution_count": null,
   "metadata": {},
   "outputs": [],
   "source": [
    "\n",
    "#actual_signal_counts = y['signal_actual'].diff().to_numpy().nonzero().value_counts()\n",
    "actual_signal_counts = y['signal_actual'].value_counts()\n",
    "\n",
    "\n",
    "#actual_signal_counts = actual_signal_counts[actual_signal_counts['signal_actual']!=0]\n",
    "pred_signal_counts = y['signal_pred'].value_counts()\n",
    "print(actual_signal_counts)\n"
   ]
  },
  {
   "cell_type": "code",
   "execution_count": null,
   "metadata": {},
   "outputs": [],
   "source": [
    " "
   ]
  },
  {
   "cell_type": "code",
   "execution_count": null,
   "metadata": {},
   "outputs": [],
   "source": [
    "\n",
    "\n",
    "def plot_signal_actual_pred_counts(y):\n",
    "    fig, ((ax1, ax2), (ax3, ax4)) = plt.subplots(2, 2)        \n",
    "    \n",
    "    # def plot_value_counts(ax, df, col, grouped=False):\n",
    "    #     signals = df[col]\n",
    "    #     #vc = signals[signals.diff() != 0].value_counts()\n",
    "    #     vc = df[col].value_counts() if not grouped else signals[(signals.diff() != 0) & (signals != 0)].value_counts()\n",
    "    #     label_map={0:'oom', 1:'buy', -1: 'sell'}\n",
    "    #     color_map={'oom':'C0', 'buy': 'C1', 'sell': 'C2'}\n",
    "    #     labels = [ label_map[signal] for signal in vc.index.tolist()]\n",
    "    #     colors = [color_map[key] for key in labels]\n",
    "    #     ax.pie(vc, labels = labels,  autopct= lambda x: '{:.0f}'.format(x*vc.sum()/100), colors = colors)\n",
    "    #     tag = 'groups' if grouped else ''\n",
    "    #     ax.set_title(f\"{col} {tag}\")\n",
    "    \n",
    "    \n",
    "    plot_value_counts(ax1, y, 'signal_actual', grouped=False)\n",
    "    plot_value_counts(ax2, y, 'signal_pred', grouped=False)\n",
    "    \n",
    "    plot_value_counts(ax3, y, 'signal_actual', grouped=True)\n",
    "    plot_value_counts(ax4, y, 'signal_pred', grouped=True)\n",
    "    fig.suptitle('Signal counts')\n",
    "    plt.show()\n",
    "\n",
    "plot_signal_actual_pred_counts(y)    "
   ]
  },
  {
   "cell_type": "code",
   "execution_count": null,
   "metadata": {},
   "outputs": [],
   "source": [
    "import seaborn as sns\n",
    "\n",
    "sns.heatmap(y.corr(), annot=True)\n",
    "plt.title('Predicted and actual signal')\n",
    "plt.show()"
   ]
  },
  {
   "cell_type": "code",
   "execution_count": null,
   "metadata": {},
   "outputs": [],
   "source": [
    "from sklearn.metrics import classification_report\n",
    "\n",
    "clf_report = classification_report(y['signal_actual'],\n",
    "                                   y['signal_pred'],\n",
    "                                   zero_division=0,\n",
    "                                   #labels=['sell', 'flat', 'buy'],\n",
    "                                   target_names=['sell', 'flat', 'buy'],\n",
    "                                   output_dict=True)\n",
    "#print(clf_report)\n",
    "#sns.heatmap(pd.DataFrame(clf_report).iloc[:-1, :].T, annot=True)\n",
    "#sns.heatmap(pd.DataFrame(clf_report).iloc[:-1, :-3].T[::-1], annot=True)\n",
    "sns.heatmap(pd.DataFrame(clf_report).iloc[:-1, :].T, annot=True)\n",
    "plt.show()"
   ]
  },
  {
   "cell_type": "code",
   "execution_count": null,
   "metadata": {},
   "outputs": [],
   "source": []
  },
  {
   "cell_type": "code",
   "execution_count": null,
   "metadata": {},
   "outputs": [],
   "source": [
    "from sklearn import metrics\n",
    "confusion_matrix = metrics.confusion_matrix(y['signal_actual'], y['signal_pred'])\n",
    "\n",
    "metrics.ConfusionMatrixDisplay(confusion_matrix = confusion_matrix, display_labels = ['Sell', 'Flat', 'Buy']).plot()\n",
    "plt.title('Confusion matrix')\n",
    "plt.show()\n",
    "print(confusion_matrix)"
   ]
  },
  {
   "cell_type": "code",
   "execution_count": null,
   "metadata": {},
   "outputs": [],
   "source": [
    "import matplotlib.pyplot as plt\n",
    "import matplotlib.dates as mdates\n",
    "\n",
    "plt.plot(y.index, y['signal_pred']-y['signal_actual'])\n",
    "plt.gca().xaxis.set_major_locator(mdates.MonthLocator(interval=5))\n",
    "plt.xticks(rotation=45)\n",
    "\n",
    "#ax.format_xdata = mdates.DateFormatter('%Y-%m-%d')\n",
    "#plt.gca().xaxis.set_major_formatter(ConsizeDateFormatter())\n",
    "plt.show()"
   ]
  },
  {
   "cell_type": "code",
   "execution_count": null,
   "metadata": {},
   "outputs": [],
   "source": [
    "import plotly.express as px\n",
    "px.bar(x=y.index, \n",
    "    y=y['signal_pred']-y['signal_actual'], \n",
    "    title='Predicted and actual signal difference. diff = predicted - actual',\n",
    "    labels = {'x': 'time', 'y':'predicted - actual'}\n",
    "      ).show()"
   ]
  }
 ],
 "metadata": {
  "kernelspec": {
   "display_name": "Python 3 (ipykernel)",
   "language": "python",
   "name": "python3"
  },
  "language_info": {
   "codemirror_mode": {
    "name": "ipython",
    "version": 3
   },
   "file_extension": ".py",
   "mimetype": "text/x-python",
   "name": "python",
   "nbconvert_exporter": "python",
   "pygments_lexer": "ipython3",
   "version": "3.12.1"
  }
 },
 "nbformat": 4,
 "nbformat_minor": 4
}
