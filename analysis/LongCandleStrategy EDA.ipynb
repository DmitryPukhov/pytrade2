{
 "cells": [
  {
   "cell_type": "markdown",
   "metadata": {},
   "source": [
    "# Long candle strategy  EDA\n",
    "\n",
    "Long candle strategy is classification model.\n",
    "Features: prices\n",
    "Targets: -1,0,1 signal"
   ]
  },
  {
   "cell_type": "markdown",
   "metadata": {},
   "source": [
    "To install conda and binance packages to this notebook uncomment the code below"
   ]
  },
  {
   "cell_type": "code",
   "execution_count": 1,
   "metadata": {
    "scrolled": false
   },
   "outputs": [],
   "source": [
    "%%capture\n",
    "#%conda install -c plotly plotly=5.9.0\n",
    "#%conda install pip\n",
    "#%conda install twisted\n",
    "%pip install plotly==5.9.0\n",
    "%pip install twisted\n",
    "%pip install pandas\n",
    "#%pip install huobi-sdk==2.3.3\n",
    "\n",
    "import pandas as pd\n",
    "pd.set_option('display.max_columns', None)\n",
    "pd.set_option('display.expand_frame_repr', False)\n",
    "pd.set_option('max_colwidth', None)"
   ]
  },
  {
   "cell_type": "code",
   "execution_count": 2,
   "metadata": {},
   "outputs": [],
   "source": [
    "#mode=\"dev\" # dev - work with local dev data\n",
    "mode=\"yc\" # yc - work with data from yandex cloud bots\n",
    "\n",
    "symbol=\"BTC-USDT\"\n",
    "strategy=\"LongCandleDenseStrategy\""
   ]
  },
  {
   "cell_type": "code",
   "execution_count": 3,
   "metadata": {
    "scrolled": false
   },
   "outputs": [
    {
     "name": "stderr",
     "output_type": "stream",
     "text": [
      "deploy_lib.sh: line 4: yc: command not found\n",
      "INFO: Retrieving list of remote files for s3://pytrade2/data/ ...\n"
     ]
    },
    {
     "name": "stdout",
     "output_type": "stream",
     "text": [
      "Sync pytrade2 data from s3://pytrade2/data to /home/dima/projects/pytrade2/deploy/yandex_cloud/../../data/yandex-cloud\n"
     ]
    },
    {
     "name": "stderr",
     "output_type": "stream",
     "text": [
      "INFO: No cache file found, creating it.\n",
      "INFO: Compiling list of local files...\n",
      "INFO: Running stat() and reading/calculating MD5 values on 1782 files, this may take some time...\n",
      "INFO: [1000/1782]\n",
      "INFO: Found 108 remote files, 1782 local files\n",
      "INFO: Verifying attributes...\n",
      "INFO: disabled md5 check for LongCandleDenseStrategy/Xy/2023-10-07_BTC-USDT_x.csv\n",
      "INFO: disabled md5 check for LongCandleDenseStrategy/Xy/2023-10-08_BTC-USDT_x.csv\n",
      "INFO: disabled md5 check for LongCandleDenseStrategy/Xy/2023-10-09_BTC-USDT_x.csv\n",
      "INFO: Summary: 7 remote files to download, 1675 local files to delete, 0 local files to hardlink\n"
     ]
    },
    {
     "name": "stdout",
     "output_type": "stream",
     "text": [
      "download: 's3://pytrade2/data/LongCandleDenseStrategy/account/2023-10-29_balance.csv' -> '/home/dima/projects/pytrade2/deploy/yandex_cloud/../../data/yandex-cloud/LongCandleDenseStrategy/account/2023-10-29_balance.csv'  [1 of 7]\n",
      " 3675 of 3675   100% in    0s    45.20 kB/s  done\n",
      "download: 's3://pytrade2/data/LongCandleDenseStrategy/LongCandleDenseStrategy.db' -> '/home/dima/projects/pytrade2/deploy/yandex_cloud/../../data/yandex-cloud/LongCandleDenseStrategy/LongCandleDenseStrategy.db'  [2 of 7]\n",
      " 8192 of 8192   100% in    0s   122.93 kB/s  done\n",
      "download: 's3://pytrade2/data/LongCandleDenseStrategy/Xy/2023-10-29_BTC-USDT_learn_x.csv' -> '/home/dima/projects/pytrade2/deploy/yandex_cloud/../../data/yandex-cloud/LongCandleDenseStrategy/Xy/2023-10-29_BTC-USDT_learn_x.csv'  [3 of 7]\n",
      " 3976090 of 3976090   100% in    1s     3.77 MB/s  done\n",
      "download: 's3://pytrade2/data/LongCandleDenseStrategy/Xy/2023-10-29_BTC-USDT_learn_y.csv' -> '/home/dima/projects/pytrade2/deploy/yandex_cloud/../../data/yandex-cloud/LongCandleDenseStrategy/Xy/2023-10-29_BTC-USDT_learn_y.csv'  [4 of 7]\n",
      " 126572 of 126572   100% in    0s  1402.22 kB/s  done\n",
      "download: 's3://pytrade2/data/LongCandleDenseStrategy/Xy/2023-10-29_BTC-USDT_x.csv' -> '/home/dima/projects/pytrade2/deploy/yandex_cloud/../../data/yandex-cloud/LongCandleDenseStrategy/Xy/2023-10-29_BTC-USDT_x.csv'  [5 of 7]\n",
      " 748638 of 748638   100% in    0s     3.11 MB/s  done\n",
      "download: 's3://pytrade2/data/LongCandleDenseStrategy/Xy/2023-10-29_BTC-USDT_y.csv' -> '/home/dima/projects/pytrade2/deploy/yandex_cloud/../../data/yandex-cloud/LongCandleDenseStrategy/Xy/2023-10-29_BTC-USDT_y.csv'  [6 of 7]\n",
      " 25732 of 25732   100% in    0s   351.14 kB/s  done\n",
      "download: 's3://pytrade2/data/LongCandleDenseStrategy/Xy/2023-10-29_BTC-USDT_y_pred.csv' -> '/home/dima/projects/pytrade2/deploy/yandex_cloud/../../data/yandex-cloud/LongCandleDenseStrategy/Xy/2023-10-29_BTC-USDT_y_pred.csv'  [7 of 7]\n",
      " 24181 of 24181   100% in    0s    93.09 kB/s  done\n",
      "Done. Downloaded 4913080 bytes in 1.8 seconds, 2.60 MB/s.\n",
      "LongCandleDenseStrategy last opened: 2023-10-29 16:05:39.142000, closed: 2023-10-29 16:03:37.574000\n",
      "LSTMStrategy last opened: 2023-08-01 15:34:15.711000, closed: 2023-08-01 15:43:49.187000\n",
      "LSTMStrategy2 last opened: , closed: \n",
      "SimpleKerasStrategy last opened: 2023-07-07 17:06:28.241000, closed: 2023-07-07 17:11:10.986000\n",
      "Current time Вс 29 окт 2023 16:09:51 UTC\n",
      "Download completed. Local data dir: ../data/yandex-cloud\n"
     ]
    }
   ],
   "source": [
    "\n",
    "import os\n",
    "\n",
    "# Downloading latest pytrade2 data\n",
    "if mode == \"yc\":\n",
    "    os.system(\"cd ./../deploy/yandex_cloud; ./download_data.sh\")\n",
    "    data_dir=f\"../data/yandex-cloud\"\n",
    "else:\n",
    "    data_dir=f\"../data/dev\"\n",
    "    \n",
    "print(f\"Download completed. Local data dir: {data_dir}\")\n",
    "\n",
    "    "
   ]
  },
  {
   "cell_type": "markdown",
   "metadata": {},
   "source": [
    "## Account"
   ]
  },
  {
   "cell_type": "code",
   "execution_count": 11,
   "metadata": {},
   "outputs": [
    {
     "name": "stdout",
     "output_type": "stream",
     "text": [
      "Reading balance files from ../data/yandex-cloud/LongCandleDenseStrategy/account\n"
     ]
    },
    {
     "data": {
      "application/vnd.plotly.v1+json": {
       "config": {
        "plotlyServerURL": "https://plot.ly"
       },
       "data": [
        {
         "hovertemplate": "datetime=%{x}<br>balance=%{y}<extra></extra>",
         "legendgroup": "",
         "line": {
          "color": "#636efa",
          "dash": "solid"
         },
         "marker": {
          "symbol": "circle"
         },
         "mode": "lines+markers",
         "name": "",
         "orientation": "v",
         "showlegend": false,
         "type": "scatter",
         "x": [
          "2023-10-29T07:40:22.832424",
          "2023-10-29T07:40:23.712696",
          "2023-10-29T07:51:51.477423",
          "2023-10-29T07:51:52.379144",
          "2023-10-29T07:52:02.653975",
          "2023-10-29T07:54:21.790724",
          "2023-10-29T07:54:26.986295",
          "2023-10-29T07:57:21.198321",
          "2023-10-29T08:00:21.251419",
          "2023-10-29T08:04:17.115854",
          "2023-10-29T08:04:22.783242",
          "2023-10-29T08:04:48.605099",
          "2023-10-29T12:40:42.379996",
          "2023-10-29T13:04:25.301170",
          "2023-10-29T13:04:26.841332",
          "2023-10-29T13:15:37.398358",
          "2023-10-29T13:15:37.703682",
          "2023-10-29T13:15:39.405183",
          "2023-10-29T13:15:45.801320",
          "2023-10-29T13:16:07.097895",
          "2023-10-29T13:16:11.347550",
          "2023-10-29T13:24:21.443107",
          "2023-10-29T13:30:20.934226",
          "2023-10-29T13:30:29.237405",
          "2023-10-29T13:32:36.238243",
          "2023-10-29T13:32:36.561885",
          "2023-10-29T13:34:55.252766",
          "2023-10-29T13:35:59.588860",
          "2023-10-29T13:36:07.112876",
          "2023-10-29T13:37:03.180535",
          "2023-10-29T13:45:27.633625",
          "2023-10-29T13:45:34.569487",
          "2023-10-29T13:53:22.430677",
          "2023-10-29T13:53:22.726513",
          "2023-10-29T13:53:31.941691",
          "2023-10-29T14:01:41.735652",
          "2023-10-29T14:01:47.185480",
          "2023-10-29T14:04:17.226764",
          "2023-10-29T14:11:00.928271",
          "2023-10-29T14:11:05.613902",
          "2023-10-29T14:11:46.846177",
          "2023-10-29T14:19:17.151535",
          "2023-10-29T14:19:17.477733",
          "2023-10-29T14:35:57.457956",
          "2023-10-29T14:36:04.954385",
          "2023-10-29T14:39:35.100603",
          "2023-10-29T14:46:14.510170",
          "2023-10-29T14:46:21.170035",
          "2023-10-29T14:47:02.313427",
          "2023-10-29T14:54:29.286570",
          "2023-10-29T14:54:35.606007",
          "2023-10-29T14:55:31.788150",
          "2023-10-29T15:07:34.247468",
          "2023-10-29T15:07:41.661120",
          "2023-10-29T15:08:17.325520",
          "2023-10-29T15:19:32.189950",
          "2023-10-29T15:19:38.487207",
          "2023-10-29T15:21:00.829939",
          "2023-10-29T15:30:53.631592",
          "2023-10-29T15:30:57.689803",
          "2023-10-29T15:31:38.803076",
          "2023-10-29T15:37:01.447357",
          "2023-10-29T15:37:07.340038",
          "2023-10-29T15:38:03.719900",
          "2023-10-29T15:46:30.763516",
          "2023-10-29T15:46:31.089661",
          "2023-10-29T15:52:58.705287",
          "2023-10-29T15:53:06.994690",
          "2023-10-29T15:54:08.623462",
          "2023-10-29T16:00:16.122145",
          "2023-10-29T16:03:38.186725",
          "2023-10-29T16:03:47.606207",
          "2023-10-29T16:05:46.403769"
         ],
         "xaxis": "x",
         "y": [
          43.38008476831522,
          43.38008476831522,
          43.38008476831522,
          43.38008476831522,
          43.36302916831522,
          43.32996556831522,
          43.32996556831522,
          43.31291516831522,
          43.31632410975387,
          43.29687250975387,
          43.29687250975387,
          43.27982090975387,
          43.50442090975387,
          43.53543290975387,
          43.53543290975387,
          43.48984335975387,
          43.48984335975387,
          43.48984335975387,
          43.47266385975387,
          43.41810305975387,
          43.41810305975387,
          43.40092800975387,
          43.39434765975387,
          43.39434765975387,
          43.39434765975387,
          43.39434765975387,
          43.37715270975387,
          43.37036295975387,
          43.37036295975387,
          43.35318600975387,
          43.34181195975387,
          43.34181195975387,
          43.34181195975387,
          43.34181195975387,
          43.32463025975387,
          43.30005225975387,
          43.30005225975387,
          43.28287010975387,
          43.23040560975387,
          43.23040560975387,
          43.21323705975387,
          43.267437059753874,
          43.21323705975387,
          43.28562370975387,
          43.28562370975387,
          43.268397159753874,
          43.25666785975387,
          43.25666785975387,
          43.23944430975387,
          43.23491440975387,
          43.23491440975387,
          43.21768200975387,
          43.24772595975387,
          43.24772595975387,
          43.230464009753874,
          43.20830450975387,
          43.20830450975387,
          43.19105445975387,
          43.16330965975387,
          43.16330965975387,
          43.14608295975387,
          43.11526305975387,
          43.11526305975387,
          43.09804285975387,
          43.12304285975387,
          43.09804285975387,
          43.07812400975387,
          43.07812400975387,
          43.06091770975387,
          43.05747428326988,
          43.04556533326988,
          43.04556533326988,
          43.02835793326988
         ],
         "yaxis": "y"
        }
       ],
       "layout": {
        "legend": {
         "tracegroupgap": 0
        },
        "template": {
         "data": {
          "bar": [
           {
            "error_x": {
             "color": "#2a3f5f"
            },
            "error_y": {
             "color": "#2a3f5f"
            },
            "marker": {
             "line": {
              "color": "#E5ECF6",
              "width": 0.5
             },
             "pattern": {
              "fillmode": "overlay",
              "size": 10,
              "solidity": 0.2
             }
            },
            "type": "bar"
           }
          ],
          "barpolar": [
           {
            "marker": {
             "line": {
              "color": "#E5ECF6",
              "width": 0.5
             },
             "pattern": {
              "fillmode": "overlay",
              "size": 10,
              "solidity": 0.2
             }
            },
            "type": "barpolar"
           }
          ],
          "carpet": [
           {
            "aaxis": {
             "endlinecolor": "#2a3f5f",
             "gridcolor": "white",
             "linecolor": "white",
             "minorgridcolor": "white",
             "startlinecolor": "#2a3f5f"
            },
            "baxis": {
             "endlinecolor": "#2a3f5f",
             "gridcolor": "white",
             "linecolor": "white",
             "minorgridcolor": "white",
             "startlinecolor": "#2a3f5f"
            },
            "type": "carpet"
           }
          ],
          "choropleth": [
           {
            "colorbar": {
             "outlinewidth": 0,
             "ticks": ""
            },
            "type": "choropleth"
           }
          ],
          "contour": [
           {
            "colorbar": {
             "outlinewidth": 0,
             "ticks": ""
            },
            "colorscale": [
             [
              0,
              "#0d0887"
             ],
             [
              0.1111111111111111,
              "#46039f"
             ],
             [
              0.2222222222222222,
              "#7201a8"
             ],
             [
              0.3333333333333333,
              "#9c179e"
             ],
             [
              0.4444444444444444,
              "#bd3786"
             ],
             [
              0.5555555555555556,
              "#d8576b"
             ],
             [
              0.6666666666666666,
              "#ed7953"
             ],
             [
              0.7777777777777778,
              "#fb9f3a"
             ],
             [
              0.8888888888888888,
              "#fdca26"
             ],
             [
              1,
              "#f0f921"
             ]
            ],
            "type": "contour"
           }
          ],
          "contourcarpet": [
           {
            "colorbar": {
             "outlinewidth": 0,
             "ticks": ""
            },
            "type": "contourcarpet"
           }
          ],
          "heatmap": [
           {
            "colorbar": {
             "outlinewidth": 0,
             "ticks": ""
            },
            "colorscale": [
             [
              0,
              "#0d0887"
             ],
             [
              0.1111111111111111,
              "#46039f"
             ],
             [
              0.2222222222222222,
              "#7201a8"
             ],
             [
              0.3333333333333333,
              "#9c179e"
             ],
             [
              0.4444444444444444,
              "#bd3786"
             ],
             [
              0.5555555555555556,
              "#d8576b"
             ],
             [
              0.6666666666666666,
              "#ed7953"
             ],
             [
              0.7777777777777778,
              "#fb9f3a"
             ],
             [
              0.8888888888888888,
              "#fdca26"
             ],
             [
              1,
              "#f0f921"
             ]
            ],
            "type": "heatmap"
           }
          ],
          "heatmapgl": [
           {
            "colorbar": {
             "outlinewidth": 0,
             "ticks": ""
            },
            "colorscale": [
             [
              0,
              "#0d0887"
             ],
             [
              0.1111111111111111,
              "#46039f"
             ],
             [
              0.2222222222222222,
              "#7201a8"
             ],
             [
              0.3333333333333333,
              "#9c179e"
             ],
             [
              0.4444444444444444,
              "#bd3786"
             ],
             [
              0.5555555555555556,
              "#d8576b"
             ],
             [
              0.6666666666666666,
              "#ed7953"
             ],
             [
              0.7777777777777778,
              "#fb9f3a"
             ],
             [
              0.8888888888888888,
              "#fdca26"
             ],
             [
              1,
              "#f0f921"
             ]
            ],
            "type": "heatmapgl"
           }
          ],
          "histogram": [
           {
            "marker": {
             "pattern": {
              "fillmode": "overlay",
              "size": 10,
              "solidity": 0.2
             }
            },
            "type": "histogram"
           }
          ],
          "histogram2d": [
           {
            "colorbar": {
             "outlinewidth": 0,
             "ticks": ""
            },
            "colorscale": [
             [
              0,
              "#0d0887"
             ],
             [
              0.1111111111111111,
              "#46039f"
             ],
             [
              0.2222222222222222,
              "#7201a8"
             ],
             [
              0.3333333333333333,
              "#9c179e"
             ],
             [
              0.4444444444444444,
              "#bd3786"
             ],
             [
              0.5555555555555556,
              "#d8576b"
             ],
             [
              0.6666666666666666,
              "#ed7953"
             ],
             [
              0.7777777777777778,
              "#fb9f3a"
             ],
             [
              0.8888888888888888,
              "#fdca26"
             ],
             [
              1,
              "#f0f921"
             ]
            ],
            "type": "histogram2d"
           }
          ],
          "histogram2dcontour": [
           {
            "colorbar": {
             "outlinewidth": 0,
             "ticks": ""
            },
            "colorscale": [
             [
              0,
              "#0d0887"
             ],
             [
              0.1111111111111111,
              "#46039f"
             ],
             [
              0.2222222222222222,
              "#7201a8"
             ],
             [
              0.3333333333333333,
              "#9c179e"
             ],
             [
              0.4444444444444444,
              "#bd3786"
             ],
             [
              0.5555555555555556,
              "#d8576b"
             ],
             [
              0.6666666666666666,
              "#ed7953"
             ],
             [
              0.7777777777777778,
              "#fb9f3a"
             ],
             [
              0.8888888888888888,
              "#fdca26"
             ],
             [
              1,
              "#f0f921"
             ]
            ],
            "type": "histogram2dcontour"
           }
          ],
          "mesh3d": [
           {
            "colorbar": {
             "outlinewidth": 0,
             "ticks": ""
            },
            "type": "mesh3d"
           }
          ],
          "parcoords": [
           {
            "line": {
             "colorbar": {
              "outlinewidth": 0,
              "ticks": ""
             }
            },
            "type": "parcoords"
           }
          ],
          "pie": [
           {
            "automargin": true,
            "type": "pie"
           }
          ],
          "scatter": [
           {
            "fillpattern": {
             "fillmode": "overlay",
             "size": 10,
             "solidity": 0.2
            },
            "type": "scatter"
           }
          ],
          "scatter3d": [
           {
            "line": {
             "colorbar": {
              "outlinewidth": 0,
              "ticks": ""
             }
            },
            "marker": {
             "colorbar": {
              "outlinewidth": 0,
              "ticks": ""
             }
            },
            "type": "scatter3d"
           }
          ],
          "scattercarpet": [
           {
            "marker": {
             "colorbar": {
              "outlinewidth": 0,
              "ticks": ""
             }
            },
            "type": "scattercarpet"
           }
          ],
          "scattergeo": [
           {
            "marker": {
             "colorbar": {
              "outlinewidth": 0,
              "ticks": ""
             }
            },
            "type": "scattergeo"
           }
          ],
          "scattergl": [
           {
            "marker": {
             "colorbar": {
              "outlinewidth": 0,
              "ticks": ""
             }
            },
            "type": "scattergl"
           }
          ],
          "scattermapbox": [
           {
            "marker": {
             "colorbar": {
              "outlinewidth": 0,
              "ticks": ""
             }
            },
            "type": "scattermapbox"
           }
          ],
          "scatterpolar": [
           {
            "marker": {
             "colorbar": {
              "outlinewidth": 0,
              "ticks": ""
             }
            },
            "type": "scatterpolar"
           }
          ],
          "scatterpolargl": [
           {
            "marker": {
             "colorbar": {
              "outlinewidth": 0,
              "ticks": ""
             }
            },
            "type": "scatterpolargl"
           }
          ],
          "scatterternary": [
           {
            "marker": {
             "colorbar": {
              "outlinewidth": 0,
              "ticks": ""
             }
            },
            "type": "scatterternary"
           }
          ],
          "surface": [
           {
            "colorbar": {
             "outlinewidth": 0,
             "ticks": ""
            },
            "colorscale": [
             [
              0,
              "#0d0887"
             ],
             [
              0.1111111111111111,
              "#46039f"
             ],
             [
              0.2222222222222222,
              "#7201a8"
             ],
             [
              0.3333333333333333,
              "#9c179e"
             ],
             [
              0.4444444444444444,
              "#bd3786"
             ],
             [
              0.5555555555555556,
              "#d8576b"
             ],
             [
              0.6666666666666666,
              "#ed7953"
             ],
             [
              0.7777777777777778,
              "#fb9f3a"
             ],
             [
              0.8888888888888888,
              "#fdca26"
             ],
             [
              1,
              "#f0f921"
             ]
            ],
            "type": "surface"
           }
          ],
          "table": [
           {
            "cells": {
             "fill": {
              "color": "#EBF0F8"
             },
             "line": {
              "color": "white"
             }
            },
            "header": {
             "fill": {
              "color": "#C8D4E3"
             },
             "line": {
              "color": "white"
             }
            },
            "type": "table"
           }
          ]
         },
         "layout": {
          "annotationdefaults": {
           "arrowcolor": "#2a3f5f",
           "arrowhead": 0,
           "arrowwidth": 1
          },
          "autotypenumbers": "strict",
          "coloraxis": {
           "colorbar": {
            "outlinewidth": 0,
            "ticks": ""
           }
          },
          "colorscale": {
           "diverging": [
            [
             0,
             "#8e0152"
            ],
            [
             0.1,
             "#c51b7d"
            ],
            [
             0.2,
             "#de77ae"
            ],
            [
             0.3,
             "#f1b6da"
            ],
            [
             0.4,
             "#fde0ef"
            ],
            [
             0.5,
             "#f7f7f7"
            ],
            [
             0.6,
             "#e6f5d0"
            ],
            [
             0.7,
             "#b8e186"
            ],
            [
             0.8,
             "#7fbc41"
            ],
            [
             0.9,
             "#4d9221"
            ],
            [
             1,
             "#276419"
            ]
           ],
           "sequential": [
            [
             0,
             "#0d0887"
            ],
            [
             0.1111111111111111,
             "#46039f"
            ],
            [
             0.2222222222222222,
             "#7201a8"
            ],
            [
             0.3333333333333333,
             "#9c179e"
            ],
            [
             0.4444444444444444,
             "#bd3786"
            ],
            [
             0.5555555555555556,
             "#d8576b"
            ],
            [
             0.6666666666666666,
             "#ed7953"
            ],
            [
             0.7777777777777778,
             "#fb9f3a"
            ],
            [
             0.8888888888888888,
             "#fdca26"
            ],
            [
             1,
             "#f0f921"
            ]
           ],
           "sequentialminus": [
            [
             0,
             "#0d0887"
            ],
            [
             0.1111111111111111,
             "#46039f"
            ],
            [
             0.2222222222222222,
             "#7201a8"
            ],
            [
             0.3333333333333333,
             "#9c179e"
            ],
            [
             0.4444444444444444,
             "#bd3786"
            ],
            [
             0.5555555555555556,
             "#d8576b"
            ],
            [
             0.6666666666666666,
             "#ed7953"
            ],
            [
             0.7777777777777778,
             "#fb9f3a"
            ],
            [
             0.8888888888888888,
             "#fdca26"
            ],
            [
             1,
             "#f0f921"
            ]
           ]
          },
          "colorway": [
           "#636efa",
           "#EF553B",
           "#00cc96",
           "#ab63fa",
           "#FFA15A",
           "#19d3f3",
           "#FF6692",
           "#B6E880",
           "#FF97FF",
           "#FECB52"
          ],
          "font": {
           "color": "#2a3f5f"
          },
          "geo": {
           "bgcolor": "white",
           "lakecolor": "white",
           "landcolor": "#E5ECF6",
           "showlakes": true,
           "showland": true,
           "subunitcolor": "white"
          },
          "hoverlabel": {
           "align": "left"
          },
          "hovermode": "closest",
          "mapbox": {
           "style": "light"
          },
          "paper_bgcolor": "white",
          "plot_bgcolor": "#E5ECF6",
          "polar": {
           "angularaxis": {
            "gridcolor": "white",
            "linecolor": "white",
            "ticks": ""
           },
           "bgcolor": "#E5ECF6",
           "radialaxis": {
            "gridcolor": "white",
            "linecolor": "white",
            "ticks": ""
           }
          },
          "scene": {
           "xaxis": {
            "backgroundcolor": "#E5ECF6",
            "gridcolor": "white",
            "gridwidth": 2,
            "linecolor": "white",
            "showbackground": true,
            "ticks": "",
            "zerolinecolor": "white"
           },
           "yaxis": {
            "backgroundcolor": "#E5ECF6",
            "gridcolor": "white",
            "gridwidth": 2,
            "linecolor": "white",
            "showbackground": true,
            "ticks": "",
            "zerolinecolor": "white"
           },
           "zaxis": {
            "backgroundcolor": "#E5ECF6",
            "gridcolor": "white",
            "gridwidth": 2,
            "linecolor": "white",
            "showbackground": true,
            "ticks": "",
            "zerolinecolor": "white"
           }
          },
          "shapedefaults": {
           "line": {
            "color": "#2a3f5f"
           }
          },
          "ternary": {
           "aaxis": {
            "gridcolor": "white",
            "linecolor": "white",
            "ticks": ""
           },
           "baxis": {
            "gridcolor": "white",
            "linecolor": "white",
            "ticks": ""
           },
           "bgcolor": "#E5ECF6",
           "caxis": {
            "gridcolor": "white",
            "linecolor": "white",
            "ticks": ""
           }
          },
          "title": {
           "x": 0.05
          },
          "xaxis": {
           "automargin": true,
           "gridcolor": "white",
           "linecolor": "white",
           "ticks": "",
           "title": {
            "standoff": 15
           },
           "zerolinecolor": "white",
           "zerolinewidth": 2
          },
          "yaxis": {
           "automargin": true,
           "gridcolor": "white",
           "linecolor": "white",
           "ticks": "",
           "title": {
            "standoff": 15
           },
           "zerolinecolor": "white",
           "zerolinewidth": 2
          }
         }
        },
        "title": {
         "text": "LongCandleDenseStrategy balance USDT"
        },
        "xaxis": {
         "anchor": "y",
         "domain": [
          0,
          1
         ],
         "title": {
          "text": "datetime"
         }
        },
        "yaxis": {
         "anchor": "x",
         "domain": [
          0,
          1
         ],
         "title": {
          "text": "balance"
         }
        }
       }
      },
      "text/html": [
       "<div>                            <div id=\"ca06ed0a-ccfd-4ab1-af56-08b165c25e96\" class=\"plotly-graph-div\" style=\"height:525px; width:100%;\"></div>            <script type=\"text/javascript\">                require([\"plotly\"], function(Plotly) {                    window.PLOTLYENV=window.PLOTLYENV || {};                                    if (document.getElementById(\"ca06ed0a-ccfd-4ab1-af56-08b165c25e96\")) {                    Plotly.newPlot(                        \"ca06ed0a-ccfd-4ab1-af56-08b165c25e96\",                        [{\"hovertemplate\":\"datetime=%{x}<br>balance=%{y}<extra></extra>\",\"legendgroup\":\"\",\"line\":{\"color\":\"#636efa\",\"dash\":\"solid\"},\"marker\":{\"symbol\":\"circle\"},\"mode\":\"lines+markers\",\"name\":\"\",\"orientation\":\"v\",\"showlegend\":false,\"x\":[\"2023-10-29T07:40:22.832424\",\"2023-10-29T07:40:23.712696\",\"2023-10-29T07:51:51.477423\",\"2023-10-29T07:51:52.379144\",\"2023-10-29T07:52:02.653975\",\"2023-10-29T07:54:21.790724\",\"2023-10-29T07:54:26.986295\",\"2023-10-29T07:57:21.198321\",\"2023-10-29T08:00:21.251419\",\"2023-10-29T08:04:17.115854\",\"2023-10-29T08:04:22.783242\",\"2023-10-29T08:04:48.605099\",\"2023-10-29T12:40:42.379996\",\"2023-10-29T13:04:25.301170\",\"2023-10-29T13:04:26.841332\",\"2023-10-29T13:15:37.398358\",\"2023-10-29T13:15:37.703682\",\"2023-10-29T13:15:39.405183\",\"2023-10-29T13:15:45.801320\",\"2023-10-29T13:16:07.097895\",\"2023-10-29T13:16:11.347550\",\"2023-10-29T13:24:21.443107\",\"2023-10-29T13:30:20.934226\",\"2023-10-29T13:30:29.237405\",\"2023-10-29T13:32:36.238243\",\"2023-10-29T13:32:36.561885\",\"2023-10-29T13:34:55.252766\",\"2023-10-29T13:35:59.588860\",\"2023-10-29T13:36:07.112876\",\"2023-10-29T13:37:03.180535\",\"2023-10-29T13:45:27.633625\",\"2023-10-29T13:45:34.569487\",\"2023-10-29T13:53:22.430677\",\"2023-10-29T13:53:22.726513\",\"2023-10-29T13:53:31.941691\",\"2023-10-29T14:01:41.735652\",\"2023-10-29T14:01:47.185480\",\"2023-10-29T14:04:17.226764\",\"2023-10-29T14:11:00.928271\",\"2023-10-29T14:11:05.613902\",\"2023-10-29T14:11:46.846177\",\"2023-10-29T14:19:17.151535\",\"2023-10-29T14:19:17.477733\",\"2023-10-29T14:35:57.457956\",\"2023-10-29T14:36:04.954385\",\"2023-10-29T14:39:35.100603\",\"2023-10-29T14:46:14.510170\",\"2023-10-29T14:46:21.170035\",\"2023-10-29T14:47:02.313427\",\"2023-10-29T14:54:29.286570\",\"2023-10-29T14:54:35.606007\",\"2023-10-29T14:55:31.788150\",\"2023-10-29T15:07:34.247468\",\"2023-10-29T15:07:41.661120\",\"2023-10-29T15:08:17.325520\",\"2023-10-29T15:19:32.189950\",\"2023-10-29T15:19:38.487207\",\"2023-10-29T15:21:00.829939\",\"2023-10-29T15:30:53.631592\",\"2023-10-29T15:30:57.689803\",\"2023-10-29T15:31:38.803076\",\"2023-10-29T15:37:01.447357\",\"2023-10-29T15:37:07.340038\",\"2023-10-29T15:38:03.719900\",\"2023-10-29T15:46:30.763516\",\"2023-10-29T15:46:31.089661\",\"2023-10-29T15:52:58.705287\",\"2023-10-29T15:53:06.994690\",\"2023-10-29T15:54:08.623462\",\"2023-10-29T16:00:16.122145\",\"2023-10-29T16:03:38.186725\",\"2023-10-29T16:03:47.606207\",\"2023-10-29T16:05:46.403769\"],\"xaxis\":\"x\",\"y\":[43.38008476831522,43.38008476831522,43.38008476831522,43.38008476831522,43.36302916831522,43.32996556831522,43.32996556831522,43.31291516831522,43.31632410975387,43.29687250975387,43.29687250975387,43.27982090975387,43.50442090975387,43.53543290975387,43.53543290975387,43.48984335975387,43.48984335975387,43.48984335975387,43.47266385975387,43.41810305975387,43.41810305975387,43.40092800975387,43.39434765975387,43.39434765975387,43.39434765975387,43.39434765975387,43.37715270975387,43.37036295975387,43.37036295975387,43.35318600975387,43.34181195975387,43.34181195975387,43.34181195975387,43.34181195975387,43.32463025975387,43.30005225975387,43.30005225975387,43.28287010975387,43.23040560975387,43.23040560975387,43.21323705975387,43.267437059753874,43.21323705975387,43.28562370975387,43.28562370975387,43.268397159753874,43.25666785975387,43.25666785975387,43.23944430975387,43.23491440975387,43.23491440975387,43.21768200975387,43.24772595975387,43.24772595975387,43.230464009753874,43.20830450975387,43.20830450975387,43.19105445975387,43.16330965975387,43.16330965975387,43.14608295975387,43.11526305975387,43.11526305975387,43.09804285975387,43.12304285975387,43.09804285975387,43.07812400975387,43.07812400975387,43.06091770975387,43.05747428326988,43.04556533326988,43.04556533326988,43.02835793326988],\"yaxis\":\"y\",\"type\":\"scatter\"}],                        {\"template\":{\"data\":{\"histogram2dcontour\":[{\"type\":\"histogram2dcontour\",\"colorbar\":{\"outlinewidth\":0,\"ticks\":\"\"},\"colorscale\":[[0.0,\"#0d0887\"],[0.1111111111111111,\"#46039f\"],[0.2222222222222222,\"#7201a8\"],[0.3333333333333333,\"#9c179e\"],[0.4444444444444444,\"#bd3786\"],[0.5555555555555556,\"#d8576b\"],[0.6666666666666666,\"#ed7953\"],[0.7777777777777778,\"#fb9f3a\"],[0.8888888888888888,\"#fdca26\"],[1.0,\"#f0f921\"]]}],\"choropleth\":[{\"type\":\"choropleth\",\"colorbar\":{\"outlinewidth\":0,\"ticks\":\"\"}}],\"histogram2d\":[{\"type\":\"histogram2d\",\"colorbar\":{\"outlinewidth\":0,\"ticks\":\"\"},\"colorscale\":[[0.0,\"#0d0887\"],[0.1111111111111111,\"#46039f\"],[0.2222222222222222,\"#7201a8\"],[0.3333333333333333,\"#9c179e\"],[0.4444444444444444,\"#bd3786\"],[0.5555555555555556,\"#d8576b\"],[0.6666666666666666,\"#ed7953\"],[0.7777777777777778,\"#fb9f3a\"],[0.8888888888888888,\"#fdca26\"],[1.0,\"#f0f921\"]]}],\"heatmap\":[{\"type\":\"heatmap\",\"colorbar\":{\"outlinewidth\":0,\"ticks\":\"\"},\"colorscale\":[[0.0,\"#0d0887\"],[0.1111111111111111,\"#46039f\"],[0.2222222222222222,\"#7201a8\"],[0.3333333333333333,\"#9c179e\"],[0.4444444444444444,\"#bd3786\"],[0.5555555555555556,\"#d8576b\"],[0.6666666666666666,\"#ed7953\"],[0.7777777777777778,\"#fb9f3a\"],[0.8888888888888888,\"#fdca26\"],[1.0,\"#f0f921\"]]}],\"heatmapgl\":[{\"type\":\"heatmapgl\",\"colorbar\":{\"outlinewidth\":0,\"ticks\":\"\"},\"colorscale\":[[0.0,\"#0d0887\"],[0.1111111111111111,\"#46039f\"],[0.2222222222222222,\"#7201a8\"],[0.3333333333333333,\"#9c179e\"],[0.4444444444444444,\"#bd3786\"],[0.5555555555555556,\"#d8576b\"],[0.6666666666666666,\"#ed7953\"],[0.7777777777777778,\"#fb9f3a\"],[0.8888888888888888,\"#fdca26\"],[1.0,\"#f0f921\"]]}],\"contourcarpet\":[{\"type\":\"contourcarpet\",\"colorbar\":{\"outlinewidth\":0,\"ticks\":\"\"}}],\"contour\":[{\"type\":\"contour\",\"colorbar\":{\"outlinewidth\":0,\"ticks\":\"\"},\"colorscale\":[[0.0,\"#0d0887\"],[0.1111111111111111,\"#46039f\"],[0.2222222222222222,\"#7201a8\"],[0.3333333333333333,\"#9c179e\"],[0.4444444444444444,\"#bd3786\"],[0.5555555555555556,\"#d8576b\"],[0.6666666666666666,\"#ed7953\"],[0.7777777777777778,\"#fb9f3a\"],[0.8888888888888888,\"#fdca26\"],[1.0,\"#f0f921\"]]}],\"surface\":[{\"type\":\"surface\",\"colorbar\":{\"outlinewidth\":0,\"ticks\":\"\"},\"colorscale\":[[0.0,\"#0d0887\"],[0.1111111111111111,\"#46039f\"],[0.2222222222222222,\"#7201a8\"],[0.3333333333333333,\"#9c179e\"],[0.4444444444444444,\"#bd3786\"],[0.5555555555555556,\"#d8576b\"],[0.6666666666666666,\"#ed7953\"],[0.7777777777777778,\"#fb9f3a\"],[0.8888888888888888,\"#fdca26\"],[1.0,\"#f0f921\"]]}],\"mesh3d\":[{\"type\":\"mesh3d\",\"colorbar\":{\"outlinewidth\":0,\"ticks\":\"\"}}],\"scatter\":[{\"fillpattern\":{\"fillmode\":\"overlay\",\"size\":10,\"solidity\":0.2},\"type\":\"scatter\"}],\"parcoords\":[{\"type\":\"parcoords\",\"line\":{\"colorbar\":{\"outlinewidth\":0,\"ticks\":\"\"}}}],\"scatterpolargl\":[{\"type\":\"scatterpolargl\",\"marker\":{\"colorbar\":{\"outlinewidth\":0,\"ticks\":\"\"}}}],\"bar\":[{\"error_x\":{\"color\":\"#2a3f5f\"},\"error_y\":{\"color\":\"#2a3f5f\"},\"marker\":{\"line\":{\"color\":\"#E5ECF6\",\"width\":0.5},\"pattern\":{\"fillmode\":\"overlay\",\"size\":10,\"solidity\":0.2}},\"type\":\"bar\"}],\"scattergeo\":[{\"type\":\"scattergeo\",\"marker\":{\"colorbar\":{\"outlinewidth\":0,\"ticks\":\"\"}}}],\"scatterpolar\":[{\"type\":\"scatterpolar\",\"marker\":{\"colorbar\":{\"outlinewidth\":0,\"ticks\":\"\"}}}],\"histogram\":[{\"marker\":{\"pattern\":{\"fillmode\":\"overlay\",\"size\":10,\"solidity\":0.2}},\"type\":\"histogram\"}],\"scattergl\":[{\"type\":\"scattergl\",\"marker\":{\"colorbar\":{\"outlinewidth\":0,\"ticks\":\"\"}}}],\"scatter3d\":[{\"type\":\"scatter3d\",\"line\":{\"colorbar\":{\"outlinewidth\":0,\"ticks\":\"\"}},\"marker\":{\"colorbar\":{\"outlinewidth\":0,\"ticks\":\"\"}}}],\"scattermapbox\":[{\"type\":\"scattermapbox\",\"marker\":{\"colorbar\":{\"outlinewidth\":0,\"ticks\":\"\"}}}],\"scatterternary\":[{\"type\":\"scatterternary\",\"marker\":{\"colorbar\":{\"outlinewidth\":0,\"ticks\":\"\"}}}],\"scattercarpet\":[{\"type\":\"scattercarpet\",\"marker\":{\"colorbar\":{\"outlinewidth\":0,\"ticks\":\"\"}}}],\"carpet\":[{\"aaxis\":{\"endlinecolor\":\"#2a3f5f\",\"gridcolor\":\"white\",\"linecolor\":\"white\",\"minorgridcolor\":\"white\",\"startlinecolor\":\"#2a3f5f\"},\"baxis\":{\"endlinecolor\":\"#2a3f5f\",\"gridcolor\":\"white\",\"linecolor\":\"white\",\"minorgridcolor\":\"white\",\"startlinecolor\":\"#2a3f5f\"},\"type\":\"carpet\"}],\"table\":[{\"cells\":{\"fill\":{\"color\":\"#EBF0F8\"},\"line\":{\"color\":\"white\"}},\"header\":{\"fill\":{\"color\":\"#C8D4E3\"},\"line\":{\"color\":\"white\"}},\"type\":\"table\"}],\"barpolar\":[{\"marker\":{\"line\":{\"color\":\"#E5ECF6\",\"width\":0.5},\"pattern\":{\"fillmode\":\"overlay\",\"size\":10,\"solidity\":0.2}},\"type\":\"barpolar\"}],\"pie\":[{\"automargin\":true,\"type\":\"pie\"}]},\"layout\":{\"autotypenumbers\":\"strict\",\"colorway\":[\"#636efa\",\"#EF553B\",\"#00cc96\",\"#ab63fa\",\"#FFA15A\",\"#19d3f3\",\"#FF6692\",\"#B6E880\",\"#FF97FF\",\"#FECB52\"],\"font\":{\"color\":\"#2a3f5f\"},\"hovermode\":\"closest\",\"hoverlabel\":{\"align\":\"left\"},\"paper_bgcolor\":\"white\",\"plot_bgcolor\":\"#E5ECF6\",\"polar\":{\"bgcolor\":\"#E5ECF6\",\"angularaxis\":{\"gridcolor\":\"white\",\"linecolor\":\"white\",\"ticks\":\"\"},\"radialaxis\":{\"gridcolor\":\"white\",\"linecolor\":\"white\",\"ticks\":\"\"}},\"ternary\":{\"bgcolor\":\"#E5ECF6\",\"aaxis\":{\"gridcolor\":\"white\",\"linecolor\":\"white\",\"ticks\":\"\"},\"baxis\":{\"gridcolor\":\"white\",\"linecolor\":\"white\",\"ticks\":\"\"},\"caxis\":{\"gridcolor\":\"white\",\"linecolor\":\"white\",\"ticks\":\"\"}},\"coloraxis\":{\"colorbar\":{\"outlinewidth\":0,\"ticks\":\"\"}},\"colorscale\":{\"sequential\":[[0.0,\"#0d0887\"],[0.1111111111111111,\"#46039f\"],[0.2222222222222222,\"#7201a8\"],[0.3333333333333333,\"#9c179e\"],[0.4444444444444444,\"#bd3786\"],[0.5555555555555556,\"#d8576b\"],[0.6666666666666666,\"#ed7953\"],[0.7777777777777778,\"#fb9f3a\"],[0.8888888888888888,\"#fdca26\"],[1.0,\"#f0f921\"]],\"sequentialminus\":[[0.0,\"#0d0887\"],[0.1111111111111111,\"#46039f\"],[0.2222222222222222,\"#7201a8\"],[0.3333333333333333,\"#9c179e\"],[0.4444444444444444,\"#bd3786\"],[0.5555555555555556,\"#d8576b\"],[0.6666666666666666,\"#ed7953\"],[0.7777777777777778,\"#fb9f3a\"],[0.8888888888888888,\"#fdca26\"],[1.0,\"#f0f921\"]],\"diverging\":[[0,\"#8e0152\"],[0.1,\"#c51b7d\"],[0.2,\"#de77ae\"],[0.3,\"#f1b6da\"],[0.4,\"#fde0ef\"],[0.5,\"#f7f7f7\"],[0.6,\"#e6f5d0\"],[0.7,\"#b8e186\"],[0.8,\"#7fbc41\"],[0.9,\"#4d9221\"],[1,\"#276419\"]]},\"xaxis\":{\"gridcolor\":\"white\",\"linecolor\":\"white\",\"ticks\":\"\",\"title\":{\"standoff\":15},\"zerolinecolor\":\"white\",\"automargin\":true,\"zerolinewidth\":2},\"yaxis\":{\"gridcolor\":\"white\",\"linecolor\":\"white\",\"ticks\":\"\",\"title\":{\"standoff\":15},\"zerolinecolor\":\"white\",\"automargin\":true,\"zerolinewidth\":2},\"scene\":{\"xaxis\":{\"backgroundcolor\":\"#E5ECF6\",\"gridcolor\":\"white\",\"linecolor\":\"white\",\"showbackground\":true,\"ticks\":\"\",\"zerolinecolor\":\"white\",\"gridwidth\":2},\"yaxis\":{\"backgroundcolor\":\"#E5ECF6\",\"gridcolor\":\"white\",\"linecolor\":\"white\",\"showbackground\":true,\"ticks\":\"\",\"zerolinecolor\":\"white\",\"gridwidth\":2},\"zaxis\":{\"backgroundcolor\":\"#E5ECF6\",\"gridcolor\":\"white\",\"linecolor\":\"white\",\"showbackground\":true,\"ticks\":\"\",\"zerolinecolor\":\"white\",\"gridwidth\":2}},\"shapedefaults\":{\"line\":{\"color\":\"#2a3f5f\"}},\"annotationdefaults\":{\"arrowcolor\":\"#2a3f5f\",\"arrowhead\":0,\"arrowwidth\":1},\"geo\":{\"bgcolor\":\"white\",\"landcolor\":\"#E5ECF6\",\"subunitcolor\":\"white\",\"showland\":true,\"showlakes\":true,\"lakecolor\":\"white\"},\"title\":{\"x\":0.05},\"mapbox\":{\"style\":\"light\"}}},\"xaxis\":{\"anchor\":\"y\",\"domain\":[0.0,1.0],\"title\":{\"text\":\"datetime\"}},\"yaxis\":{\"anchor\":\"x\",\"domain\":[0.0,1.0],\"title\":{\"text\":\"balance\"}},\"legend\":{\"tracegroupgap\":0},\"title\":{\"text\":\"LongCandleDenseStrategy balance USDT\"}},                        {\"responsive\": true}                    ).then(function(){\n",
       "                            \n",
       "var gd = document.getElementById('ca06ed0a-ccfd-4ab1-af56-08b165c25e96');\n",
       "var x = new MutationObserver(function (mutations, observer) {{\n",
       "        var display = window.getComputedStyle(gd).display;\n",
       "        if (!display || display === 'none') {{\n",
       "            console.log([gd, 'removed!']);\n",
       "            Plotly.purge(gd);\n",
       "            observer.disconnect();\n",
       "        }}\n",
       "}});\n",
       "\n",
       "// Listen for the removal of the full notebook cells\n",
       "var notebookContainer = gd.closest('#notebook-container');\n",
       "if (notebookContainer) {{\n",
       "    x.observe(notebookContainer, {childList: true});\n",
       "}}\n",
       "\n",
       "// Listen for the clearing of the current output cell\n",
       "var outputEl = gd.closest('.output');\n",
       "if (outputEl) {{\n",
       "    x.observe(outputEl, {childList: true});\n",
       "}}\n",
       "\n",
       "                        })                };                });            </script>        </div>"
      ]
     },
     "metadata": {},
     "output_type": "display_data"
    },
    {
     "data": {
      "image/png": "[encoded data removed]",
      "text/plain": [
       "<Figure size 640x480 with 1 Axes>"
      ]
     },
     "metadata": {},
     "output_type": "display_data"
    }
   ],
   "source": [
    "import plotly.express as px\n",
    "import seaborn as sns\n",
    "from matplotlib import pyplot as plt\n",
    "import seaborn as sns\n",
    "\n",
    "plot_figsize=(10,5)\n",
    "sns.set_style(\"darkgrid\")\n",
    "\n",
    "\n",
    "\n",
    "def get_balance(strategy: str):\n",
    "    \"\"\" Read balance history from data\"\"\"\n",
    "    \n",
    "    data_dir=f\"../data\"\n",
    "    env_dir=\"yandex-cloud\"\n",
    "    account_dir=f\"{data_dir}/{env_dir}/{strategy}/account\"\n",
    "    print(f\"Reading balance files from {account_dir}\")\n",
    "    #file_path = sorted([f for f in os.listdir(account_dir) if f.endswith(f\"{symbol}_{name}.csv\")])[-1]\n",
    "    files = sorted([f for f in os.listdir(account_dir) if f.endswith(f\".csv\")])\n",
    "    df = pd.concat([pd.read_csv(f\"{account_dir}/{f}\", parse_dates=True, index_col=\"time\") for f in files]).sort_index()\n",
    "    df[\"datetime\"] = df.index\n",
    "    return df\n",
    "\n",
    "balance = get_balance(strategy)\n",
    "balance[\"balance\"].plot()\n",
    "#plt.show()\n",
    "px.line(balance, \"datetime\", \"balance\", title=f\"{strategy} balance USDT\").update_traces(mode='lines+markers').show()\n"
   ]
  },
  {
   "cell_type": "markdown",
   "metadata": {},
   "source": [
    "## Predicted and actual low/high"
   ]
  },
  {
   "cell_type": "code",
   "execution_count": 5,
   "metadata": {},
   "outputs": [
    {
     "name": "stdout",
     "output_type": "stream",
     "text": [
      "BTC-USDT\n",
      "Read from ../data/yandex-cloud/LongCandleDenseStrategy/Xy/2023-10-29_BTC-USDT_x.csv\n",
      "Read from ../data/yandex-cloud/LongCandleDenseStrategy/Xy/2023-10-29_BTC-USDT_y.csv\n"
     ]
    },
    {
     "data": {
      "text/html": [
       "<div>\n",
       "<style scoped>\n",
       "    .dataframe tbody tr th:only-of-type {\n",
       "        vertical-align: middle;\n",
       "    }\n",
       "\n",
       "    .dataframe tbody tr th {\n",
       "        vertical-align: top;\n",
       "    }\n",
       "\n",
       "    .dataframe thead th {\n",
       "        text-align: right;\n",
       "    }\n",
       "</style>\n",
       "<table border=\"1\" class=\"dataframe\">\n",
       "  <thead>\n",
       "    <tr style=\"text-align: right;\">\n",
       "      <th></th>\n",
       "      <th>signal_pred</th>\n",
       "      <th>signal_actual</th>\n",
       "    </tr>\n",
       "    <tr>\n",
       "      <th>close_time</th>\n",
       "      <th></th>\n",
       "      <th></th>\n",
       "    </tr>\n",
       "  </thead>\n",
       "  <tbody>\n",
       "    <tr>\n",
       "      <th>2023-10-29 16:01:29.676</th>\n",
       "      <td>1</td>\n",
       "      <td>0</td>\n",
       "    </tr>\n",
       "    <tr>\n",
       "      <th>2023-10-29 16:02:32.869</th>\n",
       "      <td>0</td>\n",
       "      <td>0</td>\n",
       "    </tr>\n",
       "    <tr>\n",
       "      <th>2023-10-29 16:03:36.681</th>\n",
       "      <td>1</td>\n",
       "      <td>0</td>\n",
       "    </tr>\n",
       "    <tr>\n",
       "      <th>2023-10-29 16:04:43.177</th>\n",
       "      <td>-1</td>\n",
       "      <td>0</td>\n",
       "    </tr>\n",
       "    <tr>\n",
       "      <th>2023-10-29 16:05:46.859</th>\n",
       "      <td>1</td>\n",
       "      <td>0</td>\n",
       "    </tr>\n",
       "  </tbody>\n",
       "</table>\n",
       "</div>"
      ],
      "text/plain": [
       "                         signal_pred  signal_actual\n",
       "close_time                                         \n",
       "2023-10-29 16:01:29.676            1              0\n",
       "2023-10-29 16:02:32.869            0              0\n",
       "2023-10-29 16:03:36.681            1              0\n",
       "2023-10-29 16:04:43.177           -1              0\n",
       "2023-10-29 16:05:46.859            1              0"
      ]
     },
     "execution_count": 5,
     "metadata": {},
     "output_type": "execute_result"
    }
   ],
   "source": [
    "import os\n",
    "import glob\n",
    "import pandas as pd\n",
    "from datetime import timedelta,date\n",
    "import matplotlib.pyplot as plt\n",
    "import plotly.express as px\n",
    "\n",
    "def read_last(symbol: str, name: str, n=1000):\n",
    "    xy_dir=f\"{data_dir}/{strategy}/Xy\"\n",
    "\n",
    "    file_path = sorted([f for f in os.listdir(xy_dir) if f.endswith(f\"{symbol}_{name}.csv\")])[-1]\n",
    "    file_path = f\"{xy_dir}/{file_path}\"\n",
    "    print(f\"Read from {file_path}\")\n",
    "    return pd.read_csv(file_path, parse_dates=True).tail(n)\n",
    "\n",
    "\n",
    "def read_last_xy(data_dir):\n",
    "    \"\"\" Read days from start to end from local predictions history\"\"\"\n",
    "    \n",
    "    #data=read_last(symbol, \"data\", n)\n",
    "    X=read_last(symbol, \"x\")\n",
    "    y=read_last(symbol, \"y\").set_index('close_time')\n",
    "    data=pd.merge(X,y, left_index=True, right_index=True) \n",
    "    #y=pd.concat([data,y])\n",
    "    return data,X,y\n",
    "\n",
    "\n",
    "# Read candles for last 3 days\n",
    "print(symbol)\n",
    "data,x,y = read_last_xy(data_dir)\n",
    "y.tail()\n"
   ]
  },
  {
   "cell_type": "code",
   "execution_count": 6,
   "metadata": {
    "scrolled": false
   },
   "outputs": [
    {
     "data": {
      "image/png": "[encoded data removed]",
      "text/plain": [
       "<Figure size 640x480 with 2 Axes>"
      ]
     },
     "metadata": {},
     "output_type": "display_data"
    }
   ],
   "source": [
    "import seaborn as sns\n",
    "\n",
    "sns.heatmap(y.corr(), annot=True)\n",
    "plt.title('Predicted and actual signal')\n",
    "plt.show()"
   ]
  },
  {
   "cell_type": "code",
   "execution_count": 7,
   "metadata": {},
   "outputs": [
    {
     "data": {
      "text/plain": [
       "<AxesSubplot:>"
      ]
     },
     "execution_count": 7,
     "metadata": {},
     "output_type": "execute_result"
    },
    {
     "data": {
      "image/png": "[encoded data removed]",
      "text/plain": [
       "<Figure size 640x480 with 2 Axes>"
      ]
     },
     "metadata": {},
     "output_type": "display_data"
    }
   ],
   "source": [
    "from sklearn.metrics import classification_report\n",
    "\n",
    "clf_report = classification_report(y['signal_actual'],\n",
    "                                   y['signal_pred'],\n",
    "                                   #labels=['sell', 'flat', 'buy'],\n",
    "                                   target_names=['sell', 'flat', 'buy'],\n",
    "                                   output_dict=True)\n",
    "#print(clf_report)\n",
    "#sns.heatmap(pd.DataFrame(clf_report).iloc[:-1, :].T, annot=True)\n",
    "#sns.heatmap(pd.DataFrame(clf_report).iloc[:-1, :-3].T[::-1], annot=True)\n",
    "sns.heatmap(pd.DataFrame(clf_report).iloc[:-1, :].T, annot=True)"
   ]
  },
  {
   "cell_type": "code",
   "execution_count": null,
   "metadata": {},
   "outputs": [],
   "source": []
  },
  {
   "cell_type": "code",
   "execution_count": 8,
   "metadata": {},
   "outputs": [
    {
     "data": {
      "image/png": "[encoded data removed]",
      "text/plain": [
       "<Figure size 640x480 with 2 Axes>"
      ]
     },
     "metadata": {},
     "output_type": "display_data"
    },
    {
     "name": "stdout",
     "output_type": "stream",
     "text": [
      "[[ 47   8  12]\n",
      " [285 224 246]\n",
      " [ 16  14  51]]\n"
     ]
    }
   ],
   "source": [
    "from sklearn import metrics\n",
    "confusion_matrix = metrics.confusion_matrix(y['signal_actual'], y['signal_pred'])\n",
    "\n",
    "metrics.ConfusionMatrixDisplay(confusion_matrix = confusion_matrix, display_labels = ['Sell', 'Flat', 'Buy']).plot()\n",
    "plt.title('Confusion matrix')\n",
    "plt.show()\n",
    "print(confusion_matrix)"
   ]
  },
  {
   "cell_type": "code",
   "execution_count": 9,
   "metadata": {},
   "outputs": [
    {
     "data": {
      "image/png": "[encoded data removed]",
      "text/plain": [
       "<Figure size 640x480 with 1 Axes>"
      ]
     },
     "metadata": {},
     "output_type": "display_data"
    }
   ],
   "source": [
    "import matplotlib.pyplot as plt\n",
    "import matplotlib.dates as mdates\n",
    "\n",
    "plt.plot(y.index, y['signal_pred']-y['signal_actual'])\n",
    "plt.gca().xaxis.set_major_locator(mdates.MonthLocator(interval=5))\n",
    "plt.xticks(rotation=45)\n",
    "\n",
    "#ax.format_xdata = mdates.DateFormatter('%Y-%m-%d')\n",
    "#plt.gca().xaxis.set_major_formatter(ConsizeDateFormatter())\n",
    "plt.show()"
   ]
  },
  {
   "cell_type": "code",
   "execution_count": 10,
   "metadata": {},
   "outputs": [
    {
     "data": {
      "application/vnd.plotly.v1+json": {
       "config": {
        "plotlyServerURL": "https://plot.ly"
       },
       "data": [
        {
         "alignmentgroup": "True",
         "hovertemplate": "time=%{x}<br>predicted - actual=%{y}<extra></extra>",
         "legendgroup": "",
         "marker": {
          "color": "#636efa",
          "pattern": {
           "shape": ""
          }
         },
         "name": "",
         "offsetgroup": "",
         "orientation": "v",
         "showlegend": false,
         "textposition": "auto",
         "type": "bar",
         "x": [
          "2023-10-29 00:00:45.784",
          "2023-10-29 00:01:49.374",
          "2023-10-29 00:02:51.544",
          "2023-10-29 00:03:55.337",
          "2023-10-29 00:04:59.051",
          "2023-10-29 00:06:02.873",
          "2023-10-29 00:07:06.798",
          "2023-10-29 00:08:10.433",
          "2023-10-29 00:09:14.027",
          "2023-10-29 00:10:17.664",
          "2023-10-29 00:11:21.207",
          "2023-10-29 00:12:24.873",
          "2023-10-29 00:13:28.535",
          "2023-10-29 00:14:32.228",
          "2023-10-29 00:15:35.836",
          "2023-10-29 00:16:39.718",
          "2023-10-29 00:17:42.083",
          "2023-10-29 00:18:45.686",
          "2023-10-29 00:19:50.962",
          "2023-10-29 00:20:53.709",
          "2023-10-29 00:21:56.776",
          "2023-10-29 00:23:00.424",
          "2023-10-29 00:24:04.104",
          "2023-10-29 00:25:06.957",
          "2023-10-29 00:26:10.617",
          "2023-10-29 00:27:14.303",
          "2023-10-29 00:28:18.139",
          "2023-10-29 00:29:22.805",
          "2023-10-29 00:30:26.458",
          "2023-10-29 00:31:30.096",
          "2023-10-29 00:32:33.122",
          "2023-10-29 00:33:36.872",
          "2023-10-29 00:34:39.652",
          "2023-10-29 00:35:43.549",
          "2023-10-29 00:36:47.153",
          "2023-10-29 00:37:50.744",
          "2023-10-29 00:38:54.416",
          "2023-10-29 00:39:58.079",
          "2023-10-29 00:41:02.357",
          "2023-10-29 00:42:05.979",
          "2023-10-29 00:43:09.050",
          "2023-10-29 00:44:15.854",
          "2023-10-29 00:45:18.563",
          "2023-10-29 00:46:21.295",
          "2023-10-29 00:47:25.030",
          "2023-10-29 00:48:28.877",
          "2023-10-29 00:49:32.738",
          "2023-10-29 00:50:36.301",
          "2023-10-29 00:51:39.042",
          "2023-10-29 00:52:43.010",
          "2023-10-29 00:53:46.780",
          "2023-10-29 00:54:50.624",
          "2023-10-29 00:55:54.158",
          "2023-10-29 00:56:56.889",
          "2023-10-29 00:57:59.951",
          "2023-10-29 00:59:03.615",
          "2023-10-29 01:00:07.346",
          "2023-10-29 01:01:10.986",
          "2023-10-29 01:02:14.659",
          "2023-10-29 01:03:18.269",
          "2023-10-29 01:04:20.980",
          "2023-10-29 01:05:25.863",
          "2023-10-29 01:06:29.476",
          "2023-10-29 01:07:32.512",
          "2023-10-29 01:08:35.562",
          "2023-10-29 01:09:39.178",
          "2023-10-29 01:10:43.871",
          "2023-10-29 01:11:47.660",
          "2023-10-29 01:12:51.481",
          "2023-10-29 01:13:55.107",
          "2023-10-29 01:14:58.740",
          "2023-10-29 01:16:01.508",
          "2023-10-29 01:17:04.284",
          "2023-10-29 01:18:07.995",
          "2023-10-29 01:19:11.622",
          "2023-10-29 01:20:15.338",
          "2023-10-29 01:21:19.149",
          "2023-10-29 01:22:24.426",
          "2023-10-29 01:23:28.063",
          "2023-10-29 01:24:31.673",
          "2023-10-29 01:25:35.298",
          "2023-10-29 01:26:38.856",
          "2023-10-29 01:27:42.420",
          "2023-10-29 01:28:46.358",
          "2023-10-29 01:29:50.008",
          "2023-10-29 01:30:53.315",
          "2023-10-29 01:31:56.938",
          "2023-10-29 01:33:00.555",
          "2023-10-29 01:34:04.291",
          "2023-10-29 01:35:07.894",
          "2023-10-29 01:36:11.562",
          "2023-10-29 01:37:15.467",
          "2023-10-29 01:38:18.239",
          "2023-10-29 01:39:21.881",
          "2023-10-29 01:40:25.735",
          "2023-10-29 01:41:29.314",
          "2023-10-29 01:42:32.094",
          "2023-10-29 01:43:35.718",
          "2023-10-29 01:44:39.312",
          "2023-10-29 01:45:42.947",
          "2023-10-29 01:46:45.707",
          "2023-10-29 01:47:49.358",
          "2023-10-29 01:48:52.986",
          "2023-10-29 01:49:57.055",
          "2023-10-29 01:51:00.647",
          "2023-10-29 01:52:05.301",
          "2023-10-29 01:53:08.882",
          "2023-10-29 01:54:12.483",
          "2023-10-29 01:55:16.150",
          "2023-10-29 01:56:19.824",
          "2023-10-29 01:57:24.470",
          "2023-10-29 01:58:28.119",
          "2023-10-29 01:59:31.991",
          "2023-10-29 02:00:34.720",
          "2023-10-29 02:01:38.346",
          "2023-10-29 02:02:41.999",
          "2023-10-29 02:03:45.666",
          "2023-10-29 02:04:49.268",
          "2023-10-29 02:05:52.974",
          "2023-10-29 02:06:55.779",
          "2023-10-29 02:07:59.384",
          "2023-10-29 02:09:03.107",
          "2023-10-29 02:10:06.749",
          "2023-10-29 02:11:09.021",
          "2023-10-29 02:12:12.798",
          "2023-10-29 02:13:16.904",
          "2023-10-29 02:14:20.628",
          "2023-10-29 02:15:24.296",
          "2023-10-29 02:16:29.204",
          "2023-10-29 02:17:32.973",
          "2023-10-29 02:18:35.742",
          "2023-10-29 02:19:39.397",
          "2023-10-29 02:20:43.020",
          "2023-10-29 02:21:46.855",
          "2023-10-29 02:22:50.491",
          "2023-10-29 02:23:52.607",
          "2023-10-29 02:24:56.264",
          "2023-10-29 02:26:00.300",
          "2023-10-29 02:27:03.231",
          "2023-10-29 02:28:06.861",
          "2023-10-29 02:29:10.530",
          "2023-10-29 02:30:14.247",
          "2023-10-29 02:31:17.889",
          "2023-10-29 02:32:21.772",
          "2023-10-29 02:33:24.989",
          "2023-10-29 02:34:28.632",
          "2023-10-29 02:35:32.387",
          "2023-10-29 02:36:35.972",
          "2023-10-29 02:37:39.611",
          "2023-10-29 02:38:43.315",
          "2023-10-29 02:39:46.964",
          "2023-10-29 02:40:50.600",
          "2023-10-29 02:41:54.317",
          "2023-10-29 02:42:57.982",
          "2023-10-29 02:44:03.753",
          "2023-10-29 02:45:06.812",
          "2023-10-29 02:46:10.824",
          "2023-10-29 02:47:14.463",
          "2023-10-29 02:48:18.136",
          "2023-10-29 02:49:21.824",
          "2023-10-29 02:50:25.492",
          "2023-10-29 02:51:29.137",
          "2023-10-29 02:52:32.740",
          "2023-10-29 02:53:37.969",
          "2023-10-29 02:54:41.013",
          "2023-10-29 02:55:44.623",
          "2023-10-29 02:56:48.287",
          "2023-10-29 02:57:51.909",
          "2023-10-29 02:58:55.557",
          "2023-10-29 02:59:59.207",
          "2023-10-29 03:01:02.860",
          "2023-10-29 03:02:06.910",
          "2023-10-29 03:03:10.797",
          "2023-10-29 03:04:14.366",
          "2023-10-29 03:05:18.027",
          "2023-10-29 03:06:21.601",
          "2023-10-29 03:07:24.705",
          "2023-10-29 03:08:28.453",
          "2023-10-29 03:09:31.279",
          "2023-10-29 03:10:34.013",
          "2023-10-29 03:11:37.600",
          "2023-10-29 03:12:40.411",
          "2023-10-29 03:13:44.370",
          "2023-10-29 03:14:48.047",
          "2023-10-29 03:15:51.658",
          "2023-10-29 03:16:55.234",
          "2023-10-29 03:17:59.178",
          "2023-10-29 03:19:02.360",
          "2023-10-29 03:20:06.102",
          "2023-10-29 03:21:09.841",
          "2023-10-29 03:22:13.446",
          "2023-10-29 03:23:17.050",
          "2023-10-29 03:24:20.660",
          "2023-10-29 03:25:24.412",
          "2023-10-29 03:26:28.177",
          "2023-10-29 03:27:31.827",
          "2023-10-29 03:28:35.434",
          "2023-10-29 03:29:39.685",
          "2023-10-29 03:30:43.304",
          "2023-10-29 03:31:46.945",
          "2023-10-29 03:32:49.713",
          "2023-10-29 03:33:53.359",
          "2023-10-29 03:34:56.396",
          "2023-10-29 03:35:59.146",
          "2023-10-29 03:37:02.860",
          "2023-10-29 03:38:06.519",
          "2023-10-29 03:39:10.181",
          "2023-10-29 03:40:14.091",
          "2023-10-29 03:41:16.855",
          "2023-10-29 03:42:19.582",
          "2023-10-29 03:43:23.217",
          "2023-10-29 03:44:26.899",
          "2023-10-29 03:45:30.555",
          "2023-10-29 03:46:34.138",
          "2023-10-29 03:47:37.835",
          "2023-10-29 03:48:41.024",
          "2023-10-29 03:49:44.696",
          "2023-10-29 03:50:48.121",
          "2023-10-29 03:51:51.761",
          "2023-10-29 03:52:55.408",
          "2023-10-29 03:53:59.095",
          "2023-10-29 03:55:02.849",
          "2023-10-29 03:56:06.506",
          "2023-10-29 03:57:10.155",
          "2023-10-29 03:58:14.001",
          "2023-10-29 03:59:17.691",
          "2023-10-29 04:00:21.366",
          "2023-10-29 04:01:24.663",
          "2023-10-29 04:02:28.455",
          "2023-10-29 04:03:30.633",
          "2023-10-29 04:04:34.312",
          "2023-10-29 04:05:37.953",
          "2023-10-29 04:06:41.593",
          "2023-10-29 04:07:44.664",
          "2023-10-29 04:08:47.429",
          "2023-10-29 04:09:51.091",
          "2023-10-29 04:10:54.985",
          "2023-10-29 04:11:58.632",
          "2023-10-29 04:13:03.322",
          "2023-10-29 04:14:07.326",
          "2023-10-29 04:15:10.933",
          "2023-10-29 04:16:14.590",
          "2023-10-29 04:17:17.606",
          "2023-10-29 04:18:21.338",
          "2023-10-29 04:19:25.238",
          "2023-10-29 04:20:30.446",
          "2023-10-29 04:21:33.991",
          "2023-10-29 04:22:37.675",
          "2023-10-29 04:23:41.341",
          "2023-10-29 04:24:44.911",
          "2023-10-29 04:25:48.652",
          "2023-10-29 04:26:52.341",
          "2023-10-29 04:27:55.980",
          "2023-10-29 04:28:59.535",
          "2023-10-29 04:30:03.255",
          "2023-10-29 04:31:06.891",
          "2023-10-29 04:32:10.572",
          "2023-10-29 04:33:14.171",
          "2023-10-29 04:34:16.867",
          "2023-10-29 04:35:21.528",
          "2023-10-29 04:36:25.194",
          "2023-10-29 04:37:28.953",
          "2023-10-29 04:38:34.547",
          "2023-10-29 04:39:38.148",
          "2023-10-29 04:40:42.085",
          "2023-10-29 04:41:45.691",
          "2023-10-29 04:42:49.349",
          "2023-10-29 04:43:52.070",
          "2023-10-29 04:44:55.653",
          "2023-10-29 04:45:59.292",
          "2023-10-29 04:47:02.441",
          "2023-10-29 04:48:06.318",
          "2023-10-29 04:49:09.137",
          "2023-10-29 04:50:11.942",
          "2023-10-29 04:51:14.667",
          "2023-10-29 04:52:18.391",
          "2023-10-29 04:53:21.967",
          "2023-10-29 04:54:25.596",
          "2023-10-29 04:55:29.207",
          "2023-10-29 04:56:32.824",
          "2023-10-29 04:57:36.407",
          "2023-10-29 04:58:40.038",
          "2023-10-29 04:59:42.828",
          "2023-10-29 05:00:46.383",
          "2023-10-29 05:01:50.968",
          "2023-10-29 05:02:54.643",
          "2023-10-29 05:03:58.256",
          "2023-10-29 05:05:01.889",
          "2023-10-29 05:06:05.607",
          "2023-10-29 05:07:09.236",
          "2023-10-29 05:08:13.066",
          "2023-10-29 05:09:16.722",
          "2023-10-29 05:10:20.568",
          "2023-10-29 05:11:24.197",
          "2023-10-29 05:12:27.808",
          "2023-10-29 05:13:31.566",
          "2023-10-29 05:14:34.626",
          "2023-10-29 05:15:38.340",
          "2023-10-29 05:16:41.126",
          "2023-10-29 05:17:43.869",
          "2023-10-29 05:18:47.530",
          "2023-10-29 05:19:51.119",
          "2023-10-29 05:20:54.752",
          "2023-10-29 05:21:58.420",
          "2023-10-29 05:23:02.182",
          "2023-10-29 05:24:05.842",
          "2023-10-29 05:25:09.745",
          "2023-10-29 05:26:13.345",
          "2023-10-29 05:27:16.964",
          "2023-10-29 05:28:20.652",
          "2023-10-29 05:29:23.771",
          "2023-10-29 05:30:27.350",
          "2023-10-29 05:31:31.223",
          "2023-10-29 05:32:34.819",
          "2023-10-29 05:33:38.496",
          "2023-10-29 05:34:41.267",
          "2023-10-29 05:35:44.900",
          "2023-10-29 05:36:48.542",
          "2023-10-29 05:37:52.245",
          "2023-10-29 05:38:55.857",
          "2023-10-29 05:39:59.481",
          "2023-10-29 05:41:03.146",
          "2023-10-29 05:42:06.762",
          "2023-10-29 05:43:10.385",
          "2023-10-29 05:44:13.169",
          "2023-10-29 05:45:16.833",
          "2023-10-29 05:46:20.492",
          "2023-10-29 05:47:24.165",
          "2023-10-29 05:48:28.033",
          "2023-10-29 05:49:33.258",
          "2023-10-29 05:50:37.047",
          "2023-10-29 05:51:40.678",
          "2023-10-29 05:52:44.600",
          "2023-10-29 05:53:48.245",
          "2023-10-29 05:54:51.866",
          "2023-10-29 05:55:55.170",
          "2023-10-29 05:56:58.728",
          "2023-10-29 05:58:02.468",
          "2023-10-29 05:59:05.266",
          "2023-10-29 06:00:08.888",
          "2023-10-29 06:01:12.568",
          "2023-10-29 06:02:15.599",
          "2023-10-29 06:03:19.154",
          "2023-10-29 06:04:21.918",
          "2023-10-29 06:05:25.582",
          "2023-10-29 06:06:29.165",
          "2023-10-29 06:07:32.841",
          "2023-10-29 06:08:36.458",
          "2023-10-29 06:09:39.438",
          "2023-10-29 06:10:43.047",
          "2023-10-29 06:11:46.741",
          "2023-10-29 06:12:51.371",
          "2023-10-29 06:13:55.145",
          "2023-10-29 06:14:58.912",
          "2023-10-29 06:16:02.744",
          "2023-10-29 06:17:05.532",
          "2023-10-29 06:18:09.209",
          "2023-10-29 06:19:12.232",
          "2023-10-29 06:20:16.166",
          "2023-10-29 06:21:19.815",
          "2023-10-29 06:22:23.409",
          "2023-10-29 06:23:27.038",
          "2023-10-29 06:24:31.002",
          "2023-10-29 06:25:35.534",
          "2023-10-29 06:26:39.181",
          "2023-10-29 06:27:42.829",
          "2023-10-29 06:28:46.718",
          "2023-10-29 06:29:49.463",
          "2023-10-29 06:30:53.101",
          "2023-10-29 06:31:56.719",
          "2023-10-29 06:32:59.475",
          "2023-10-29 06:34:03.212",
          "2023-10-29 06:35:06.857",
          "2023-10-29 06:36:10.682",
          "2023-10-29 06:37:14.555",
          "2023-10-29 06:38:18.184",
          "2023-10-29 06:39:21.052",
          "2023-10-29 06:40:24.143",
          "2023-10-29 06:41:27.774",
          "2023-10-29 06:42:30.672",
          "2023-10-29 06:43:34.321",
          "2023-10-29 06:44:37.953",
          "2023-10-29 06:45:41.557",
          "2023-10-29 06:46:45.192",
          "2023-10-29 06:47:48.832",
          "2023-10-29 06:48:52.378",
          "2023-10-29 06:49:55.984",
          "2023-10-29 06:50:59.601",
          "2023-10-29 06:52:03.368",
          "2023-10-29 06:53:07.007",
          "2023-10-29 06:54:10.591",
          "2023-10-29 06:55:14.152",
          "2023-10-29 06:56:17.765",
          "2023-10-29 06:57:20.805",
          "2023-10-29 06:58:24.421",
          "2023-10-29 06:59:28.039",
          "2023-10-29 07:00:31.697",
          "2023-10-29 07:01:34.794",
          "2023-10-29 07:02:38.426",
          "2023-10-29 07:03:42.037",
          "2023-10-29 07:04:44.746",
          "2023-10-29 07:05:48.376",
          "2023-10-29 07:06:52.049",
          "2023-10-29 07:07:55.696",
          "2023-10-29 07:08:59.443",
          "2023-10-29 07:10:03.079",
          "2023-10-29 07:11:06.755",
          "2023-10-29 07:12:09.581",
          "2023-10-29 07:13:12.393",
          "2023-10-29 07:14:16.155",
          "2023-10-29 07:15:19.251",
          "2023-10-29 07:16:22.891",
          "2023-10-29 07:17:25.644",
          "2023-10-29 07:18:29.281",
          "2023-10-29 07:19:32.048",
          "2023-10-29 07:20:35.686",
          "2023-10-29 07:21:38.449",
          "2023-10-29 07:22:43.062",
          "2023-10-29 07:23:46.729",
          "2023-10-29 07:24:50.645",
          "2023-10-29 07:25:53.548",
          "2023-10-29 07:26:57.205",
          "2023-10-29 07:28:00.861",
          "2023-10-29 07:29:04.578",
          "2023-10-29 07:30:07.345",
          "2023-10-29 07:31:10.388",
          "2023-10-29 07:32:14.070",
          "2023-10-29 07:33:17.676",
          "2023-10-29 07:34:21.242",
          "2023-10-29 07:35:26.568",
          "2023-10-29 07:36:34.004",
          "2023-10-29 07:38:23.269",
          "2023-10-29 07:39:26.708",
          "2023-10-29 07:40:30.602",
          "2023-10-29 07:41:34.190",
          "2023-10-29 07:42:37.801",
          "2023-10-29 07:43:41.874",
          "2023-10-29 07:44:45.470",
          "2023-10-29 07:45:49.097",
          "2023-10-29 07:46:51.824",
          "2023-10-29 07:47:55.408",
          "2023-10-29 07:49:51.895",
          "2023-10-29 07:50:57.842",
          "2023-10-29 07:52:01.438",
          "2023-10-29 07:53:05.106",
          "2023-10-29 07:54:08.740",
          "2023-10-29 07:55:11.429",
          "2023-10-29 07:56:16.517",
          "2023-10-29 07:57:20.092",
          "2023-10-29 07:58:23.718",
          "2023-10-29 07:59:26.763",
          "2023-10-29 08:00:30.510",
          "2023-10-29 08:01:34.105",
          "2023-10-29 08:02:37.711",
          "2023-10-29 08:03:43.871",
          "2023-10-29 08:04:48.275",
          "2023-10-29 08:05:52.374",
          "2023-10-29 08:06:55.384",
          "2023-10-29 08:07:59.346",
          "2023-10-29 08:09:02.146",
          "2023-10-29 08:10:05.111",
          "2023-10-29 08:11:09.178",
          "2023-10-29 08:12:13.157",
          "2023-10-29 08:13:16.233",
          "2023-10-29 08:14:19.244",
          "2023-10-29 08:15:23.010",
          "2023-10-29 08:16:26.816",
          "2023-10-29 08:17:29.607",
          "2023-10-29 08:18:33.938",
          "2023-10-29 08:19:37.284",
          "2023-10-29 08:20:41.934",
          "2023-10-29 08:21:44.992",
          "2023-10-29 08:22:48.046",
          "2023-10-29 08:23:51.682",
          "2023-10-29 08:24:54.459",
          "2023-10-29 08:25:58.082",
          "2023-10-29 08:27:01.723",
          "2023-10-29 08:28:05.308",
          "2023-10-29 08:29:08.943",
          "2023-10-29 08:30:12.552",
          "2023-10-29 08:31:16.203",
          "2023-10-29 08:32:19.237",
          "2023-10-29 08:33:22.853",
          "2023-10-29 08:34:27.477",
          "2023-10-29 08:35:31.173",
          "2023-10-29 08:36:34.783",
          "2023-10-29 08:37:37.725",
          "2023-10-29 08:38:41.393",
          "2023-10-29 08:39:45.025",
          "2023-10-29 08:40:47.737",
          "2023-10-29 08:41:51.349",
          "2023-10-29 08:42:55.059",
          "2023-10-29 08:43:58.682",
          "2023-10-29 08:45:02.304",
          "2023-10-29 08:46:06.946",
          "2023-10-29 08:47:10.641",
          "2023-10-29 08:48:14.196",
          "2023-10-29 08:49:17.873",
          "2023-10-29 08:50:21.560",
          "2023-10-29 08:51:24.483",
          "2023-10-29 08:52:28.130",
          "2023-10-29 08:53:31.866",
          "2023-10-29 08:54:35.761",
          "2023-10-29 08:55:39.347",
          "2023-10-29 08:56:42.966",
          "2023-10-29 08:57:46.767",
          "2023-10-29 08:58:51.408",
          "2023-10-29 08:59:55.065",
          "2023-10-29 09:00:58.741",
          "2023-10-29 09:02:02.413",
          "2023-10-29 09:03:06.032",
          "2023-10-29 09:04:09.674",
          "2023-10-29 09:05:13.355",
          "2023-10-29 09:06:16.952",
          "2023-10-29 09:07:19.705",
          "2023-10-29 09:08:23.348",
          "2023-10-29 09:09:26.944",
          "2023-10-29 09:10:30.074",
          "2023-10-29 09:11:33.714",
          "2023-10-29 09:12:37.380",
          "2023-10-29 09:13:41.328",
          "2023-10-29 09:14:45.348",
          "2023-10-29 09:15:51.303",
          "2023-10-29 09:16:54.964",
          "2023-10-29 09:17:58.634",
          "2023-10-29 09:19:02.269",
          "2023-10-29 09:20:06.975",
          "2023-10-29 09:21:12.228",
          "2023-10-29 09:22:15.994",
          "2023-10-29 09:23:19.656",
          "2023-10-29 09:24:23.338",
          "2023-10-29 09:25:27.021",
          "2023-10-29 09:26:30.802",
          "2023-10-29 09:27:34.470",
          "2023-10-29 09:28:39.073",
          "2023-10-29 09:29:42.729",
          "2023-10-29 09:30:46.352",
          "2023-10-29 09:31:50.009",
          "2023-10-29 09:32:53.720",
          "2023-10-29 09:33:57.392",
          "2023-10-29 09:35:01.101",
          "2023-10-29 09:36:05.123",
          "2023-10-29 09:37:09.034",
          "2023-10-29 09:38:12.747",
          "2023-10-29 09:39:17.613",
          "2023-10-29 09:40:22.257",
          "2023-10-29 09:41:25.911",
          "2023-10-29 09:42:29.535",
          "2023-10-29 09:43:33.151",
          "2023-10-29 09:44:36.834",
          "2023-10-29 09:45:39.846",
          "2023-10-29 09:46:42.929",
          "2023-10-29 09:47:46.582",
          "2023-10-29 09:48:50.179",
          "2023-10-29 09:49:53.869",
          "2023-10-29 09:50:57.466",
          "2023-10-29 09:52:01.098",
          "2023-10-29 09:53:04.190",
          "2023-10-29 09:54:07.007",
          "2023-10-29 09:55:10.906",
          "2023-10-29 09:56:14.475",
          "2023-10-29 09:57:18.157",
          "2023-10-29 09:58:21.741",
          "2023-10-29 09:59:25.436",
          "2023-10-29 10:00:30.304",
          "2023-10-29 10:01:33.977",
          "2023-10-29 10:02:37.620",
          "2023-10-29 10:03:40.782",
          "2023-10-29 10:04:43.505",
          "2023-10-29 10:05:47.140",
          "2023-10-29 10:06:50.845",
          "2023-10-29 10:07:54.411",
          "2023-10-29 10:08:58.247",
          "2023-10-29 10:10:02.172",
          "2023-10-29 10:11:06.815",
          "2023-10-29 10:12:09.668",
          "2023-10-29 10:13:13.301",
          "2023-10-29 10:14:16.379",
          "2023-10-29 10:15:19.172",
          "2023-10-29 10:16:22.224",
          "2023-10-29 10:17:25.824",
          "2023-10-29 10:18:29.452",
          "2023-10-29 10:19:32.510",
          "2023-10-29 10:20:37.111",
          "2023-10-29 10:21:40.737",
          "2023-10-29 10:22:44.964",
          "2023-10-29 10:23:49.009",
          "2023-10-29 10:24:53.760",
          "2023-10-29 10:25:57.396",
          "2023-10-29 10:27:01.079",
          "2023-10-29 10:28:04.780",
          "2023-10-29 10:29:08.487",
          "2023-10-29 10:30:12.171",
          "2023-10-29 10:31:15.806",
          "2023-10-29 10:32:19.428",
          "2023-10-29 10:33:23.072",
          "2023-10-29 10:34:26.706",
          "2023-10-29 10:35:29.730",
          "2023-10-29 10:36:33.427",
          "2023-10-29 10:37:37.185",
          "2023-10-29 10:38:40.760",
          "2023-10-29 10:39:44.390",
          "2023-10-29 10:40:47.175",
          "2023-10-29 10:41:50.826",
          "2023-10-29 10:42:54.695",
          "2023-10-29 10:43:58.472",
          "2023-10-29 10:45:02.209",
          "2023-10-29 10:46:05.321",
          "2023-10-29 10:47:09.068",
          "2023-10-29 10:48:12.928",
          "2023-10-29 10:49:16.038",
          "2023-10-29 10:50:20.176",
          "2023-10-29 10:51:23.798",
          "2023-10-29 10:52:27.472",
          "2023-10-29 10:53:31.112",
          "2023-10-29 10:54:33.860",
          "2023-10-29 10:55:37.431",
          "2023-10-29 10:56:42.246",
          "2023-10-29 10:57:45.873",
          "2023-10-29 10:58:49",
          "2023-10-29 10:59:52.846",
          "2023-10-29 11:00:56.482",
          "2023-10-29 11:01:59.541",
          "2023-10-29 11:03:03.180",
          "2023-10-29 11:04:06.903",
          "2023-10-29 11:05:10.608",
          "2023-10-29 11:06:14.398",
          "2023-10-29 11:07:18.351",
          "2023-10-29 11:08:21.955",
          "2023-10-29 11:09:25.558",
          "2023-10-29 11:10:29.520",
          "2023-10-29 11:11:33.163",
          "2023-10-29 11:12:36.870",
          "2023-10-29 11:13:40.477",
          "2023-10-29 11:14:44.159",
          "2023-10-29 11:15:47.857",
          "2023-10-29 11:16:51.472",
          "2023-10-29 11:17:55.163",
          "2023-10-29 11:19:00.194",
          "2023-10-29 11:20:05.417",
          "2023-10-29 11:21:09.045",
          "2023-10-29 11:22:12.767",
          "2023-10-29 11:23:15.833",
          "2023-10-29 11:24:19.469",
          "2023-10-29 11:25:22.317",
          "2023-10-29 11:26:25.089",
          "2023-10-29 11:27:28.764",
          "2023-10-29 11:28:32.479",
          "2023-10-29 11:29:35.220",
          "2023-10-29 11:30:39.097",
          "2023-10-29 11:31:42.151",
          "2023-10-29 11:32:45.801",
          "2023-10-29 11:33:48.971",
          "2023-10-29 11:34:52.746",
          "2023-10-29 11:35:56.401",
          "2023-10-29 11:37:00.041",
          "2023-10-29 11:38:03.758",
          "2023-10-29 11:39:07.428",
          "2023-10-29 11:40:11.469",
          "2023-10-29 11:41:15.068",
          "2023-10-29 11:42:18.697",
          "2023-10-29 11:43:22.278",
          "2023-10-29 11:44:25.887",
          "2023-10-29 11:45:29.531",
          "2023-10-29 11:46:33.210",
          "2023-10-29 11:47:38.981",
          "2023-10-29 11:48:42.686",
          "2023-10-29 11:49:45.718",
          "2023-10-29 11:50:49.464",
          "2023-10-29 11:51:53.185",
          "2023-10-29 11:52:56.815",
          "2023-10-29 11:54:00.514",
          "2023-10-29 11:55:04.222",
          "2023-10-29 11:56:07.955",
          "2023-10-29 11:57:11.671",
          "2023-10-29 11:58:15.381",
          "2023-10-29 11:59:18.560",
          "2023-10-29 12:00:22.519",
          "2023-10-29 12:01:26.139",
          "2023-10-29 12:02:30.083",
          "2023-10-29 12:03:33.727",
          "2023-10-29 12:04:38.266",
          "2023-10-29 12:05:41.899",
          "2023-10-29 12:06:45.520",
          "2023-10-29 12:07:49.130",
          "2023-10-29 12:08:52.702",
          "2023-10-29 12:09:55.804",
          "2023-10-29 12:10:59.870",
          "2023-10-29 12:12:03.480",
          "2023-10-29 12:13:07.782",
          "2023-10-29 12:14:13.019",
          "2023-10-29 12:15:16.831",
          "2023-10-29 12:16:20.429",
          "2023-10-29 12:17:25.330",
          "2023-10-29 12:18:28.128",
          "2023-10-29 12:19:32.213",
          "2023-10-29 12:20:37.278",
          "2023-10-29 12:21:40.119",
          "2023-10-29 12:22:43.767",
          "2023-10-29 12:23:47.413",
          "2023-10-29 12:24:51.042",
          "2023-10-29 12:25:54.692",
          "2023-10-29 12:26:58.317",
          "2023-10-29 12:28:01.970",
          "2023-10-29 12:29:05.715",
          "2023-10-29 12:30:09.387",
          "2023-10-29 12:31:13.053",
          "2023-10-29 12:32:16.760",
          "2023-10-29 12:33:20.466",
          "2023-10-29 12:34:24.114",
          "2023-10-29 12:35:26.868",
          "2023-10-29 12:36:30.504",
          "2023-10-29 12:38:42.175",
          "2023-10-29 12:39:45.674",
          "2023-10-29 12:40:48.709",
          "2023-10-29 12:41:52.476",
          "2023-10-29 12:42:54.603",
          "2023-10-29 12:43:58.233",
          "2023-10-29 12:45:01.882",
          "2023-10-29 12:46:05.526",
          "2023-10-29 12:47:09.090",
          "2023-10-29 12:48:11.831",
          "2023-10-29 12:49:14.881",
          "2023-10-29 12:50:17.588",
          "2023-10-29 12:51:21.254",
          "2023-10-29 12:52:24.891",
          "2023-10-29 12:53:28.509",
          "2023-10-29 12:54:32.161",
          "2023-10-29 12:55:35.744",
          "2023-10-29 12:56:38.826",
          "2023-10-29 12:57:41.045",
          "2023-10-29 12:58:43.230",
          "2023-10-29 12:59:46.930",
          "2023-10-29 13:00:49.728",
          "2023-10-29 13:02:25.137",
          "2023-10-29 13:03:27.225",
          "2023-10-29 13:04:31.059",
          "2023-10-29 13:05:33.824",
          "2023-10-29 13:06:39.933",
          "2023-10-29 13:07:43.720",
          "2023-10-29 13:08:47.351",
          "2023-10-29 13:09:51.033",
          "2023-10-29 13:10:54.735",
          "2023-10-29 13:11:58.372",
          "2023-10-29 13:13:37.186",
          "2023-10-29 13:14:42.467",
          "2023-10-29 13:15:47.359",
          "2023-10-29 13:16:52.042",
          "2023-10-29 13:17:56.867",
          "2023-10-29 13:19:01.499",
          "2023-10-29 13:20:04.709",
          "2023-10-29 13:21:09.375",
          "2023-10-29 13:22:14.052",
          "2023-10-29 13:23:19.246",
          "2023-10-29 13:24:22.305",
          "2023-10-29 13:25:25.226",
          "2023-10-29 13:26:28.077",
          "2023-10-29 13:27:31.708",
          "2023-10-29 13:28:35.387",
          "2023-10-29 13:30:36.094",
          "2023-10-29 13:31:39.524",
          "2023-10-29 13:32:43.180",
          "2023-10-29 13:33:49.810",
          "2023-10-29 13:34:54.688",
          "2023-10-29 13:36:01.259",
          "2023-10-29 13:37:04.915",
          "2023-10-29 13:38:08.721",
          "2023-10-29 13:39:11.528",
          "2023-10-29 13:40:13.702",
          "2023-10-29 13:41:16.794",
          "2023-10-29 13:42:20.486",
          "2023-10-29 13:43:24.525",
          "2023-10-29 13:44:31.090",
          "2023-10-29 13:45:36.757",
          "2023-10-29 13:46:42.384",
          "2023-10-29 13:47:47.506",
          "2023-10-29 13:48:52.223",
          "2023-10-29 13:49:55.831",
          "2023-10-29 13:51:22.280",
          "2023-10-29 13:52:28.140",
          "2023-10-29 13:53:32.862",
          "2023-10-29 13:54:36.529",
          "2023-10-29 13:55:41.751",
          "2023-10-29 13:56:48.509",
          "2023-10-29 13:57:52.208",
          "2023-10-29 13:58:54.410",
          "2023-10-29 13:59:58.053",
          "2023-10-29 14:01:02.796",
          "2023-10-29 14:02:07.490",
          "2023-10-29 14:03:14.297",
          "2023-10-29 14:04:18.073",
          "2023-10-29 14:05:21.900",
          "2023-10-29 14:06:25.572",
          "2023-10-29 14:07:29.206",
          "2023-10-29 14:08:33.002",
          "2023-10-29 14:09:36.687",
          "2023-10-29 14:10:43.362",
          "2023-10-29 14:11:46.996",
          "2023-10-29 14:12:50.683",
          "2023-10-29 14:13:54.567",
          "2023-10-29 14:14:58.190",
          "2023-10-29 14:17:16.390",
          "2023-10-29 14:18:18.396",
          "2023-10-29 14:19:22.374",
          "2023-10-29 14:20:25.987",
          "2023-10-29 14:21:29.609",
          "2023-10-29 14:22:33.234",
          "2023-10-29 14:23:36.918",
          "2023-10-29 14:24:40.839",
          "2023-10-29 14:25:44.424",
          "2023-10-29 14:26:49.081",
          "2023-10-29 14:27:52.707",
          "2023-10-29 14:28:56.319",
          "2023-10-29 14:29:59.949",
          "2023-10-29 14:31:03.640",
          "2023-10-29 14:32:05.910",
          "2023-10-29 14:33:09.598",
          "2023-10-29 14:34:12.671",
          "2023-10-29 14:35:17.395",
          "2023-10-29 14:36:21.996",
          "2023-10-29 14:37:26.719",
          "2023-10-29 14:38:32.825",
          "2023-10-29 14:39:35.546",
          "2023-10-29 14:40:39.191",
          "2023-10-29 14:41:42.906",
          "2023-10-29 14:42:46.805",
          "2023-10-29 14:43:50.379",
          "2023-10-29 14:44:54.010",
          "2023-10-29 14:46:00.149",
          "2023-10-29 14:47:03.779",
          "2023-10-29 14:48:07.481",
          "2023-10-29 14:49:10.594",
          "2023-10-29 14:50:13.807",
          "2023-10-29 14:51:17.592",
          "2023-10-29 14:52:21.227",
          "2023-10-29 14:53:23.992",
          "2023-10-29 14:54:29.707",
          "2023-10-29 14:55:32.474",
          "2023-10-29 14:56:35.773",
          "2023-10-29 14:57:38.489",
          "2023-10-29 14:58:42.167",
          "2023-10-29 14:59:44.358",
          "2023-10-29 15:00:48.075",
          "2023-10-29 15:01:51.303",
          "2023-10-29 15:02:54.393",
          "2023-10-29 15:03:58.272",
          "2023-10-29 15:05:02.076",
          "2023-10-29 15:06:06.091",
          "2023-10-29 15:07:11.962",
          "2023-10-29 15:08:14.819",
          "2023-10-29 15:09:18.544",
          "2023-10-29 15:10:21.608",
          "2023-10-29 15:11:24.416",
          "2023-10-29 15:12:28.051",
          "2023-10-29 15:13:31.680",
          "2023-10-29 15:14:35.440",
          "2023-10-29 15:15:39.115",
          "2023-10-29 15:16:42.784",
          "2023-10-29 15:17:46.401",
          "2023-10-29 15:18:51.076",
          "2023-10-29 15:19:57.086",
          "2023-10-29 15:21:00.837",
          "2023-10-29 15:22:03.906",
          "2023-10-29 15:23:07.622",
          "2023-10-29 15:24:11.270",
          "2023-10-29 15:25:14.874",
          "2023-10-29 15:26:18.508",
          "2023-10-29 15:27:21.267",
          "2023-10-29 15:28:24.060",
          "2023-10-29 15:29:27.706",
          "2023-10-29 15:30:33.172",
          "2023-10-29 15:31:36.881",
          "2023-10-29 15:32:39.761",
          "2023-10-29 15:33:43.949",
          "2023-10-29 15:34:47.584",
          "2023-10-29 15:35:51.289",
          "2023-10-29 15:36:58.128",
          "2023-10-29 15:38:01.912",
          "2023-10-29 15:39:05.234",
          "2023-10-29 15:40:08.859",
          "2023-10-29 15:41:11.975",
          "2023-10-29 15:42:15.623",
          "2023-10-29 15:44:30.587",
          "2023-10-29 15:45:34.097",
          "2023-10-29 15:46:37.007",
          "2023-10-29 15:47:40.855",
          "2023-10-29 15:48:44.955",
          "2023-10-29 15:49:48.794",
          "2023-10-29 15:50:52.613",
          "2023-10-29 15:51:56.333",
          "2023-10-29 15:53:01.973",
          "2023-10-29 15:54:04.362",
          "2023-10-29 15:55:07.691",
          "2023-10-29 15:56:11.554",
          "2023-10-29 15:57:14.663",
          "2023-10-29 15:58:18.370",
          "2023-10-29 15:59:22.073",
          "2023-10-29 16:00:25.892",
          "2023-10-29 16:01:29.676",
          "2023-10-29 16:02:32.869",
          "2023-10-29 16:03:36.681",
          "2023-10-29 16:04:43.177",
          "2023-10-29 16:05:46.859"
         ],
         "xaxis": "x",
         "y": [
          0,
          1,
          0,
          -1,
          1,
          0,
          0,
          -1,
          -1,
          -1,
          -1,
          -1,
          -1,
          1,
          -1,
          0,
          0,
          1,
          1,
          0,
          0,
          -1,
          -2,
          0,
          -1,
          1,
          -1,
          0,
          0,
          -1,
          -1,
          -1,
          0,
          0,
          1,
          1,
          -1,
          1,
          -2,
          -2,
          1,
          1,
          0,
          1,
          0,
          1,
          1,
          1,
          0,
          1,
          1,
          1,
          0,
          1,
          1,
          2,
          1,
          1,
          1,
          0,
          0,
          0,
          1,
          0,
          1,
          0,
          1,
          1,
          2,
          1,
          -2,
          1,
          -1,
          1,
          1,
          1,
          1,
          -1,
          1,
          -1,
          1,
          0,
          -2,
          0,
          1,
          1,
          1,
          1,
          -1,
          1,
          -1,
          1,
          0,
          -1,
          1,
          1,
          -1,
          1,
          1,
          2,
          1,
          1,
          1,
          -1,
          -1,
          -1,
          0,
          -1,
          0,
          -1,
          -1,
          0,
          0,
          0,
          0,
          1,
          -1,
          0,
          -1,
          -1,
          1,
          1,
          1,
          1,
          1,
          1,
          0,
          1,
          -1,
          -2,
          0,
          1,
          1,
          1,
          1,
          -1,
          -1,
          -1,
          -1,
          -1,
          -1,
          -1,
          0,
          0,
          0,
          -1,
          -1,
          -1,
          -2,
          0,
          0,
          1,
          1,
          1,
          -1,
          -1,
          -1,
          -1,
          -1,
          -1,
          1,
          -1,
          1,
          0,
          -1,
          0,
          0,
          0,
          0,
          0,
          -1,
          0,
          1,
          1,
          1,
          0,
          1,
          1,
          0,
          1,
          1,
          1,
          -1,
          -1,
          -1,
          0,
          -1,
          1,
          -1,
          0,
          0,
          1,
          1,
          1,
          1,
          0,
          0,
          0,
          1,
          1,
          0,
          0,
          0,
          1,
          0,
          0,
          0,
          0,
          -1,
          0,
          -1,
          -1,
          0,
          -1,
          -1,
          -2,
          0,
          0,
          0,
          0,
          -1,
          0,
          0,
          -1,
          0,
          0,
          -1,
          -1,
          -2,
          -1,
          -1,
          0,
          -1,
          -1,
          0,
          -1,
          0,
          0,
          0,
          -1,
          0,
          0,
          -1,
          0,
          0,
          0,
          0,
          -1,
          0,
          0,
          -1,
          0,
          -1,
          -1,
          -1,
          0,
          -1,
          -1,
          -1,
          -1,
          0,
          1,
          -1,
          0,
          0,
          0,
          0,
          -1,
          -1,
          -1,
          -1,
          0,
          0,
          0,
          -1,
          -1,
          -1,
          -1,
          -1,
          -1,
          -1,
          0,
          -1,
          0,
          -1,
          -1,
          0,
          0,
          0,
          0,
          0,
          0,
          -1,
          -1,
          -1,
          -1,
          -1,
          -1,
          -1,
          0,
          1,
          -1,
          -1,
          -1,
          -1,
          0,
          0,
          -1,
          -1,
          0,
          1,
          0,
          0,
          0,
          0,
          0,
          0,
          1,
          0,
          -1,
          0,
          1,
          0,
          -1,
          -1,
          -1,
          -2,
          -1,
          1,
          1,
          0,
          0,
          0,
          1,
          0,
          0,
          0,
          -1,
          -1,
          1,
          -1,
          1,
          1,
          -2,
          1,
          -1,
          1,
          -1,
          -1,
          -1,
          -1,
          -1,
          0,
          -1,
          -1,
          0,
          -1,
          1,
          0,
          0,
          0,
          1,
          0,
          1,
          0,
          0,
          1,
          -1,
          -1,
          0,
          1,
          0,
          1,
          0,
          -1,
          0,
          0,
          0,
          0,
          1,
          1,
          0,
          0,
          0,
          0,
          1,
          1,
          0,
          1,
          0,
          -1,
          -1,
          0,
          0,
          0,
          0,
          1,
          0,
          0,
          1,
          0,
          -1,
          -1,
          0,
          -1,
          0,
          0,
          -1,
          0,
          1,
          0,
          1,
          1,
          -1,
          -1,
          -1,
          -1,
          -1,
          -1,
          0,
          -1,
          0,
          -1,
          -1,
          -1,
          -1,
          0,
          0,
          0,
          0,
          0,
          -1,
          -1,
          -1,
          -1,
          0,
          0,
          -1,
          0,
          -1,
          -1,
          -1,
          0,
          -2,
          0,
          1,
          -1,
          0,
          -1,
          0,
          -1,
          1,
          -1,
          -1,
          0,
          1,
          -1,
          1,
          -1,
          -1,
          -1,
          1,
          1,
          -1,
          1,
          1,
          0,
          1,
          0,
          0,
          -1,
          0,
          -1,
          1,
          0,
          -1,
          1,
          1,
          0,
          1,
          1,
          0,
          1,
          1,
          1,
          1,
          0,
          0,
          0,
          0,
          1,
          1,
          1,
          0,
          1,
          0,
          -1,
          0,
          -1,
          -1,
          0,
          0,
          -1,
          -1,
          0,
          1,
          1,
          0,
          0,
          -1,
          -1,
          0,
          1,
          1,
          0,
          0,
          1,
          1,
          -1,
          -1,
          0,
          0,
          0,
          -1,
          0,
          0,
          1,
          -1,
          1,
          0,
          1,
          -1,
          0,
          -1,
          -1,
          1,
          0,
          0,
          1,
          0,
          0,
          0,
          0,
          0,
          0,
          0,
          0,
          0,
          0,
          -1,
          -1,
          -1,
          -1,
          0,
          0,
          1,
          0,
          -1,
          -1,
          -1,
          0,
          -1,
          0,
          1,
          0,
          0,
          0,
          0,
          0,
          0,
          0,
          0,
          -1,
          0,
          0,
          0,
          -1,
          0,
          0,
          0,
          -1,
          0,
          0,
          0,
          -1,
          1,
          0,
          0,
          0,
          1,
          -1,
          0,
          1,
          1,
          0,
          1,
          0,
          0,
          0,
          -1,
          0,
          -2,
          0,
          0,
          -1,
          0,
          -1,
          -1,
          -2,
          -2,
          0,
          -1,
          -1,
          1,
          -1,
          -1,
          -1,
          -1,
          -1,
          -1,
          -1,
          -1,
          -1,
          -1,
          -1,
          -1,
          -1,
          -1,
          -1,
          0,
          -1,
          -1,
          -1,
          0,
          -1,
          -1,
          -1,
          -1,
          0,
          0,
          0,
          0,
          -1,
          0,
          0,
          0,
          -1,
          0,
          0,
          0,
          0,
          0,
          -1,
          -1,
          -1,
          -1,
          -1,
          0,
          0,
          0,
          0,
          1,
          0,
          1,
          0,
          0,
          -1,
          1,
          1,
          -1,
          1,
          1,
          -1,
          0,
          0,
          -1,
          -1,
          -1,
          1,
          0,
          1,
          0,
          -1,
          -1,
          1,
          0,
          -1,
          -1,
          -1,
          -1,
          -1,
          0,
          -1,
          0,
          1,
          1,
          0,
          0,
          0,
          0,
          -1,
          -1,
          -1,
          -1,
          -1,
          -1,
          -1,
          0,
          -1,
          1,
          0,
          0,
          -1,
          -1,
          -1,
          -1,
          -1,
          0,
          1,
          1,
          1,
          0,
          1,
          0,
          -1,
          -1,
          1,
          1,
          0,
          1,
          1,
          1,
          0,
          0,
          -1,
          0,
          0,
          0,
          -1,
          1,
          0,
          -1,
          0,
          0,
          1,
          -1,
          -1,
          -1,
          -1,
          0,
          -1,
          -1,
          1,
          -1,
          -1,
          -1,
          -1,
          -1,
          -1,
          0,
          0,
          0,
          -1,
          -1,
          2,
          0,
          1,
          0,
          1,
          1,
          0,
          1,
          0,
          1,
          1,
          1,
          0,
          1,
          1,
          1,
          -1,
          0,
          -1,
          0,
          0,
          1,
          -1,
          0,
          -1,
          0,
          0,
          0,
          0,
          0,
          1,
          1,
          1,
          2,
          1,
          1,
          1,
          1,
          1,
          1,
          -1,
          -1,
          -1,
          -1,
          -1,
          -1,
          -1,
          -1,
          -1,
          -1,
          -1,
          -1,
          -2,
          -1,
          -1,
          -1,
          1,
          0,
          1,
          1,
          1,
          1,
          0,
          1,
          0,
          1,
          -1,
          1,
          0,
          1,
          1,
          1,
          1,
          1,
          1,
          1,
          2,
          1,
          1,
          1,
          1,
          1,
          2,
          1,
          1,
          -1,
          0,
          1,
          0,
          1,
          1,
          0,
          0,
          1,
          1,
          1,
          1,
          2,
          0,
          1,
          1,
          1,
          1,
          1,
          1,
          1,
          1,
          1,
          -1,
          1,
          1,
          1,
          1,
          -1,
          0,
          1,
          1,
          0,
          2,
          1,
          1,
          1,
          2,
          1,
          1,
          1,
          1,
          2,
          1,
          1,
          1,
          1,
          2,
          1,
          1,
          0,
          1,
          -1,
          1
         ],
         "yaxis": "y"
        }
       ],
       "layout": {
        "barmode": "relative",
        "legend": {
         "tracegroupgap": 0
        },
        "template": {
         "data": {
          "bar": [
           {
            "error_x": {
             "color": "#2a3f5f"
            },
            "error_y": {
             "color": "#2a3f5f"
            },
            "marker": {
             "line": {
              "color": "#E5ECF6",
              "width": 0.5
             },
             "pattern": {
              "fillmode": "overlay",
              "size": 10,
              "solidity": 0.2
             }
            },
            "type": "bar"
           }
          ],
          "barpolar": [
           {
            "marker": {
             "line": {
              "color": "#E5ECF6",
              "width": 0.5
             },
             "pattern": {
              "fillmode": "overlay",
              "size": 10,
              "solidity": 0.2
             }
            },
            "type": "barpolar"
           }
          ],
          "carpet": [
           {
            "aaxis": {
             "endlinecolor": "#2a3f5f",
             "gridcolor": "white",
             "linecolor": "white",
             "minorgridcolor": "white",
             "startlinecolor": "#2a3f5f"
            },
            "baxis": {
             "endlinecolor": "#2a3f5f",
             "gridcolor": "white",
             "linecolor": "white",
             "minorgridcolor": "white",
             "startlinecolor": "#2a3f5f"
            },
            "type": "carpet"
           }
          ],
          "choropleth": [
           {
            "colorbar": {
             "outlinewidth": 0,
             "ticks": ""
            },
            "type": "choropleth"
           }
          ],
          "contour": [
           {
            "colorbar": {
             "outlinewidth": 0,
             "ticks": ""
            },
            "colorscale": [
             [
              0,
              "#0d0887"
             ],
             [
              0.1111111111111111,
              "#46039f"
             ],
             [
              0.2222222222222222,
              "#7201a8"
             ],
             [
              0.3333333333333333,
              "#9c179e"
             ],
             [
              0.4444444444444444,
              "#bd3786"
             ],
             [
              0.5555555555555556,
              "#d8576b"
             ],
             [
              0.6666666666666666,
              "#ed7953"
             ],
             [
              0.7777777777777778,
              "#fb9f3a"
             ],
             [
              0.8888888888888888,
              "#fdca26"
             ],
             [
              1,
              "#f0f921"
             ]
            ],
            "type": "contour"
           }
          ],
          "contourcarpet": [
           {
            "colorbar": {
             "outlinewidth": 0,
             "ticks": ""
            },
            "type": "contourcarpet"
           }
          ],
          "heatmap": [
           {
            "colorbar": {
             "outlinewidth": 0,
             "ticks": ""
            },
            "colorscale": [
             [
              0,
              "#0d0887"
             ],
             [
              0.1111111111111111,
              "#46039f"
             ],
             [
              0.2222222222222222,
              "#7201a8"
             ],
             [
              0.3333333333333333,
              "#9c179e"
             ],
             [
              0.4444444444444444,
              "#bd3786"
             ],
             [
              0.5555555555555556,
              "#d8576b"
             ],
             [
              0.6666666666666666,
              "#ed7953"
             ],
             [
              0.7777777777777778,
              "#fb9f3a"
             ],
             [
              0.8888888888888888,
              "#fdca26"
             ],
             [
              1,
              "#f0f921"
             ]
            ],
            "type": "heatmap"
           }
          ],
          "heatmapgl": [
           {
            "colorbar": {
             "outlinewidth": 0,
             "ticks": ""
            },
            "colorscale": [
             [
              0,
              "#0d0887"
             ],
             [
              0.1111111111111111,
              "#46039f"
             ],
             [
              0.2222222222222222,
              "#7201a8"
             ],
             [
              0.3333333333333333,
              "#9c179e"
             ],
             [
              0.4444444444444444,
              "#bd3786"
             ],
             [
              0.5555555555555556,
              "#d8576b"
             ],
             [
              0.6666666666666666,
              "#ed7953"
             ],
             [
              0.7777777777777778,
              "#fb9f3a"
             ],
             [
              0.8888888888888888,
              "#fdca26"
             ],
             [
              1,
              "#f0f921"
             ]
            ],
            "type": "heatmapgl"
           }
          ],
          "histogram": [
           {
            "marker": {
             "pattern": {
              "fillmode": "overlay",
              "size": 10,
              "solidity": 0.2
             }
            },
            "type": "histogram"
           }
          ],
          "histogram2d": [
           {
            "colorbar": {
             "outlinewidth": 0,
             "ticks": ""
            },
            "colorscale": [
             [
              0,
              "#0d0887"
             ],
             [
              0.1111111111111111,
              "#46039f"
             ],
             [
              0.2222222222222222,
              "#7201a8"
             ],
             [
              0.3333333333333333,
              "#9c179e"
             ],
             [
              0.4444444444444444,
              "#bd3786"
             ],
             [
              0.5555555555555556,
              "#d8576b"
             ],
             [
              0.6666666666666666,
              "#ed7953"
             ],
             [
              0.7777777777777778,
              "#fb9f3a"
             ],
             [
              0.8888888888888888,
              "#fdca26"
             ],
             [
              1,
              "#f0f921"
             ]
            ],
            "type": "histogram2d"
           }
          ],
          "histogram2dcontour": [
           {
            "colorbar": {
             "outlinewidth": 0,
             "ticks": ""
            },
            "colorscale": [
             [
              0,
              "#0d0887"
             ],
             [
              0.1111111111111111,
              "#46039f"
             ],
             [
              0.2222222222222222,
              "#7201a8"
             ],
             [
              0.3333333333333333,
              "#9c179e"
             ],
             [
              0.4444444444444444,
              "#bd3786"
             ],
             [
              0.5555555555555556,
              "#d8576b"
             ],
             [
              0.6666666666666666,
              "#ed7953"
             ],
             [
              0.7777777777777778,
              "#fb9f3a"
             ],
             [
              0.8888888888888888,
              "#fdca26"
             ],
             [
              1,
              "#f0f921"
             ]
            ],
            "type": "histogram2dcontour"
           }
          ],
          "mesh3d": [
           {
            "colorbar": {
             "outlinewidth": 0,
             "ticks": ""
            },
            "type": "mesh3d"
           }
          ],
          "parcoords": [
           {
            "line": {
             "colorbar": {
              "outlinewidth": 0,
              "ticks": ""
             }
            },
            "type": "parcoords"
           }
          ],
          "pie": [
           {
            "automargin": true,
            "type": "pie"
           }
          ],
          "scatter": [
           {
            "fillpattern": {
             "fillmode": "overlay",
             "size": 10,
             "solidity": 0.2
            },
            "type": "scatter"
           }
          ],
          "scatter3d": [
           {
            "line": {
             "colorbar": {
              "outlinewidth": 0,
              "ticks": ""
             }
            },
            "marker": {
             "colorbar": {
              "outlinewidth": 0,
              "ticks": ""
             }
            },
            "type": "scatter3d"
           }
          ],
          "scattercarpet": [
           {
            "marker": {
             "colorbar": {
              "outlinewidth": 0,
              "ticks": ""
             }
            },
            "type": "scattercarpet"
           }
          ],
          "scattergeo": [
           {
            "marker": {
             "colorbar": {
              "outlinewidth": 0,
              "ticks": ""
             }
            },
            "type": "scattergeo"
           }
          ],
          "scattergl": [
           {
            "marker": {
             "colorbar": {
              "outlinewidth": 0,
              "ticks": ""
             }
            },
            "type": "scattergl"
           }
          ],
          "scattermapbox": [
           {
            "marker": {
             "colorbar": {
              "outlinewidth": 0,
              "ticks": ""
             }
            },
            "type": "scattermapbox"
           }
          ],
          "scatterpolar": [
           {
            "marker": {
             "colorbar": {
              "outlinewidth": 0,
              "ticks": ""
             }
            },
            "type": "scatterpolar"
           }
          ],
          "scatterpolargl": [
           {
            "marker": {
             "colorbar": {
              "outlinewidth": 0,
              "ticks": ""
             }
            },
            "type": "scatterpolargl"
           }
          ],
          "scatterternary": [
           {
            "marker": {
             "colorbar": {
              "outlinewidth": 0,
              "ticks": ""
             }
            },
            "type": "scatterternary"
           }
          ],
          "surface": [
           {
            "colorbar": {
             "outlinewidth": 0,
             "ticks": ""
            },
            "colorscale": [
             [
              0,
              "#0d0887"
             ],
             [
              0.1111111111111111,
              "#46039f"
             ],
             [
              0.2222222222222222,
              "#7201a8"
             ],
             [
              0.3333333333333333,
              "#9c179e"
             ],
             [
              0.4444444444444444,
              "#bd3786"
             ],
             [
              0.5555555555555556,
              "#d8576b"
             ],
             [
              0.6666666666666666,
              "#ed7953"
             ],
             [
              0.7777777777777778,
              "#fb9f3a"
             ],
             [
              0.8888888888888888,
              "#fdca26"
             ],
             [
              1,
              "#f0f921"
             ]
            ],
            "type": "surface"
           }
          ],
          "table": [
           {
            "cells": {
             "fill": {
              "color": "#EBF0F8"
             },
             "line": {
              "color": "white"
             }
            },
            "header": {
             "fill": {
              "color": "#C8D4E3"
             },
             "line": {
              "color": "white"
             }
            },
            "type": "table"
           }
          ]
         },
         "layout": {
          "annotationdefaults": {
           "arrowcolor": "#2a3f5f",
           "arrowhead": 0,
           "arrowwidth": 1
          },
          "autotypenumbers": "strict",
          "coloraxis": {
           "colorbar": {
            "outlinewidth": 0,
            "ticks": ""
           }
          },
          "colorscale": {
           "diverging": [
            [
             0,
             "#8e0152"
            ],
            [
             0.1,
             "#c51b7d"
            ],
            [
             0.2,
             "#de77ae"
            ],
            [
             0.3,
             "#f1b6da"
            ],
            [
             0.4,
             "#fde0ef"
            ],
            [
             0.5,
             "#f7f7f7"
            ],
            [
             0.6,
             "#e6f5d0"
            ],
            [
             0.7,
             "#b8e186"
            ],
            [
             0.8,
             "#7fbc41"
            ],
            [
             0.9,
             "#4d9221"
            ],
            [
             1,
             "#276419"
            ]
           ],
           "sequential": [
            [
             0,
             "#0d0887"
            ],
            [
             0.1111111111111111,
             "#46039f"
            ],
            [
             0.2222222222222222,
             "#7201a8"
            ],
            [
             0.3333333333333333,
             "#9c179e"
            ],
            [
             0.4444444444444444,
             "#bd3786"
            ],
            [
             0.5555555555555556,
             "#d8576b"
            ],
            [
             0.6666666666666666,
             "#ed7953"
            ],
            [
             0.7777777777777778,
             "#fb9f3a"
            ],
            [
             0.8888888888888888,
             "#fdca26"
            ],
            [
             1,
             "#f0f921"
            ]
           ],
           "sequentialminus": [
            [
             0,
             "#0d0887"
            ],
            [
             0.1111111111111111,
             "#46039f"
            ],
            [
             0.2222222222222222,
             "#7201a8"
            ],
            [
             0.3333333333333333,
             "#9c179e"
            ],
            [
             0.4444444444444444,
             "#bd3786"
            ],
            [
             0.5555555555555556,
             "#d8576b"
            ],
            [
             0.6666666666666666,
             "#ed7953"
            ],
            [
             0.7777777777777778,
             "#fb9f3a"
            ],
            [
             0.8888888888888888,
             "#fdca26"
            ],
            [
             1,
             "#f0f921"
            ]
           ]
          },
          "colorway": [
           "#636efa",
           "#EF553B",
           "#00cc96",
           "#ab63fa",
           "#FFA15A",
           "#19d3f3",
           "#FF6692",
           "#B6E880",
           "#FF97FF",
           "#FECB52"
          ],
          "font": {
           "color": "#2a3f5f"
          },
          "geo": {
           "bgcolor": "white",
           "lakecolor": "white",
           "landcolor": "#E5ECF6",
           "showlakes": true,
           "showland": true,
           "subunitcolor": "white"
          },
          "hoverlabel": {
           "align": "left"
          },
          "hovermode": "closest",
          "mapbox": {
           "style": "light"
          },
          "paper_bgcolor": "white",
          "plot_bgcolor": "#E5ECF6",
          "polar": {
           "angularaxis": {
            "gridcolor": "white",
            "linecolor": "white",
            "ticks": ""
           },
           "bgcolor": "#E5ECF6",
           "radialaxis": {
            "gridcolor": "white",
            "linecolor": "white",
            "ticks": ""
           }
          },
          "scene": {
           "xaxis": {
            "backgroundcolor": "#E5ECF6",
            "gridcolor": "white",
            "gridwidth": 2,
            "linecolor": "white",
            "showbackground": true,
            "ticks": "",
            "zerolinecolor": "white"
           },
           "yaxis": {
            "backgroundcolor": "#E5ECF6",
            "gridcolor": "white",
            "gridwidth": 2,
            "linecolor": "white",
            "showbackground": true,
            "ticks": "",
            "zerolinecolor": "white"
           },
           "zaxis": {
            "backgroundcolor": "#E5ECF6",
            "gridcolor": "white",
            "gridwidth": 2,
            "linecolor": "white",
            "showbackground": true,
            "ticks": "",
            "zerolinecolor": "white"
           }
          },
          "shapedefaults": {
           "line": {
            "color": "#2a3f5f"
           }
          },
          "ternary": {
           "aaxis": {
            "gridcolor": "white",
            "linecolor": "white",
            "ticks": ""
           },
           "baxis": {
            "gridcolor": "white",
            "linecolor": "white",
            "ticks": ""
           },
           "bgcolor": "#E5ECF6",
           "caxis": {
            "gridcolor": "white",
            "linecolor": "white",
            "ticks": ""
           }
          },
          "title": {
           "x": 0.05
          },
          "xaxis": {
           "automargin": true,
           "gridcolor": "white",
           "linecolor": "white",
           "ticks": "",
           "title": {
            "standoff": 15
           },
           "zerolinecolor": "white",
           "zerolinewidth": 2
          },
          "yaxis": {
           "automargin": true,
           "gridcolor": "white",
           "linecolor": "white",
           "ticks": "",
           "title": {
            "standoff": 15
           },
           "zerolinecolor": "white",
           "zerolinewidth": 2
          }
         }
        },
        "title": {
         "text": "Predicted and actual signal difference. diff = predicted - actual"
        },
        "xaxis": {
         "anchor": "y",
         "domain": [
          0,
          1
         ],
         "title": {
          "text": "time"
         }
        },
        "yaxis": {
         "anchor": "x",
         "domain": [
          0,
          1
         ],
         "title": {
          "text": "predicted - actual"
         }
        }
       }
      },
      "text/html": [
       "<div>                            <div id=\"8f78549e-535a-4229-9cdd-a033bd1bbe34\" class=\"plotly-graph-div\" style=\"height:525px; width:100%;\"></div>            <script type=\"text/javascript\">                require([\"plotly\"], function(Plotly) {                    window.PLOTLYENV=window.PLOTLYENV || {};                                    if (document.getElementById(\"8f78549e-535a-4229-9cdd-a033bd1bbe34\")) {                    Plotly.newPlot(                        \"8f78549e-535a-4229-9cdd-a033bd1bbe34\",                        [{\"alignmentgroup\":\"True\",\"hovertemplate\":\"time=%{x}<br>predicted - actual=%{y}<extra></extra>\",\"legendgroup\":\"\",\"marker\":{\"color\":\"#636efa\",\"pattern\":{\"shape\":\"\"}},\"name\":\"\",\"offsetgroup\":\"\",\"orientation\":\"v\",\"showlegend\":false,\"textposition\":\"auto\",\"x\":[\"2023-10-29 00:00:45.784\",\"2023-10-29 00:01:49.374\",\"2023-10-29 00:02:51.544\",\"2023-10-29 00:03:55.337\",\"2023-10-29 00:04:59.051\",\"2023-10-29 00:06:02.873\",\"2023-10-29 00:07:06.798\",\"2023-10-29 00:08:10.433\",\"2023-10-29 00:09:14.027\",\"2023-10-29 00:10:17.664\",\"2023-10-29 00:11:21.207\",\"2023-10-29 00:12:24.873\",\"2023-10-29 00:13:28.535\",\"2023-10-29 00:14:32.228\",\"2023-10-29 00:15:35.836\",\"2023-10-29 00:16:39.718\",\"2023-10-29 00:17:42.083\",\"2023-10-29 00:18:45.686\",\"2023-10-29 00:19:50.962\",\"2023-10-29 00:20:53.709\",\"2023-10-29 00:21:56.776\",\"2023-10-29 00:23:00.424\",\"2023-10-29 00:24:04.104\",\"2023-10-29 00:25:06.957\",\"2023-10-29 00:26:10.617\",\"2023-10-29 00:27:14.303\",\"2023-10-29 00:28:18.139\",\"2023-10-29 00:29:22.805\",\"2023-10-29 00:30:26.458\",\"2023-10-29 00:31:30.096\",\"2023-10-29 00:32:33.122\",\"2023-10-29 00:33:36.872\",\"2023-10-29 00:34:39.652\",\"2023-10-29 00:35:43.549\",\"2023-10-29 00:36:47.153\",\"2023-10-29 00:37:50.744\",\"2023-10-29 00:38:54.416\",\"2023-10-29 00:39:58.079\",\"2023-10-29 00:41:02.357\",\"2023-10-29 00:42:05.979\",\"2023-10-29 00:43:09.050\",\"2023-10-29 00:44:15.854\",\"2023-10-29 00:45:18.563\",\"2023-10-29 00:46:21.295\",\"2023-10-29 00:47:25.030\",\"2023-10-29 00:48:28.877\",\"2023-10-29 00:49:32.738\",\"2023-10-29 00:50:36.301\",\"2023-10-29 00:51:39.042\",\"2023-10-29 00:52:43.010\",\"2023-10-29 00:53:46.780\",\"2023-10-29 00:54:50.624\",\"2023-10-29 00:55:54.158\",\"2023-10-29 00:56:56.889\",\"2023-10-29 00:57:59.951\",\"2023-10-29 00:59:03.615\",\"2023-10-29 01:00:07.346\",\"2023-10-29 01:01:10.986\",\"2023-10-29 01:02:14.659\",\"2023-10-29 01:03:18.269\",\"2023-10-29 01:04:20.980\",\"2023-10-29 01:05:25.863\",\"2023-10-29 01:06:29.476\",\"2023-10-29 01:07:32.512\",\"2023-10-29 01:08:35.562\",\"2023-10-29 01:09:39.178\",\"2023-10-29 01:10:43.871\",\"2023-10-29 01:11:47.660\",\"2023-10-29 01:12:51.481\",\"2023-10-29 01:13:55.107\",\"2023-10-29 01:14:58.740\",\"2023-10-29 01:16:01.508\",\"2023-10-29 01:17:04.284\",\"2023-10-29 01:18:07.995\",\"2023-10-29 01:19:11.622\",\"2023-10-29 01:20:15.338\",\"2023-10-29 01:21:19.149\",\"2023-10-29 01:22:24.426\",\"2023-10-29 01:23:28.063\",\"2023-10-29 01:24:31.673\",\"2023-10-29 01:25:35.298\",\"2023-10-29 01:26:38.856\",\"2023-10-29 01:27:42.420\",\"2023-10-29 01:28:46.358\",\"2023-10-29 01:29:50.008\",\"2023-10-29 01:30:53.315\",\"2023-10-29 01:31:56.938\",\"2023-10-29 01:33:00.555\",\"2023-10-29 01:34:04.291\",\"2023-10-29 01:35:07.894\",\"2023-10-29 01:36:11.562\",\"2023-10-29 01:37:15.467\",\"2023-10-29 01:38:18.239\",\"2023-10-29 01:39:21.881\",\"2023-10-29 01:40:25.735\",\"2023-10-29 01:41:29.314\",\"2023-10-29 01:42:32.094\",\"2023-10-29 01:43:35.718\",\"2023-10-29 01:44:39.312\",\"2023-10-29 01:45:42.947\",\"2023-10-29 01:46:45.707\",\"2023-10-29 01:47:49.358\",\"2023-10-29 01:48:52.986\",\"2023-10-29 01:49:57.055\",\"2023-10-29 01:51:00.647\",\"2023-10-29 01:52:05.301\",\"2023-10-29 01:53:08.882\",\"2023-10-29 01:54:12.483\",\"2023-10-29 01:55:16.150\",\"2023-10-29 01:56:19.824\",\"2023-10-29 01:57:24.470\",\"2023-10-29 01:58:28.119\",\"2023-10-29 01:59:31.991\",\"2023-10-29 02:00:34.720\",\"2023-10-29 02:01:38.346\",\"2023-10-29 02:02:41.999\",\"2023-10-29 02:03:45.666\",\"2023-10-29 02:04:49.268\",\"2023-10-29 02:05:52.974\",\"2023-10-29 02:06:55.779\",\"2023-10-29 02:07:59.384\",\"2023-10-29 02:09:03.107\",\"2023-10-29 02:10:06.749\",\"2023-10-29 02:11:09.021\",\"2023-10-29 02:12:12.798\",\"2023-10-29 02:13:16.904\",\"2023-10-29 02:14:20.628\",\"2023-10-29 02:15:24.296\",\"2023-10-29 02:16:29.204\",\"2023-10-29 02:17:32.973\",\"2023-10-29 02:18:35.742\",\"2023-10-29 02:19:39.397\",\"2023-10-29 02:20:43.020\",\"2023-10-29 02:21:46.855\",\"2023-10-29 02:22:50.491\",\"2023-10-29 02:23:52.607\",\"2023-10-29 02:24:56.264\",\"2023-10-29 02:26:00.300\",\"2023-10-29 02:27:03.231\",\"2023-10-29 02:28:06.861\",\"2023-10-29 02:29:10.530\",\"2023-10-29 02:30:14.247\",\"2023-10-29 02:31:17.889\",\"2023-10-29 02:32:21.772\",\"2023-10-29 02:33:24.989\",\"2023-10-29 02:34:28.632\",\"2023-10-29 02:35:32.387\",\"2023-10-29 02:36:35.972\",\"2023-10-29 02:37:39.611\",\"2023-10-29 02:38:43.315\",\"2023-10-29 02:39:46.964\",\"2023-10-29 02:40:50.600\",\"2023-10-29 02:41:54.317\",\"2023-10-29 02:42:57.982\",\"2023-10-29 02:44:03.753\",\"2023-10-29 02:45:06.812\",\"2023-10-29 02:46:10.824\",\"2023-10-29 02:47:14.463\",\"2023-10-29 02:48:18.136\",\"2023-10-29 02:49:21.824\",\"2023-10-29 02:50:25.492\",\"2023-10-29 02:51:29.137\",\"2023-10-29 02:52:32.740\",\"2023-10-29 02:53:37.969\",\"2023-10-29 02:54:41.013\",\"2023-10-29 02:55:44.623\",\"2023-10-29 02:56:48.287\",\"2023-10-29 02:57:51.909\",\"2023-10-29 02:58:55.557\",\"2023-10-29 02:59:59.207\",\"2023-10-29 03:01:02.860\",\"2023-10-29 03:02:06.910\",\"2023-10-29 03:03:10.797\",\"2023-10-29 03:04:14.366\",\"2023-10-29 03:05:18.027\",\"2023-10-29 03:06:21.601\",\"2023-10-29 03:07:24.705\",\"2023-10-29 03:08:28.453\",\"2023-10-29 03:09:31.279\",\"2023-10-29 03:10:34.013\",\"2023-10-29 03:11:37.600\",\"2023-10-29 03:12:40.411\",\"2023-10-29 03:13:44.370\",\"2023-10-29 03:14:48.047\",\"2023-10-29 03:15:51.658\",\"2023-10-29 03:16:55.234\",\"2023-10-29 03:17:59.178\",\"2023-10-29 03:19:02.360\",\"2023-10-29 03:20:06.102\",\"2023-10-29 03:21:09.841\",\"2023-10-29 03:22:13.446\",\"2023-10-29 03:23:17.050\",\"2023-10-29 03:24:20.660\",\"2023-10-29 03:25:24.412\",\"2023-10-29 03:26:28.177\",\"2023-10-29 03:27:31.827\",\"2023-10-29 03:28:35.434\",\"2023-10-29 03:29:39.685\",\"2023-10-29 03:30:43.304\",\"2023-10-29 03:31:46.945\",\"2023-10-29 03:32:49.713\",\"2023-10-29 03:33:53.359\",\"2023-10-29 03:34:56.396\",\"2023-10-29 03:35:59.146\",\"2023-10-29 03:37:02.860\",\"2023-10-29 03:38:06.519\",\"2023-10-29 03:39:10.181\",\"2023-10-29 03:40:14.091\",\"2023-10-29 03:41:16.855\",\"2023-10-29 03:42:19.582\",\"2023-10-29 03:43:23.217\",\"2023-10-29 03:44:26.899\",\"2023-10-29 03:45:30.555\",\"2023-10-29 03:46:34.138\",\"2023-10-29 03:47:37.835\",\"2023-10-29 03:48:41.024\",\"2023-10-29 03:49:44.696\",\"2023-10-29 03:50:48.121\",\"2023-10-29 03:51:51.761\",\"2023-10-29 03:52:55.408\",\"2023-10-29 03:53:59.095\",\"2023-10-29 03:55:02.849\",\"2023-10-29 03:56:06.506\",\"2023-10-29 03:57:10.155\",\"2023-10-29 03:58:14.001\",\"2023-10-29 03:59:17.691\",\"2023-10-29 04:00:21.366\",\"2023-10-29 04:01:24.663\",\"2023-10-29 04:02:28.455\",\"2023-10-29 04:03:30.633\",\"2023-10-29 04:04:34.312\",\"2023-10-29 04:05:37.953\",\"2023-10-29 04:06:41.593\",\"2023-10-29 04:07:44.664\",\"2023-10-29 04:08:47.429\",\"2023-10-29 04:09:51.091\",\"2023-10-29 04:10:54.985\",\"2023-10-29 04:11:58.632\",\"2023-10-29 04:13:03.322\",\"2023-10-29 04:14:07.326\",\"2023-10-29 04:15:10.933\",\"2023-10-29 04:16:14.590\",\"2023-10-29 04:17:17.606\",\"2023-10-29 04:18:21.338\",\"2023-10-29 04:19:25.238\",\"2023-10-29 04:20:30.446\",\"2023-10-29 04:21:33.991\",\"2023-10-29 04:22:37.675\",\"2023-10-29 04:23:41.341\",\"2023-10-29 04:24:44.911\",\"2023-10-29 04:25:48.652\",\"2023-10-29 04:26:52.341\",\"2023-10-29 04:27:55.980\",\"2023-10-29 04:28:59.535\",\"2023-10-29 04:30:03.255\",\"2023-10-29 04:31:06.891\",\"2023-10-29 04:32:10.572\",\"2023-10-29 04:33:14.171\",\"2023-10-29 04:34:16.867\",\"2023-10-29 04:35:21.528\",\"2023-10-29 04:36:25.194\",\"2023-10-29 04:37:28.953\",\"2023-10-29 04:38:34.547\",\"2023-10-29 04:39:38.148\",\"2023-10-29 04:40:42.085\",\"2023-10-29 04:41:45.691\",\"2023-10-29 04:42:49.349\",\"2023-10-29 04:43:52.070\",\"2023-10-29 04:44:55.653\",\"2023-10-29 04:45:59.292\",\"2023-10-29 04:47:02.441\",\"2023-10-29 04:48:06.318\",\"2023-10-29 04:49:09.137\",\"2023-10-29 04:50:11.942\",\"2023-10-29 04:51:14.667\",\"2023-10-29 04:52:18.391\",\"2023-10-29 04:53:21.967\",\"2023-10-29 04:54:25.596\",\"2023-10-29 04:55:29.207\",\"2023-10-29 04:56:32.824\",\"2023-10-29 04:57:36.407\",\"2023-10-29 04:58:40.038\",\"2023-10-29 04:59:42.828\",\"2023-10-29 05:00:46.383\",\"2023-10-29 05:01:50.968\",\"2023-10-29 05:02:54.643\",\"2023-10-29 05:03:58.256\",\"2023-10-29 05:05:01.889\",\"2023-10-29 05:06:05.607\",\"2023-10-29 05:07:09.236\",\"2023-10-29 05:08:13.066\",\"2023-10-29 05:09:16.722\",\"2023-10-29 05:10:20.568\",\"2023-10-29 05:11:24.197\",\"2023-10-29 05:12:27.808\",\"2023-10-29 05:13:31.566\",\"2023-10-29 05:14:34.626\",\"2023-10-29 05:15:38.340\",\"2023-10-29 05:16:41.126\",\"2023-10-29 05:17:43.869\",\"2023-10-29 05:18:47.530\",\"2023-10-29 05:19:51.119\",\"2023-10-29 05:20:54.752\",\"2023-10-29 05:21:58.420\",\"2023-10-29 05:23:02.182\",\"2023-10-29 05:24:05.842\",\"2023-10-29 05:25:09.745\",\"2023-10-29 05:26:13.345\",\"2023-10-29 05:27:16.964\",\"2023-10-29 05:28:20.652\",\"2023-10-29 05:29:23.771\",\"2023-10-29 05:30:27.350\",\"2023-10-29 05:31:31.223\",\"2023-10-29 05:32:34.819\",\"2023-10-29 05:33:38.496\",\"2023-10-29 05:34:41.267\",\"2023-10-29 05:35:44.900\",\"2023-10-29 05:36:48.542\",\"2023-10-29 05:37:52.245\",\"2023-10-29 05:38:55.857\",\"2023-10-29 05:39:59.481\",\"2023-10-29 05:41:03.146\",\"2023-10-29 05:42:06.762\",\"2023-10-29 05:43:10.385\",\"2023-10-29 05:44:13.169\",\"2023-10-29 05:45:16.833\",\"2023-10-29 05:46:20.492\",\"2023-10-29 05:47:24.165\",\"2023-10-29 05:48:28.033\",\"2023-10-29 05:49:33.258\",\"2023-10-29 05:50:37.047\",\"2023-10-29 05:51:40.678\",\"2023-10-29 05:52:44.600\",\"2023-10-29 05:53:48.245\",\"2023-10-29 05:54:51.866\",\"2023-10-29 05:55:55.170\",\"2023-10-29 05:56:58.728\",\"2023-10-29 05:58:02.468\",\"2023-10-29 05:59:05.266\",\"2023-10-29 06:00:08.888\",\"2023-10-29 06:01:12.568\",\"2023-10-29 06:02:15.599\",\"2023-10-29 06:03:19.154\",\"2023-10-29 06:04:21.918\",\"2023-10-29 06:05:25.582\",\"2023-10-29 06:06:29.165\",\"2023-10-29 06:07:32.841\",\"2023-10-29 06:08:36.458\",\"2023-10-29 06:09:39.438\",\"2023-10-29 06:10:43.047\",\"2023-10-29 06:11:46.741\",\"2023-10-29 06:12:51.371\",\"2023-10-29 06:13:55.145\",\"2023-10-29 06:14:58.912\",\"2023-10-29 06:16:02.744\",\"2023-10-29 06:17:05.532\",\"2023-10-29 06:18:09.209\",\"2023-10-29 06:19:12.232\",\"2023-10-29 06:20:16.166\",\"2023-10-29 06:21:19.815\",\"2023-10-29 06:22:23.409\",\"2023-10-29 06:23:27.038\",\"2023-10-29 06:24:31.002\",\"2023-10-29 06:25:35.534\",\"2023-10-29 06:26:39.181\",\"2023-10-29 06:27:42.829\",\"2023-10-29 06:28:46.718\",\"2023-10-29 06:29:49.463\",\"2023-10-29 06:30:53.101\",\"2023-10-29 06:31:56.719\",\"2023-10-29 06:32:59.475\",\"2023-10-29 06:34:03.212\",\"2023-10-29 06:35:06.857\",\"2023-10-29 06:36:10.682\",\"2023-10-29 06:37:14.555\",\"2023-10-29 06:38:18.184\",\"2023-10-29 06:39:21.052\",\"2023-10-29 06:40:24.143\",\"2023-10-29 06:41:27.774\",\"2023-10-29 06:42:30.672\",\"2023-10-29 06:43:34.321\",\"2023-10-29 06:44:37.953\",\"2023-10-29 06:45:41.557\",\"2023-10-29 06:46:45.192\",\"2023-10-29 06:47:48.832\",\"2023-10-29 06:48:52.378\",\"2023-10-29 06:49:55.984\",\"2023-10-29 06:50:59.601\",\"2023-10-29 06:52:03.368\",\"2023-10-29 06:53:07.007\",\"2023-10-29 06:54:10.591\",\"2023-10-29 06:55:14.152\",\"2023-10-29 06:56:17.765\",\"2023-10-29 06:57:20.805\",\"2023-10-29 06:58:24.421\",\"2023-10-29 06:59:28.039\",\"2023-10-29 07:00:31.697\",\"2023-10-29 07:01:34.794\",\"2023-10-29 07:02:38.426\",\"2023-10-29 07:03:42.037\",\"2023-10-29 07:04:44.746\",\"2023-10-29 07:05:48.376\",\"2023-10-29 07:06:52.049\",\"2023-10-29 07:07:55.696\",\"2023-10-29 07:08:59.443\",\"2023-10-29 07:10:03.079\",\"2023-10-29 07:11:06.755\",\"2023-10-29 07:12:09.581\",\"2023-10-29 07:13:12.393\",\"2023-10-29 07:14:16.155\",\"2023-10-29 07:15:19.251\",\"2023-10-29 07:16:22.891\",\"2023-10-29 07:17:25.644\",\"2023-10-29 07:18:29.281\",\"2023-10-29 07:19:32.048\",\"2023-10-29 07:20:35.686\",\"2023-10-29 07:21:38.449\",\"2023-10-29 07:22:43.062\",\"2023-10-29 07:23:46.729\",\"2023-10-29 07:24:50.645\",\"2023-10-29 07:25:53.548\",\"2023-10-29 07:26:57.205\",\"2023-10-29 07:28:00.861\",\"2023-10-29 07:29:04.578\",\"2023-10-29 07:30:07.345\",\"2023-10-29 07:31:10.388\",\"2023-10-29 07:32:14.070\",\"2023-10-29 07:33:17.676\",\"2023-10-29 07:34:21.242\",\"2023-10-29 07:35:26.568\",\"2023-10-29 07:36:34.004\",\"2023-10-29 07:38:23.269\",\"2023-10-29 07:39:26.708\",\"2023-10-29 07:40:30.602\",\"2023-10-29 07:41:34.190\",\"2023-10-29 07:42:37.801\",\"2023-10-29 07:43:41.874\",\"2023-10-29 07:44:45.470\",\"2023-10-29 07:45:49.097\",\"2023-10-29 07:46:51.824\",\"2023-10-29 07:47:55.408\",\"2023-10-29 07:49:51.895\",\"2023-10-29 07:50:57.842\",\"2023-10-29 07:52:01.438\",\"2023-10-29 07:53:05.106\",\"2023-10-29 07:54:08.740\",\"2023-10-29 07:55:11.429\",\"2023-10-29 07:56:16.517\",\"2023-10-29 07:57:20.092\",\"2023-10-29 07:58:23.718\",\"2023-10-29 07:59:26.763\",\"2023-10-29 08:00:30.510\",\"2023-10-29 08:01:34.105\",\"2023-10-29 08:02:37.711\",\"2023-10-29 08:03:43.871\",\"2023-10-29 08:04:48.275\",\"2023-10-29 08:05:52.374\",\"2023-10-29 08:06:55.384\",\"2023-10-29 08:07:59.346\",\"2023-10-29 08:09:02.146\",\"2023-10-29 08:10:05.111\",\"2023-10-29 08:11:09.178\",\"2023-10-29 08:12:13.157\",\"2023-10-29 08:13:16.233\",\"2023-10-29 08:14:19.244\",\"2023-10-29 08:15:23.010\",\"2023-10-29 08:16:26.816\",\"2023-10-29 08:17:29.607\",\"2023-10-29 08:18:33.938\",\"2023-10-29 08:19:37.284\",\"2023-10-29 08:20:41.934\",\"2023-10-29 08:21:44.992\",\"2023-10-29 08:22:48.046\",\"2023-10-29 08:23:51.682\",\"2023-10-29 08:24:54.459\",\"2023-10-29 08:25:58.082\",\"2023-10-29 08:27:01.723\",\"2023-10-29 08:28:05.308\",\"2023-10-29 08:29:08.943\",\"2023-10-29 08:30:12.552\",\"2023-10-29 08:31:16.203\",\"2023-10-29 08:32:19.237\",\"2023-10-29 08:33:22.853\",\"2023-10-29 08:34:27.477\",\"2023-10-29 08:35:31.173\",\"2023-10-29 08:36:34.783\",\"2023-10-29 08:37:37.725\",\"2023-10-29 08:38:41.393\",\"2023-10-29 08:39:45.025\",\"2023-10-29 08:40:47.737\",\"2023-10-29 08:41:51.349\",\"2023-10-29 08:42:55.059\",\"2023-10-29 08:43:58.682\",\"2023-10-29 08:45:02.304\",\"2023-10-29 08:46:06.946\",\"2023-10-29 08:47:10.641\",\"2023-10-29 08:48:14.196\",\"2023-10-29 08:49:17.873\",\"2023-10-29 08:50:21.560\",\"2023-10-29 08:51:24.483\",\"2023-10-29 08:52:28.130\",\"2023-10-29 08:53:31.866\",\"2023-10-29 08:54:35.761\",\"2023-10-29 08:55:39.347\",\"2023-10-29 08:56:42.966\",\"2023-10-29 08:57:46.767\",\"2023-10-29 08:58:51.408\",\"2023-10-29 08:59:55.065\",\"2023-10-29 09:00:58.741\",\"2023-10-29 09:02:02.413\",\"2023-10-29 09:03:06.032\",\"2023-10-29 09:04:09.674\",\"2023-10-29 09:05:13.355\",\"2023-10-29 09:06:16.952\",\"2023-10-29 09:07:19.705\",\"2023-10-29 09:08:23.348\",\"2023-10-29 09:09:26.944\",\"2023-10-29 09:10:30.074\",\"2023-10-29 09:11:33.714\",\"2023-10-29 09:12:37.380\",\"2023-10-29 09:13:41.328\",\"2023-10-29 09:14:45.348\",\"2023-10-29 09:15:51.303\",\"2023-10-29 09:16:54.964\",\"2023-10-29 09:17:58.634\",\"2023-10-29 09:19:02.269\",\"2023-10-29 09:20:06.975\",\"2023-10-29 09:21:12.228\",\"2023-10-29 09:22:15.994\",\"2023-10-29 09:23:19.656\",\"2023-10-29 09:24:23.338\",\"2023-10-29 09:25:27.021\",\"2023-10-29 09:26:30.802\",\"2023-10-29 09:27:34.470\",\"2023-10-29 09:28:39.073\",\"2023-10-29 09:29:42.729\",\"2023-10-29 09:30:46.352\",\"2023-10-29 09:31:50.009\",\"2023-10-29 09:32:53.720\",\"2023-10-29 09:33:57.392\",\"2023-10-29 09:35:01.101\",\"2023-10-29 09:36:05.123\",\"2023-10-29 09:37:09.034\",\"2023-10-29 09:38:12.747\",\"2023-10-29 09:39:17.613\",\"2023-10-29 09:40:22.257\",\"2023-10-29 09:41:25.911\",\"2023-10-29 09:42:29.535\",\"2023-10-29 09:43:33.151\",\"2023-10-29 09:44:36.834\",\"2023-10-29 09:45:39.846\",\"2023-10-29 09:46:42.929\",\"2023-10-29 09:47:46.582\",\"2023-10-29 09:48:50.179\",\"2023-10-29 09:49:53.869\",\"2023-10-29 09:50:57.466\",\"2023-10-29 09:52:01.098\",\"2023-10-29 09:53:04.190\",\"2023-10-29 09:54:07.007\",\"2023-10-29 09:55:10.906\",\"2023-10-29 09:56:14.475\",\"2023-10-29 09:57:18.157\",\"2023-10-29 09:58:21.741\",\"2023-10-29 09:59:25.436\",\"2023-10-29 10:00:30.304\",\"2023-10-29 10:01:33.977\",\"2023-10-29 10:02:37.620\",\"2023-10-29 10:03:40.782\",\"2023-10-29 10:04:43.505\",\"2023-10-29 10:05:47.140\",\"2023-10-29 10:06:50.845\",\"2023-10-29 10:07:54.411\",\"2023-10-29 10:08:58.247\",\"2023-10-29 10:10:02.172\",\"2023-10-29 10:11:06.815\",\"2023-10-29 10:12:09.668\",\"2023-10-29 10:13:13.301\",\"2023-10-29 10:14:16.379\",\"2023-10-29 10:15:19.172\",\"2023-10-29 10:16:22.224\",\"2023-10-29 10:17:25.824\",\"2023-10-29 10:18:29.452\",\"2023-10-29 10:19:32.510\",\"2023-10-29 10:20:37.111\",\"2023-10-29 10:21:40.737\",\"2023-10-29 10:22:44.964\",\"2023-10-29 10:23:49.009\",\"2023-10-29 10:24:53.760\",\"2023-10-29 10:25:57.396\",\"2023-10-29 10:27:01.079\",\"2023-10-29 10:28:04.780\",\"2023-10-29 10:29:08.487\",\"2023-10-29 10:30:12.171\",\"2023-10-29 10:31:15.806\",\"2023-10-29 10:32:19.428\",\"2023-10-29 10:33:23.072\",\"2023-10-29 10:34:26.706\",\"2023-10-29 10:35:29.730\",\"2023-10-29 10:36:33.427\",\"2023-10-29 10:37:37.185\",\"2023-10-29 10:38:40.760\",\"2023-10-29 10:39:44.390\",\"2023-10-29 10:40:47.175\",\"2023-10-29 10:41:50.826\",\"2023-10-29 10:42:54.695\",\"2023-10-29 10:43:58.472\",\"2023-10-29 10:45:02.209\",\"2023-10-29 10:46:05.321\",\"2023-10-29 10:47:09.068\",\"2023-10-29 10:48:12.928\",\"2023-10-29 10:49:16.038\",\"2023-10-29 10:50:20.176\",\"2023-10-29 10:51:23.798\",\"2023-10-29 10:52:27.472\",\"2023-10-29 10:53:31.112\",\"2023-10-29 10:54:33.860\",\"2023-10-29 10:55:37.431\",\"2023-10-29 10:56:42.246\",\"2023-10-29 10:57:45.873\",\"2023-10-29 10:58:49\",\"2023-10-29 10:59:52.846\",\"2023-10-29 11:00:56.482\",\"2023-10-29 11:01:59.541\",\"2023-10-29 11:03:03.180\",\"2023-10-29 11:04:06.903\",\"2023-10-29 11:05:10.608\",\"2023-10-29 11:06:14.398\",\"2023-10-29 11:07:18.351\",\"2023-10-29 11:08:21.955\",\"2023-10-29 11:09:25.558\",\"2023-10-29 11:10:29.520\",\"2023-10-29 11:11:33.163\",\"2023-10-29 11:12:36.870\",\"2023-10-29 11:13:40.477\",\"2023-10-29 11:14:44.159\",\"2023-10-29 11:15:47.857\",\"2023-10-29 11:16:51.472\",\"2023-10-29 11:17:55.163\",\"2023-10-29 11:19:00.194\",\"2023-10-29 11:20:05.417\",\"2023-10-29 11:21:09.045\",\"2023-10-29 11:22:12.767\",\"2023-10-29 11:23:15.833\",\"2023-10-29 11:24:19.469\",\"2023-10-29 11:25:22.317\",\"2023-10-29 11:26:25.089\",\"2023-10-29 11:27:28.764\",\"2023-10-29 11:28:32.479\",\"2023-10-29 11:29:35.220\",\"2023-10-29 11:30:39.097\",\"2023-10-29 11:31:42.151\",\"2023-10-29 11:32:45.801\",\"2023-10-29 11:33:48.971\",\"2023-10-29 11:34:52.746\",\"2023-10-29 11:35:56.401\",\"2023-10-29 11:37:00.041\",\"2023-10-29 11:38:03.758\",\"2023-10-29 11:39:07.428\",\"2023-10-29 11:40:11.469\",\"2023-10-29 11:41:15.068\",\"2023-10-29 11:42:18.697\",\"2023-10-29 11:43:22.278\",\"2023-10-29 11:44:25.887\",\"2023-10-29 11:45:29.531\",\"2023-10-29 11:46:33.210\",\"2023-10-29 11:47:38.981\",\"2023-10-29 11:48:42.686\",\"2023-10-29 11:49:45.718\",\"2023-10-29 11:50:49.464\",\"2023-10-29 11:51:53.185\",\"2023-10-29 11:52:56.815\",\"2023-10-29 11:54:00.514\",\"2023-10-29 11:55:04.222\",\"2023-10-29 11:56:07.955\",\"2023-10-29 11:57:11.671\",\"2023-10-29 11:58:15.381\",\"2023-10-29 11:59:18.560\",\"2023-10-29 12:00:22.519\",\"2023-10-29 12:01:26.139\",\"2023-10-29 12:02:30.083\",\"2023-10-29 12:03:33.727\",\"2023-10-29 12:04:38.266\",\"2023-10-29 12:05:41.899\",\"2023-10-29 12:06:45.520\",\"2023-10-29 12:07:49.130\",\"2023-10-29 12:08:52.702\",\"2023-10-29 12:09:55.804\",\"2023-10-29 12:10:59.870\",\"2023-10-29 12:12:03.480\",\"2023-10-29 12:13:07.782\",\"2023-10-29 12:14:13.019\",\"2023-10-29 12:15:16.831\",\"2023-10-29 12:16:20.429\",\"2023-10-29 12:17:25.330\",\"2023-10-29 12:18:28.128\",\"2023-10-29 12:19:32.213\",\"2023-10-29 12:20:37.278\",\"2023-10-29 12:21:40.119\",\"2023-10-29 12:22:43.767\",\"2023-10-29 12:23:47.413\",\"2023-10-29 12:24:51.042\",\"2023-10-29 12:25:54.692\",\"2023-10-29 12:26:58.317\",\"2023-10-29 12:28:01.970\",\"2023-10-29 12:29:05.715\",\"2023-10-29 12:30:09.387\",\"2023-10-29 12:31:13.053\",\"2023-10-29 12:32:16.760\",\"2023-10-29 12:33:20.466\",\"2023-10-29 12:34:24.114\",\"2023-10-29 12:35:26.868\",\"2023-10-29 12:36:30.504\",\"2023-10-29 12:38:42.175\",\"2023-10-29 12:39:45.674\",\"2023-10-29 12:40:48.709\",\"2023-10-29 12:41:52.476\",\"2023-10-29 12:42:54.603\",\"2023-10-29 12:43:58.233\",\"2023-10-29 12:45:01.882\",\"2023-10-29 12:46:05.526\",\"2023-10-29 12:47:09.090\",\"2023-10-29 12:48:11.831\",\"2023-10-29 12:49:14.881\",\"2023-10-29 12:50:17.588\",\"2023-10-29 12:51:21.254\",\"2023-10-29 12:52:24.891\",\"2023-10-29 12:53:28.509\",\"2023-10-29 12:54:32.161\",\"2023-10-29 12:55:35.744\",\"2023-10-29 12:56:38.826\",\"2023-10-29 12:57:41.045\",\"2023-10-29 12:58:43.230\",\"2023-10-29 12:59:46.930\",\"2023-10-29 13:00:49.728\",\"2023-10-29 13:02:25.137\",\"2023-10-29 13:03:27.225\",\"2023-10-29 13:04:31.059\",\"2023-10-29 13:05:33.824\",\"2023-10-29 13:06:39.933\",\"2023-10-29 13:07:43.720\",\"2023-10-29 13:08:47.351\",\"2023-10-29 13:09:51.033\",\"2023-10-29 13:10:54.735\",\"2023-10-29 13:11:58.372\",\"2023-10-29 13:13:37.186\",\"2023-10-29 13:14:42.467\",\"2023-10-29 13:15:47.359\",\"2023-10-29 13:16:52.042\",\"2023-10-29 13:17:56.867\",\"2023-10-29 13:19:01.499\",\"2023-10-29 13:20:04.709\",\"2023-10-29 13:21:09.375\",\"2023-10-29 13:22:14.052\",\"2023-10-29 13:23:19.246\",\"2023-10-29 13:24:22.305\",\"2023-10-29 13:25:25.226\",\"2023-10-29 13:26:28.077\",\"2023-10-29 13:27:31.708\",\"2023-10-29 13:28:35.387\",\"2023-10-29 13:30:36.094\",\"2023-10-29 13:31:39.524\",\"2023-10-29 13:32:43.180\",\"2023-10-29 13:33:49.810\",\"2023-10-29 13:34:54.688\",\"2023-10-29 13:36:01.259\",\"2023-10-29 13:37:04.915\",\"2023-10-29 13:38:08.721\",\"2023-10-29 13:39:11.528\",\"2023-10-29 13:40:13.702\",\"2023-10-29 13:41:16.794\",\"2023-10-29 13:42:20.486\",\"2023-10-29 13:43:24.525\",\"2023-10-29 13:44:31.090\",\"2023-10-29 13:45:36.757\",\"2023-10-29 13:46:42.384\",\"2023-10-29 13:47:47.506\",\"2023-10-29 13:48:52.223\",\"2023-10-29 13:49:55.831\",\"2023-10-29 13:51:22.280\",\"2023-10-29 13:52:28.140\",\"2023-10-29 13:53:32.862\",\"2023-10-29 13:54:36.529\",\"2023-10-29 13:55:41.751\",\"2023-10-29 13:56:48.509\",\"2023-10-29 13:57:52.208\",\"2023-10-29 13:58:54.410\",\"2023-10-29 13:59:58.053\",\"2023-10-29 14:01:02.796\",\"2023-10-29 14:02:07.490\",\"2023-10-29 14:03:14.297\",\"2023-10-29 14:04:18.073\",\"2023-10-29 14:05:21.900\",\"2023-10-29 14:06:25.572\",\"2023-10-29 14:07:29.206\",\"2023-10-29 14:08:33.002\",\"2023-10-29 14:09:36.687\",\"2023-10-29 14:10:43.362\",\"2023-10-29 14:11:46.996\",\"2023-10-29 14:12:50.683\",\"2023-10-29 14:13:54.567\",\"2023-10-29 14:14:58.190\",\"2023-10-29 14:17:16.390\",\"2023-10-29 14:18:18.396\",\"2023-10-29 14:19:22.374\",\"2023-10-29 14:20:25.987\",\"2023-10-29 14:21:29.609\",\"2023-10-29 14:22:33.234\",\"2023-10-29 14:23:36.918\",\"2023-10-29 14:24:40.839\",\"2023-10-29 14:25:44.424\",\"2023-10-29 14:26:49.081\",\"2023-10-29 14:27:52.707\",\"2023-10-29 14:28:56.319\",\"2023-10-29 14:29:59.949\",\"2023-10-29 14:31:03.640\",\"2023-10-29 14:32:05.910\",\"2023-10-29 14:33:09.598\",\"2023-10-29 14:34:12.671\",\"2023-10-29 14:35:17.395\",\"2023-10-29 14:36:21.996\",\"2023-10-29 14:37:26.719\",\"2023-10-29 14:38:32.825\",\"2023-10-29 14:39:35.546\",\"2023-10-29 14:40:39.191\",\"2023-10-29 14:41:42.906\",\"2023-10-29 14:42:46.805\",\"2023-10-29 14:43:50.379\",\"2023-10-29 14:44:54.010\",\"2023-10-29 14:46:00.149\",\"2023-10-29 14:47:03.779\",\"2023-10-29 14:48:07.481\",\"2023-10-29 14:49:10.594\",\"2023-10-29 14:50:13.807\",\"2023-10-29 14:51:17.592\",\"2023-10-29 14:52:21.227\",\"2023-10-29 14:53:23.992\",\"2023-10-29 14:54:29.707\",\"2023-10-29 14:55:32.474\",\"2023-10-29 14:56:35.773\",\"2023-10-29 14:57:38.489\",\"2023-10-29 14:58:42.167\",\"2023-10-29 14:59:44.358\",\"2023-10-29 15:00:48.075\",\"2023-10-29 15:01:51.303\",\"2023-10-29 15:02:54.393\",\"2023-10-29 15:03:58.272\",\"2023-10-29 15:05:02.076\",\"2023-10-29 15:06:06.091\",\"2023-10-29 15:07:11.962\",\"2023-10-29 15:08:14.819\",\"2023-10-29 15:09:18.544\",\"2023-10-29 15:10:21.608\",\"2023-10-29 15:11:24.416\",\"2023-10-29 15:12:28.051\",\"2023-10-29 15:13:31.680\",\"2023-10-29 15:14:35.440\",\"2023-10-29 15:15:39.115\",\"2023-10-29 15:16:42.784\",\"2023-10-29 15:17:46.401\",\"2023-10-29 15:18:51.076\",\"2023-10-29 15:19:57.086\",\"2023-10-29 15:21:00.837\",\"2023-10-29 15:22:03.906\",\"2023-10-29 15:23:07.622\",\"2023-10-29 15:24:11.270\",\"2023-10-29 15:25:14.874\",\"2023-10-29 15:26:18.508\",\"2023-10-29 15:27:21.267\",\"2023-10-29 15:28:24.060\",\"2023-10-29 15:29:27.706\",\"2023-10-29 15:30:33.172\",\"2023-10-29 15:31:36.881\",\"2023-10-29 15:32:39.761\",\"2023-10-29 15:33:43.949\",\"2023-10-29 15:34:47.584\",\"2023-10-29 15:35:51.289\",\"2023-10-29 15:36:58.128\",\"2023-10-29 15:38:01.912\",\"2023-10-29 15:39:05.234\",\"2023-10-29 15:40:08.859\",\"2023-10-29 15:41:11.975\",\"2023-10-29 15:42:15.623\",\"2023-10-29 15:44:30.587\",\"2023-10-29 15:45:34.097\",\"2023-10-29 15:46:37.007\",\"2023-10-29 15:47:40.855\",\"2023-10-29 15:48:44.955\",\"2023-10-29 15:49:48.794\",\"2023-10-29 15:50:52.613\",\"2023-10-29 15:51:56.333\",\"2023-10-29 15:53:01.973\",\"2023-10-29 15:54:04.362\",\"2023-10-29 15:55:07.691\",\"2023-10-29 15:56:11.554\",\"2023-10-29 15:57:14.663\",\"2023-10-29 15:58:18.370\",\"2023-10-29 15:59:22.073\",\"2023-10-29 16:00:25.892\",\"2023-10-29 16:01:29.676\",\"2023-10-29 16:02:32.869\",\"2023-10-29 16:03:36.681\",\"2023-10-29 16:04:43.177\",\"2023-10-29 16:05:46.859\"],\"xaxis\":\"x\",\"y\":[0,1,0,-1,1,0,0,-1,-1,-1,-1,-1,-1,1,-1,0,0,1,1,0,0,-1,-2,0,-1,1,-1,0,0,-1,-1,-1,0,0,1,1,-1,1,-2,-2,1,1,0,1,0,1,1,1,0,1,1,1,0,1,1,2,1,1,1,0,0,0,1,0,1,0,1,1,2,1,-2,1,-1,1,1,1,1,-1,1,-1,1,0,-2,0,1,1,1,1,-1,1,-1,1,0,-1,1,1,-1,1,1,2,1,1,1,-1,-1,-1,0,-1,0,-1,-1,0,0,0,0,1,-1,0,-1,-1,1,1,1,1,1,1,0,1,-1,-2,0,1,1,1,1,-1,-1,-1,-1,-1,-1,-1,0,0,0,-1,-1,-1,-2,0,0,1,1,1,-1,-1,-1,-1,-1,-1,1,-1,1,0,-1,0,0,0,0,0,-1,0,1,1,1,0,1,1,0,1,1,1,-1,-1,-1,0,-1,1,-1,0,0,1,1,1,1,0,0,0,1,1,0,0,0,1,0,0,0,0,-1,0,-1,-1,0,-1,-1,-2,0,0,0,0,-1,0,0,-1,0,0,-1,-1,-2,-1,-1,0,-1,-1,0,-1,0,0,0,-1,0,0,-1,0,0,0,0,-1,0,0,-1,0,-1,-1,-1,0,-1,-1,-1,-1,0,1,-1,0,0,0,0,-1,-1,-1,-1,0,0,0,-1,-1,-1,-1,-1,-1,-1,0,-1,0,-1,-1,0,0,0,0,0,0,-1,-1,-1,-1,-1,-1,-1,0,1,-1,-1,-1,-1,0,0,-1,-1,0,1,0,0,0,0,0,0,1,0,-1,0,1,0,-1,-1,-1,-2,-1,1,1,0,0,0,1,0,0,0,-1,-1,1,-1,1,1,-2,1,-1,1,-1,-1,-1,-1,-1,0,-1,-1,0,-1,1,0,0,0,1,0,1,0,0,1,-1,-1,0,1,0,1,0,-1,0,0,0,0,1,1,0,0,0,0,1,1,0,1,0,-1,-1,0,0,0,0,1,0,0,1,0,-1,-1,0,-1,0,0,-1,0,1,0,1,1,-1,-1,-1,-1,-1,-1,0,-1,0,-1,-1,-1,-1,0,0,0,0,0,-1,-1,-1,-1,0,0,-1,0,-1,-1,-1,0,-2,0,1,-1,0,-1,0,-1,1,-1,-1,0,1,-1,1,-1,-1,-1,1,1,-1,1,1,0,1,0,0,-1,0,-1,1,0,-1,1,1,0,1,1,0,1,1,1,1,0,0,0,0,1,1,1,0,1,0,-1,0,-1,-1,0,0,-1,-1,0,1,1,0,0,-1,-1,0,1,1,0,0,1,1,-1,-1,0,0,0,-1,0,0,1,-1,1,0,1,-1,0,-1,-1,1,0,0,1,0,0,0,0,0,0,0,0,0,0,-1,-1,-1,-1,0,0,1,0,-1,-1,-1,0,-1,0,1,0,0,0,0,0,0,0,0,-1,0,0,0,-1,0,0,0,-1,0,0,0,-1,1,0,0,0,1,-1,0,1,1,0,1,0,0,0,-1,0,-2,0,0,-1,0,-1,-1,-2,-2,0,-1,-1,1,-1,-1,-1,-1,-1,-1,-1,-1,-1,-1,-1,-1,-1,-1,-1,0,-1,-1,-1,0,-1,-1,-1,-1,0,0,0,0,-1,0,0,0,-1,0,0,0,0,0,-1,-1,-1,-1,-1,0,0,0,0,1,0,1,0,0,-1,1,1,-1,1,1,-1,0,0,-1,-1,-1,1,0,1,0,-1,-1,1,0,-1,-1,-1,-1,-1,0,-1,0,1,1,0,0,0,0,-1,-1,-1,-1,-1,-1,-1,0,-1,1,0,0,-1,-1,-1,-1,-1,0,1,1,1,0,1,0,-1,-1,1,1,0,1,1,1,0,0,-1,0,0,0,-1,1,0,-1,0,0,1,-1,-1,-1,-1,0,-1,-1,1,-1,-1,-1,-1,-1,-1,0,0,0,-1,-1,2,0,1,0,1,1,0,1,0,1,1,1,0,1,1,1,-1,0,-1,0,0,1,-1,0,-1,0,0,0,0,0,1,1,1,2,1,1,1,1,1,1,-1,-1,-1,-1,-1,-1,-1,-1,-1,-1,-1,-1,-2,-1,-1,-1,1,0,1,1,1,1,0,1,0,1,-1,1,0,1,1,1,1,1,1,1,2,1,1,1,1,1,2,1,1,-1,0,1,0,1,1,0,0,1,1,1,1,2,0,1,1,1,1,1,1,1,1,1,-1,1,1,1,1,-1,0,1,1,0,2,1,1,1,2,1,1,1,1,2,1,1,1,1,2,1,1,0,1,-1,1],\"yaxis\":\"y\",\"type\":\"bar\"}],                        {\"template\":{\"data\":{\"histogram2dcontour\":[{\"type\":\"histogram2dcontour\",\"colorbar\":{\"outlinewidth\":0,\"ticks\":\"\"},\"colorscale\":[[0.0,\"#0d0887\"],[0.1111111111111111,\"#46039f\"],[0.2222222222222222,\"#7201a8\"],[0.3333333333333333,\"#9c179e\"],[0.4444444444444444,\"#bd3786\"],[0.5555555555555556,\"#d8576b\"],[0.6666666666666666,\"#ed7953\"],[0.7777777777777778,\"#fb9f3a\"],[0.8888888888888888,\"#fdca26\"],[1.0,\"#f0f921\"]]}],\"choropleth\":[{\"type\":\"choropleth\",\"colorbar\":{\"outlinewidth\":0,\"ticks\":\"\"}}],\"histogram2d\":[{\"type\":\"histogram2d\",\"colorbar\":{\"outlinewidth\":0,\"ticks\":\"\"},\"colorscale\":[[0.0,\"#0d0887\"],[0.1111111111111111,\"#46039f\"],[0.2222222222222222,\"#7201a8\"],[0.3333333333333333,\"#9c179e\"],[0.4444444444444444,\"#bd3786\"],[0.5555555555555556,\"#d8576b\"],[0.6666666666666666,\"#ed7953\"],[0.7777777777777778,\"#fb9f3a\"],[0.8888888888888888,\"#fdca26\"],[1.0,\"#f0f921\"]]}],\"heatmap\":[{\"type\":\"heatmap\",\"colorbar\":{\"outlinewidth\":0,\"ticks\":\"\"},\"colorscale\":[[0.0,\"#0d0887\"],[0.1111111111111111,\"#46039f\"],[0.2222222222222222,\"#7201a8\"],[0.3333333333333333,\"#9c179e\"],[0.4444444444444444,\"#bd3786\"],[0.5555555555555556,\"#d8576b\"],[0.6666666666666666,\"#ed7953\"],[0.7777777777777778,\"#fb9f3a\"],[0.8888888888888888,\"#fdca26\"],[1.0,\"#f0f921\"]]}],\"heatmapgl\":[{\"type\":\"heatmapgl\",\"colorbar\":{\"outlinewidth\":0,\"ticks\":\"\"},\"colorscale\":[[0.0,\"#0d0887\"],[0.1111111111111111,\"#46039f\"],[0.2222222222222222,\"#7201a8\"],[0.3333333333333333,\"#9c179e\"],[0.4444444444444444,\"#bd3786\"],[0.5555555555555556,\"#d8576b\"],[0.6666666666666666,\"#ed7953\"],[0.7777777777777778,\"#fb9f3a\"],[0.8888888888888888,\"#fdca26\"],[1.0,\"#f0f921\"]]}],\"contourcarpet\":[{\"type\":\"contourcarpet\",\"colorbar\":{\"outlinewidth\":0,\"ticks\":\"\"}}],\"contour\":[{\"type\":\"contour\",\"colorbar\":{\"outlinewidth\":0,\"ticks\":\"\"},\"colorscale\":[[0.0,\"#0d0887\"],[0.1111111111111111,\"#46039f\"],[0.2222222222222222,\"#7201a8\"],[0.3333333333333333,\"#9c179e\"],[0.4444444444444444,\"#bd3786\"],[0.5555555555555556,\"#d8576b\"],[0.6666666666666666,\"#ed7953\"],[0.7777777777777778,\"#fb9f3a\"],[0.8888888888888888,\"#fdca26\"],[1.0,\"#f0f921\"]]}],\"surface\":[{\"type\":\"surface\",\"colorbar\":{\"outlinewidth\":0,\"ticks\":\"\"},\"colorscale\":[[0.0,\"#0d0887\"],[0.1111111111111111,\"#46039f\"],[0.2222222222222222,\"#7201a8\"],[0.3333333333333333,\"#9c179e\"],[0.4444444444444444,\"#bd3786\"],[0.5555555555555556,\"#d8576b\"],[0.6666666666666666,\"#ed7953\"],[0.7777777777777778,\"#fb9f3a\"],[0.8888888888888888,\"#fdca26\"],[1.0,\"#f0f921\"]]}],\"mesh3d\":[{\"type\":\"mesh3d\",\"colorbar\":{\"outlinewidth\":0,\"ticks\":\"\"}}],\"scatter\":[{\"fillpattern\":{\"fillmode\":\"overlay\",\"size\":10,\"solidity\":0.2},\"type\":\"scatter\"}],\"parcoords\":[{\"type\":\"parcoords\",\"line\":{\"colorbar\":{\"outlinewidth\":0,\"ticks\":\"\"}}}],\"scatterpolargl\":[{\"type\":\"scatterpolargl\",\"marker\":{\"colorbar\":{\"outlinewidth\":0,\"ticks\":\"\"}}}],\"bar\":[{\"error_x\":{\"color\":\"#2a3f5f\"},\"error_y\":{\"color\":\"#2a3f5f\"},\"marker\":{\"line\":{\"color\":\"#E5ECF6\",\"width\":0.5},\"pattern\":{\"fillmode\":\"overlay\",\"size\":10,\"solidity\":0.2}},\"type\":\"bar\"}],\"scattergeo\":[{\"type\":\"scattergeo\",\"marker\":{\"colorbar\":{\"outlinewidth\":0,\"ticks\":\"\"}}}],\"scatterpolar\":[{\"type\":\"scatterpolar\",\"marker\":{\"colorbar\":{\"outlinewidth\":0,\"ticks\":\"\"}}}],\"histogram\":[{\"marker\":{\"pattern\":{\"fillmode\":\"overlay\",\"size\":10,\"solidity\":0.2}},\"type\":\"histogram\"}],\"scattergl\":[{\"type\":\"scattergl\",\"marker\":{\"colorbar\":{\"outlinewidth\":0,\"ticks\":\"\"}}}],\"scatter3d\":[{\"type\":\"scatter3d\",\"line\":{\"colorbar\":{\"outlinewidth\":0,\"ticks\":\"\"}},\"marker\":{\"colorbar\":{\"outlinewidth\":0,\"ticks\":\"\"}}}],\"scattermapbox\":[{\"type\":\"scattermapbox\",\"marker\":{\"colorbar\":{\"outlinewidth\":0,\"ticks\":\"\"}}}],\"scatterternary\":[{\"type\":\"scatterternary\",\"marker\":{\"colorbar\":{\"outlinewidth\":0,\"ticks\":\"\"}}}],\"scattercarpet\":[{\"type\":\"scattercarpet\",\"marker\":{\"colorbar\":{\"outlinewidth\":0,\"ticks\":\"\"}}}],\"carpet\":[{\"aaxis\":{\"endlinecolor\":\"#2a3f5f\",\"gridcolor\":\"white\",\"linecolor\":\"white\",\"minorgridcolor\":\"white\",\"startlinecolor\":\"#2a3f5f\"},\"baxis\":{\"endlinecolor\":\"#2a3f5f\",\"gridcolor\":\"white\",\"linecolor\":\"white\",\"minorgridcolor\":\"white\",\"startlinecolor\":\"#2a3f5f\"},\"type\":\"carpet\"}],\"table\":[{\"cells\":{\"fill\":{\"color\":\"#EBF0F8\"},\"line\":{\"color\":\"white\"}},\"header\":{\"fill\":{\"color\":\"#C8D4E3\"},\"line\":{\"color\":\"white\"}},\"type\":\"table\"}],\"barpolar\":[{\"marker\":{\"line\":{\"color\":\"#E5ECF6\",\"width\":0.5},\"pattern\":{\"fillmode\":\"overlay\",\"size\":10,\"solidity\":0.2}},\"type\":\"barpolar\"}],\"pie\":[{\"automargin\":true,\"type\":\"pie\"}]},\"layout\":{\"autotypenumbers\":\"strict\",\"colorway\":[\"#636efa\",\"#EF553B\",\"#00cc96\",\"#ab63fa\",\"#FFA15A\",\"#19d3f3\",\"#FF6692\",\"#B6E880\",\"#FF97FF\",\"#FECB52\"],\"font\":{\"color\":\"#2a3f5f\"},\"hovermode\":\"closest\",\"hoverlabel\":{\"align\":\"left\"},\"paper_bgcolor\":\"white\",\"plot_bgcolor\":\"#E5ECF6\",\"polar\":{\"bgcolor\":\"#E5ECF6\",\"angularaxis\":{\"gridcolor\":\"white\",\"linecolor\":\"white\",\"ticks\":\"\"},\"radialaxis\":{\"gridcolor\":\"white\",\"linecolor\":\"white\",\"ticks\":\"\"}},\"ternary\":{\"bgcolor\":\"#E5ECF6\",\"aaxis\":{\"gridcolor\":\"white\",\"linecolor\":\"white\",\"ticks\":\"\"},\"baxis\":{\"gridcolor\":\"white\",\"linecolor\":\"white\",\"ticks\":\"\"},\"caxis\":{\"gridcolor\":\"white\",\"linecolor\":\"white\",\"ticks\":\"\"}},\"coloraxis\":{\"colorbar\":{\"outlinewidth\":0,\"ticks\":\"\"}},\"colorscale\":{\"sequential\":[[0.0,\"#0d0887\"],[0.1111111111111111,\"#46039f\"],[0.2222222222222222,\"#7201a8\"],[0.3333333333333333,\"#9c179e\"],[0.4444444444444444,\"#bd3786\"],[0.5555555555555556,\"#d8576b\"],[0.6666666666666666,\"#ed7953\"],[0.7777777777777778,\"#fb9f3a\"],[0.8888888888888888,\"#fdca26\"],[1.0,\"#f0f921\"]],\"sequentialminus\":[[0.0,\"#0d0887\"],[0.1111111111111111,\"#46039f\"],[0.2222222222222222,\"#7201a8\"],[0.3333333333333333,\"#9c179e\"],[0.4444444444444444,\"#bd3786\"],[0.5555555555555556,\"#d8576b\"],[0.6666666666666666,\"#ed7953\"],[0.7777777777777778,\"#fb9f3a\"],[0.8888888888888888,\"#fdca26\"],[1.0,\"#f0f921\"]],\"diverging\":[[0,\"#8e0152\"],[0.1,\"#c51b7d\"],[0.2,\"#de77ae\"],[0.3,\"#f1b6da\"],[0.4,\"#fde0ef\"],[0.5,\"#f7f7f7\"],[0.6,\"#e6f5d0\"],[0.7,\"#b8e186\"],[0.8,\"#7fbc41\"],[0.9,\"#4d9221\"],[1,\"#276419\"]]},\"xaxis\":{\"gridcolor\":\"white\",\"linecolor\":\"white\",\"ticks\":\"\",\"title\":{\"standoff\":15},\"zerolinecolor\":\"white\",\"automargin\":true,\"zerolinewidth\":2},\"yaxis\":{\"gridcolor\":\"white\",\"linecolor\":\"white\",\"ticks\":\"\",\"title\":{\"standoff\":15},\"zerolinecolor\":\"white\",\"automargin\":true,\"zerolinewidth\":2},\"scene\":{\"xaxis\":{\"backgroundcolor\":\"#E5ECF6\",\"gridcolor\":\"white\",\"linecolor\":\"white\",\"showbackground\":true,\"ticks\":\"\",\"zerolinecolor\":\"white\",\"gridwidth\":2},\"yaxis\":{\"backgroundcolor\":\"#E5ECF6\",\"gridcolor\":\"white\",\"linecolor\":\"white\",\"showbackground\":true,\"ticks\":\"\",\"zerolinecolor\":\"white\",\"gridwidth\":2},\"zaxis\":{\"backgroundcolor\":\"#E5ECF6\",\"gridcolor\":\"white\",\"linecolor\":\"white\",\"showbackground\":true,\"ticks\":\"\",\"zerolinecolor\":\"white\",\"gridwidth\":2}},\"shapedefaults\":{\"line\":{\"color\":\"#2a3f5f\"}},\"annotationdefaults\":{\"arrowcolor\":\"#2a3f5f\",\"arrowhead\":0,\"arrowwidth\":1},\"geo\":{\"bgcolor\":\"white\",\"landcolor\":\"#E5ECF6\",\"subunitcolor\":\"white\",\"showland\":true,\"showlakes\":true,\"lakecolor\":\"white\"},\"title\":{\"x\":0.05},\"mapbox\":{\"style\":\"light\"}}},\"xaxis\":{\"anchor\":\"y\",\"domain\":[0.0,1.0],\"title\":{\"text\":\"time\"}},\"yaxis\":{\"anchor\":\"x\",\"domain\":[0.0,1.0],\"title\":{\"text\":\"predicted - actual\"}},\"legend\":{\"tracegroupgap\":0},\"title\":{\"text\":\"Predicted and actual signal difference. diff = predicted - actual\"},\"barmode\":\"relative\"},                        {\"responsive\": true}                    ).then(function(){\n",
       "                            \n",
       "var gd = document.getElementById('8f78549e-535a-4229-9cdd-a033bd1bbe34');\n",
       "var x = new MutationObserver(function (mutations, observer) {{\n",
       "        var display = window.getComputedStyle(gd).display;\n",
       "        if (!display || display === 'none') {{\n",
       "            console.log([gd, 'removed!']);\n",
       "            Plotly.purge(gd);\n",
       "            observer.disconnect();\n",
       "        }}\n",
       "}});\n",
       "\n",
       "// Listen for the removal of the full notebook cells\n",
       "var notebookContainer = gd.closest('#notebook-container');\n",
       "if (notebookContainer) {{\n",
       "    x.observe(notebookContainer, {childList: true});\n",
       "}}\n",
       "\n",
       "// Listen for the clearing of the current output cell\n",
       "var outputEl = gd.closest('.output');\n",
       "if (outputEl) {{\n",
       "    x.observe(outputEl, {childList: true});\n",
       "}}\n",
       "\n",
       "                        })                };                });            </script>        </div>"
      ]
     },
     "metadata": {},
     "output_type": "display_data"
    }
   ],
   "source": [
    "import plotly.express as px\n",
    "px.bar(x=y.index, \n",
    "    y=y['signal_pred']-y['signal_actual'], \n",
    "    title='Predicted and actual signal difference. diff = predicted - actual',\n",
    "    labels = {'x': 'time', 'y':'predicted - actual'}\n",
    "      ).show()"
   ]
  }
 ],
 "metadata": {
  "kernelspec": {
   "display_name": "Python 3 (ipykernel)",
   "language": "python",
   "name": "python3"
  },
  "language_info": {
   "codemirror_mode": {
    "name": "ipython",
    "version": 3
   },
   "file_extension": ".py",
   "mimetype": "text/x-python",
   "name": "python",
   "nbconvert_exporter": "python",
   "pygments_lexer": "ipython3",
   "version": "3.8.10"
  }
 },
 "nbformat": 4,
 "nbformat_minor": 4
}
